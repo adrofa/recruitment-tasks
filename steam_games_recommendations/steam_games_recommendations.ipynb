{
 "cells": [
  {
   "cell_type": "markdown",
   "metadata": {
    "toc": true
   },
   "source": [
    "<h1>Table of Contents<span class=\"tocSkip\"></span></h1>\n",
    "<div class=\"toc\"><ul class=\"toc-item\"><li><span><a href=\"#User-Game-Matrix\" data-toc-modified-id=\"User-Game-Matrix-1\"><span class=\"toc-item-num\">1&nbsp;&nbsp;</span>User-Game Matrix</a></span></li><li><span><a href=\"#Association-Rules\" data-toc-modified-id=\"Association-Rules-2\"><span class=\"toc-item-num\">2&nbsp;&nbsp;</span>Association Rules</a></span><ul class=\"toc-item\"><li><span><a href=\"#Association-Rules---Solution\" data-toc-modified-id=\"Association-Rules---Solution-2.1\"><span class=\"toc-item-num\">2.1&nbsp;&nbsp;</span><font color=\"blue\">Association Rules - Solution</font></a></span><ul class=\"toc-item\"><li><span><a href=\"#Metrics-Functions\" data-toc-modified-id=\"Metrics-Functions-2.1.1\"><span class=\"toc-item-num\">2.1.1&nbsp;&nbsp;</span><font color=\"blue\">Metrics Functions</font></a></span></li><li><span><a href=\"#Recommender-Function\" data-toc-modified-id=\"Recommender-Function-2.1.2\"><span class=\"toc-item-num\">2.1.2&nbsp;&nbsp;</span><font color=\"blue\">Recommender Function</font></a></span></li><li><span><a href=\"#Answers\" data-toc-modified-id=\"Answers-2.1.3\"><span class=\"toc-item-num\">2.1.3&nbsp;&nbsp;</span><font color=\"blue\">Answers</font></a></span><ul class=\"toc-item\"><li><span><a href=\"#Top-10-games-related-to-15130-(Beyond-Good-and-Evil)\" data-toc-modified-id=\"Top-10-games-related-to-15130-(Beyond-Good-and-Evil)-2.1.3.1\"><span class=\"toc-item-num\">2.1.3.1&nbsp;&nbsp;</span>Top 10 games related to 15130 (Beyond Good and Evil)</a></span></li><li><span><a href=\"#Top-10-games-related-to-620-(Portal-2)\" data-toc-modified-id=\"Top-10-games-related-to-620-(Portal-2)-2.1.3.2\"><span class=\"toc-item-num\">2.1.3.2&nbsp;&nbsp;</span>Top 10 games related to 620 (Portal 2)</a></span></li><li><span><a href=\"#Top-10-games-related-to-15130-(Beyond-Good-and-Evil)-and-620-(Portal-2)\" data-toc-modified-id=\"Top-10-games-related-to-15130-(Beyond-Good-and-Evil)-and-620-(Portal-2)-2.1.3.3\"><span class=\"toc-item-num\">2.1.3.3&nbsp;&nbsp;</span>Top 10 games related to 15130 (Beyond Good and Evil) and 620 (Portal 2)</a></span></li></ul></li></ul></li></ul></li><li><span><a href=\"#Content-Similarity\" data-toc-modified-id=\"Content-Similarity-3\"><span class=\"toc-item-num\">3&nbsp;&nbsp;</span>Content Similarity</a></span><ul class=\"toc-item\"><li><span><a href=\"#Content-Similarity---Solution\" data-toc-modified-id=\"Content-Similarity---Solution-3.1\"><span class=\"toc-item-num\">3.1&nbsp;&nbsp;</span><font color=\"blue\">Content Similarity - Solution</font></a></span><ul class=\"toc-item\"><li><span><a href=\"#Data-Exploration\" data-toc-modified-id=\"Data-Exploration-3.1.1\"><span class=\"toc-item-num\">3.1.1&nbsp;&nbsp;</span><font color=\"blue\">Data Exploration</font></a></span></li><li><span><a href=\"#Recommender-Function\" data-toc-modified-id=\"Recommender-Function-3.1.2\"><span class=\"toc-item-num\">3.1.2&nbsp;&nbsp;</span><font color=\"blue\">Recommender Function</font></a></span></li><li><span><a href=\"#Answers\" data-toc-modified-id=\"Answers-3.1.3\"><span class=\"toc-item-num\">3.1.3&nbsp;&nbsp;</span><font color=\"blue\">Answers</font></a></span><ul class=\"toc-item\"><li><span><a href=\"#Top-10-games-related-to-15130-(Beyond-Good-and-Evil)\" data-toc-modified-id=\"Top-10-games-related-to-15130-(Beyond-Good-and-Evil)-3.1.3.1\"><span class=\"toc-item-num\">3.1.3.1&nbsp;&nbsp;</span>Top 10 games related to 15130 (Beyond Good and Evil)</a></span></li><li><span><a href=\"#Top-10-games-related-to-620-(Portal-2)\" data-toc-modified-id=\"Top-10-games-related-to-620-(Portal-2)-3.1.3.2\"><span class=\"toc-item-num\">3.1.3.2&nbsp;&nbsp;</span>Top 10 games related to 620 (Portal 2)</a></span></li></ul></li></ul></li></ul></li><li><span><a href=\"#Collaborative-Filtering-Neighborhoods\" data-toc-modified-id=\"Collaborative-Filtering-Neighborhoods-4\"><span class=\"toc-item-num\">4&nbsp;&nbsp;</span>Collaborative Filtering Neighborhoods</a></span><ul class=\"toc-item\"><li><span><a href=\"#Collaborative-Filtering-Neighborhoods---Solution\" data-toc-modified-id=\"Collaborative-Filtering-Neighborhoods---Solution-4.1\"><span class=\"toc-item-num\">4.1&nbsp;&nbsp;</span><font color=\"blue\">Collaborative Filtering Neighborhoods - Solution</font></a></span><ul class=\"toc-item\"><li><span><a href=\"#Recommender-Function\" data-toc-modified-id=\"Recommender-Function-4.1.1\"><span class=\"toc-item-num\">4.1.1&nbsp;&nbsp;</span><font color=\"blue\">Recommender Function</font></a></span></li><li><span><a href=\"#Answers\" data-toc-modified-id=\"Answers-4.1.2\"><span class=\"toc-item-num\">4.1.2&nbsp;&nbsp;</span><font color=\"blue\">Answers</font></a></span><ul class=\"toc-item\"><li><span><a href=\"#Top-10-games-related-to-15130-(Beyond-Good-and-Evil)\" data-toc-modified-id=\"Top-10-games-related-to-15130-(Beyond-Good-and-Evil)-4.1.2.1\"><span class=\"toc-item-num\">4.1.2.1&nbsp;&nbsp;</span>Top 10 games related to 15130 (Beyond Good and Evil)</a></span></li><li><span><a href=\"#Top-10-games-related-to--620-(Portal-2)\" data-toc-modified-id=\"Top-10-games-related-to--620-(Portal-2)-4.1.2.2\"><span class=\"toc-item-num\">4.1.2.2&nbsp;&nbsp;</span>Top 10 games related to  620 (Portal 2)</a></span></li></ul></li></ul></li></ul></li><li><span><a href=\"#Personalization\" data-toc-modified-id=\"Personalization-5\"><span class=\"toc-item-num\">5&nbsp;&nbsp;</span>Personalization</a></span><ul class=\"toc-item\"><li><span><a href=\"#Personalization---Solution\" data-toc-modified-id=\"Personalization---Solution-5.1\"><span class=\"toc-item-num\">5.1&nbsp;&nbsp;</span><font color=\"blue\">Personalization - Solution</font></a></span><ul class=\"toc-item\"><li><span><a href=\"#Questions-Answers\" data-toc-modified-id=\"Questions-Answers-5.1.1\"><span class=\"toc-item-num\">5.1.1&nbsp;&nbsp;</span><font color=\"blue\">Questions Answers</font></a></span></li><li><span><a href=\"#Recommender-Function\" data-toc-modified-id=\"Recommender-Function-5.1.2\"><span class=\"toc-item-num\">5.1.2&nbsp;&nbsp;</span><font color=\"blue\">Recommender Function</font></a></span></li><li><span><a href=\"#Answers\" data-toc-modified-id=\"Answers-5.1.3\"><span class=\"toc-item-num\">5.1.3&nbsp;&nbsp;</span><font color=\"blue\">Answers</font></a></span><ul class=\"toc-item\"><li><span><a href=\"#User-1\" data-toc-modified-id=\"User-1-5.1.3.1\"><span class=\"toc-item-num\">5.1.3.1&nbsp;&nbsp;</span>User 1</a></span></li><li><span><a href=\"#User-2\" data-toc-modified-id=\"User-2-5.1.3.2\"><span class=\"toc-item-num\">5.1.3.2&nbsp;&nbsp;</span>User 2</a></span></li></ul></li></ul></li></ul></li><li><span><a href=\"#Time\" data-toc-modified-id=\"Time-6\"><span class=\"toc-item-num\">6&nbsp;&nbsp;</span><font color=\"blue\">Time</font></a></span></li></ul></div>"
   ]
  },
  {
   "cell_type": "code",
   "execution_count": 1,
   "metadata": {},
   "outputs": [],
   "source": [
    "import gzip\n",
    "\n",
    "import pandas as pd\n",
    "import numpy as np\n",
    "\n",
    "import matplotlib.pyplot as plt\n",
    "import seaborn as sns\n",
    "\n",
    "import scipy.sparse as sps\n",
    "import nltk\n",
    "\n",
    "from sklearn.feature_extraction.text import CountVectorizer, TfidfTransformer\n",
    "from sklearn.metrics.pairwise import cosine_similarity\n",
    "from sklearn.preprocessing import normalize\n",
    "\n",
    "from tqdm import tqdm_notebook as tqdm\n",
    "from IPython.core import display as ICD\n",
    "\n",
    "import datetime\n",
    "start_time = datetime.datetime.now()"
   ]
  },
  {
   "cell_type": "code",
   "execution_count": 2,
   "metadata": {},
   "outputs": [],
   "source": [
    "def expand_data(data_path):\n",
    "    with gzip.open(data_path, 'r') as data_file:\n",
    "        return pd.DataFrame([eval(line) for line in data_file])"
   ]
  },
  {
   "cell_type": "markdown",
   "metadata": {},
   "source": [
    "**Data Source: http://cseweb.ucsd.edu/~jmcauley/datasets.html#steam_data**"
   ]
  },
  {
   "cell_type": "markdown",
   "metadata": {},
   "source": [
    "<font color='blue'>user_games</font>"
   ]
  },
  {
   "cell_type": "code",
   "execution_count": 3,
   "metadata": {},
   "outputs": [],
   "source": [
    "items_path = 'australian_users_items.json.gz'"
   ]
  },
  {
   "cell_type": "code",
   "execution_count": 4,
   "metadata": {},
   "outputs": [
    {
     "name": "stdout",
     "output_type": "stream",
     "text": [
      "CPU times: user 1min 19s, sys: 2.42 s, total: 1min 21s\n",
      "Wall time: 1min 21s\n"
     ]
    }
   ],
   "source": [
    "%%time\n",
    "items = expand_data(items_path)"
   ]
  },
  {
   "cell_type": "code",
   "execution_count": 5,
   "metadata": {},
   "outputs": [],
   "source": [
    "def unpack_user_items(row):\n",
    "    \"Unpack items from the items in a user's row\"\n",
    "    # items is a series of lists - chain will make one long iterable\n",
    "    # convert this to a data frame\n",
    "    rdf = pd.DataFrame.from_records(row.items)\n",
    "    rdf['user_id'] = row.user_id\n",
    "    return rdf"
   ]
  },
  {
   "cell_type": "code",
   "execution_count": 6,
   "metadata": {},
   "outputs": [
    {
     "name": "stdout",
     "output_type": "stream",
     "text": [
      "CPU times: user 2min 24s, sys: 1.88 s, total: 2min 25s\n",
      "Wall time: 2min 25s\n"
     ]
    }
   ],
   "source": [
    "%%time\n",
    "user_games = pd.concat((unpack_user_items(row) for row in items.itertuples()),\n",
    "                       ignore_index=True, sort=False)"
   ]
  },
  {
   "cell_type": "code",
   "execution_count": 7,
   "metadata": {},
   "outputs": [],
   "source": [
    "user_games = user_games.drop_duplicates(subset=['user_id', 'item_id'])"
   ]
  },
  {
   "cell_type": "markdown",
   "metadata": {},
   "source": [
    "<font color='blue'>game_reviews</font>"
   ]
  },
  {
   "cell_type": "code",
   "execution_count": 8,
   "metadata": {},
   "outputs": [],
   "source": [
    "reviews_path = 'australian_user_reviews.json.gz'"
   ]
  },
  {
   "cell_type": "code",
   "execution_count": 9,
   "metadata": {},
   "outputs": [
    {
     "name": "stdout",
     "output_type": "stream",
     "text": [
      "CPU times: user 2.39 s, sys: 4.01 ms, total: 2.39 s\n",
      "Wall time: 2.4 s\n"
     ]
    }
   ],
   "source": [
    "%%time\n",
    "reviews = expand_data(reviews_path)"
   ]
  },
  {
   "cell_type": "code",
   "execution_count": 10,
   "metadata": {},
   "outputs": [],
   "source": [
    "reviews = reviews.drop_duplicates(subset='user_id')\n",
    "reviews = reviews[reviews['reviews'].apply(len) > 0]"
   ]
  },
  {
   "cell_type": "code",
   "execution_count": 11,
   "metadata": {},
   "outputs": [],
   "source": [
    "def unpack_user_reviews(row):\n",
    "    \"Unpack items from the items in a user's row\"\n",
    "    # items is a series of lists - chain will make one long iterable\n",
    "    # convert this to a data frame\n",
    "    rdf = pd.DataFrame.from_records(row.reviews)\n",
    "    rdf['user_id'] = row.user_id\n",
    "    return rdf"
   ]
  },
  {
   "cell_type": "code",
   "execution_count": 12,
   "metadata": {},
   "outputs": [
    {
     "name": "stdout",
     "output_type": "stream",
     "text": [
      "CPU times: user 45.4 s, sys: 264 ms, total: 45.7 s\n",
      "Wall time: 45.7 s\n"
     ]
    }
   ],
   "source": [
    "%%time\n",
    "game_reviews = pd.concat((unpack_user_reviews(row) for row in reviews.itertuples()),\n",
    "                         ignore_index=True)"
   ]
  },
  {
   "cell_type": "markdown",
   "metadata": {},
   "source": [
    "## User-Game Matrix\n",
    "\n",
    "There are a number of computations that can be quickly computed using matrix operations.  There are too many users and games to store the complete dense matrix, but we can store a _sparse matrix_ that only stores the nonzero values.  SciPy provides sparse matrices in the `scipy.sparse` package.\n",
    "\n",
    "Unlike Pandas objects that can have arbitrary indexes, SciPy matrices are only allowed to have contiguous indices starting from 0. We can reuse the Pandas `Index` data structure to make this work, though: if we create indexes for users and games, we can use those to map users and games to rows and columns of the matrix.  Let's make those now:"
   ]
  },
  {
   "cell_type": "code",
   "execution_count": 13,
   "metadata": {},
   "outputs": [],
   "source": [
    "user_index = pd.Index(user_games['user_id'].unique())\n",
    "game_index = pd.Index(user_games['item_id'].unique())"
   ]
  },
  {
   "cell_type": "markdown",
   "metadata": {},
   "source": [
    "The `Index` class has a `get_indexer` method that, given a list or array of index values, will return the index positions.  We can use this to map the `user_id` and `item_id` columns of the `user_games` data frame to row and column numbers, respectively.\n",
    "\n",
    "With an array of row numbers, an array of column numbers, and an array of values (in our case, all 1s), we can construct a compressed sparse matrix. This specific layout is called 'COO' or 'coordinate' format; we can use it to construct a more efficient representation called _compressed sparse row_:"
   ]
  },
  {
   "cell_type": "code",
   "execution_count": 14,
   "metadata": {},
   "outputs": [
    {
     "data": {
      "text/plain": [
       "<70912x10978 sparse matrix of type '<class 'numpy.float64'>'\n",
       "\twith 5094082 stored elements in Compressed Sparse Row format>"
      ]
     },
     "execution_count": 14,
     "metadata": {},
     "output_type": "execute_result"
    }
   ],
   "source": [
    "ug_rows = user_index.get_indexer(user_games['user_id'])\n",
    "ug_cols = game_index.get_indexer(user_games['item_id'])\n",
    "ug_vals = np.ones(len(ug_rows))\n",
    "user_game_matrix = sps.csr_matrix((ug_vals, (ug_rows, ug_cols)))\n",
    "user_game_matrix"
   ]
  },
  {
   "cell_type": "markdown",
   "metadata": {},
   "source": [
    "# Association Rules\n",
    "\n",
    "Write code to find related games using association rules.  Use three metrics:\n",
    "\n",
    "- Conditional probability $P(i|j)$\n",
    "- Lift $\\frac{P(i|j)}{P(i)}$\n",
    "- Conditional odds $\\frac{P(i|j)}{P(\\neg i | j)}$\n",
    "\n",
    "Compute association rules using _user items_ data.\n",
    "\n",
    "For each metric, give the top 10 games related to 15130 (_Beyond Good and Evil_) and 620 (_Portal 2_)."
   ]
  },
  {
   "cell_type": "markdown",
   "metadata": {},
   "source": [
    "### <font color='blue'>Association Rules - Solution</font>"
   ]
  },
  {
   "cell_type": "markdown",
   "metadata": {},
   "source": [
    "Below are 3 blocks:\n",
    "* <b>Metrics Functions:</b> contains functions for estimation each metric separately.\n",
    "* <b>Recommender Function:</b> function, which returns top n related games using different metrics.\n",
    "* <b>Answers</b>: top 10 games related to 15130 (Beyond Good and Evil) and 620 (Portal 2).\n",
    "\n",
    "It should be noted, that:\n",
    "* there are several item_ids (games), which has similar titles and same values in `user_game_matrix` (e.g. 'Left 4 Dead 2' and 'Left 4 Dead 2 Beta').\n",
    "* This means that <b>the data could (actually, should) be additionally prepared/cleared</b>.\n",
    "* Data cleaning is out of scope of this solution."
   ]
  },
  {
   "cell_type": "code",
   "execution_count": 15,
   "metadata": {},
   "outputs": [],
   "source": [
    "id_to_name_dict = dict(zip(user_games.item_id, user_games.item_name))\n",
    "\n",
    "def id_to_name(item_id):\n",
    "    if item_id in id_to_name_dict.keys():\n",
    "        return id_to_name_dict[item_id]\n",
    "    else:\n",
    "        return 'N/A'"
   ]
  },
  {
   "cell_type": "markdown",
   "metadata": {},
   "source": [
    "#### <font color='blue'>Metrics Functions</font>"
   ]
  },
  {
   "cell_type": "markdown",
   "metadata": {},
   "source": [
    "Functions for estimating metrics are represented below. Functions accept `string` or `list of strings`, where `string` - item_id.\n",
    "\n",
    "<b>Conditional Odds:</b>\n",
    "1. If my understanding of the formula in the task description is correct, conditional odds is the probability of finding item(s) $i$ in games subsample which contains item(s) $j$ divided by the probability of NOT finding item $i$ in games subsample which contains item(s) $j$.    \n",
    "2. Also another definition of conditional odds could be found: the probability of finding item(s) $i$ in games subsample which contains item(s) $j$ divided by the probability of finding item(s) $i$ in games subsample which DOES NOT contain item(s) $j$.\n",
    "\n",
    "In the related function the 1st variant of the metric could be obtained using `version=1`, and the 2nd - using `version=2`."
   ]
  },
  {
   "cell_type": "code",
   "execution_count": 16,
   "metadata": {},
   "outputs": [],
   "source": [
    "def ar_support(item_ids_target, item_ids_condition=[]):\n",
    "    \"\"\" Estimates Support metric.\n",
    "    \"\"\"    \n",
    "    \n",
    "    if type(item_ids_target) == str:\n",
    "        item_ids_target = [item_ids_target]\n",
    "    if type(item_ids_condition) == str:\n",
    "        item_ids_condition = [item_ids_condition]\n",
    "        \n",
    "    item_ids_merged = list(set(item_ids_target + item_ids_condition))\n",
    "    game_idx = game_index.get_indexer(item_ids_merged)\n",
    "    \n",
    "    if -1 in game_idx:\n",
    "        raise Exception('One or more of the item_ids specified do not exist')\n",
    "    \n",
    "    numerator = (user_game_matrix[:, game_idx].sum(axis=1) == len(item_ids_merged)).sum()\n",
    "    divider = user_game_matrix.shape[0]\n",
    "    \n",
    "    return numerator / divider"
   ]
  },
  {
   "cell_type": "code",
   "execution_count": 17,
   "metadata": {},
   "outputs": [],
   "source": [
    "def ar_confidence(item_ids_target, item_ids_condition):\n",
    "    \"\"\" Estimates Confidence metric (conditional probability of item_ids_target given item_ids_condition).\n",
    "    \"\"\"\n",
    "    \n",
    "    if type(item_ids_target) == str:\n",
    "        item_ids_target = [item_ids_target]\n",
    "    if type(item_ids_condition) == str:\n",
    "        item_ids_condition = [item_ids_condition]\n",
    "    \n",
    "    item_ids_merged = list(set(item_ids_target + item_ids_condition))\n",
    "    \n",
    "    numerator = ar_support(item_ids_merged)\n",
    "    divider = ar_support(item_ids_condition)\n",
    "    \n",
    "    if divider != 0:\n",
    "        return numerator / divider\n",
    "    else:\n",
    "        return 0"
   ]
  },
  {
   "cell_type": "code",
   "execution_count": 18,
   "metadata": {},
   "outputs": [],
   "source": [
    "def ar_lift(item_ids_target, item_ids_condition):\n",
    "    \"\"\" Estimates Lift measure (conditional probability of item_ids_target given item_ids_condition,\n",
    "    divided on target probability).\n",
    "    \"\"\"\n",
    "    \n",
    "    numerator = ar_confidence(item_ids_target, item_ids_condition)\n",
    "    divider = ar_support(item_ids_target)\n",
    "    \n",
    "    if divider != 0:\n",
    "        return numerator / divider\n",
    "    else:\n",
    "        return 0"
   ]
  },
  {
   "cell_type": "code",
   "execution_count": 19,
   "metadata": {},
   "outputs": [],
   "source": [
    "#Conditional odds\n",
    "def ar_conditional_odds(item_ids_target, item_ids_condition, version=1):\n",
    "    \"\"\"\n",
    "    version=1:\n",
    "    The probability of finding item_ids_target in games subsample which contains item_ids_condition\n",
    "    divided by the probability of NOT finding item_ids_target in games subsample which contains\n",
    "    item_ids_condition.\n",
    "    \n",
    "    version=2:\n",
    "    The probability of finding item_ids_target in games subsample which contains item_ids_condition\n",
    "    divided by the probability of finding item_ids_target in games subsample which DOES NOT contain\n",
    "    item_ids_condition.\n",
    "    \"\"\"\n",
    "    \n",
    "    nominator = ar_confidence(item_ids_target, item_ids_condition)\n",
    "    \n",
    "    if version == 1:\n",
    "        divider = 1 - nominator\n",
    "                \n",
    "    elif version == 2:\n",
    "        \n",
    "        if type(item_ids_condition) == str:\n",
    "            item_ids_condition = [item_ids_condition]\n",
    "        if type(item_ids_target) == str:\n",
    "            item_ids_target = [item_ids_target]\n",
    "        \n",
    "        condition_idx = game_index.get_indexer(item_ids_condition)\n",
    "        target_idx = game_index.get_indexer(item_ids_target)\n",
    "        \n",
    "        #TF is True/False\n",
    "        wo_condition_TF = (user_game_matrix[:, condition_idx].sum(axis=1) != len(item_ids_condition))\n",
    "        #number of users who have no condition games\n",
    "        wo_condition = wo_condition_TF.sum()\n",
    "        \n",
    "        target_TF = (user_game_matrix[:, target_idx].sum(axis=1) == len(item_ids_target))\n",
    "        target_wo_condition_TF = (np.hstack((wo_condition_TF, target_TF)).sum(axis=1) == 2)\n",
    "        #number of users who have target games and do not have condition games\n",
    "        target_wo_condition = target_wo_condition_TF.sum()\n",
    "        \n",
    "        divider = target_wo_condition / wo_condition\n",
    "    \n",
    "    return nominator / divider"
   ]
  },
  {
   "cell_type": "markdown",
   "metadata": {},
   "source": [
    "#### <font color='blue'>Recommender Function</font>"
   ]
  },
  {
   "cell_type": "markdown",
   "metadata": {},
   "source": [
    "The algorithm (function) accepts `string` or `list of strings`, where `string` - item_id.\n",
    "\n",
    "There are following steps in the algorithm:\n",
    "1. The algorithms filters out all games (item_ids), which Support metric is below the stated threshold (`min_support`).\n",
    "2. The algorithm estimates `confidence` for games, which have not been filtered out in step 1.\n",
    "2. In case used metric is:\n",
    "   * <b>Confidence</b> (`metric='confidence'`): the algorithm returns top n (`top=n`) games by confidence.\n",
    "   * <b>Lift</b> (`metric='lift'`):\n",
    "     * the algorithm filters out all games (item_ids), which Confidence metric is below stated threshold (`min_confidence`);\n",
    "     * the algorithm returns top n (`top=n`) games by lift.\n",
    "\n",
    "<b>Conditional Odds:</b>\n",
    "There are 2 possible versions of Conditional Odds metric described in 'Metrics Functions' block. Version 1 returns the same results as Conditional Probability (Confidence), version 2 returns the same results as Lift. <u>Considering this, no tables of related games received via Conditional Odds metric are provided in Answers.</u>\n",
    "\n",
    "<i>In case my understanding of Conditional Odds is not correct, I will be <u>very</u> happy to discuss separately.</i>"
   ]
  },
  {
   "cell_type": "code",
   "execution_count": 20,
   "metadata": {},
   "outputs": [],
   "source": [
    "def ar_recommendation(games, metric, min_support=0.1, min_confidence=0.7, top=10, recommendation=True):\n",
    "    \n",
    "    condition = games\n",
    "    if type(condition) == str:\n",
    "        condition = [condition]\n",
    "    \n",
    "    #Support measure for condition game(s) (e.g. 'Beyond Good and Evil' and/or 'Portal 2')\n",
    "    support_condition = ar_support(condition)\n",
    "\n",
    "    #initializing df for calculations\n",
    "    df = pd.DataFrame()\n",
    "    df['target'] = game_index #i.e. item_id\n",
    "\n",
    "    #Support measures for each game\n",
    "    df['support (target)'] = user_game_matrix.sum(axis=0).T / user_game_matrix.shape[0]\n",
    "\n",
    "    #slicing games which Support measure exceeds the threshold (min_support)\n",
    "    sub_df = df[df['support (target)'] >= min_support].copy()\n",
    "    \n",
    "    #removing purchased (condition) games\n",
    "    for game in condition:\n",
    "        sub_df = sub_df[sub_df['target'] != game]\n",
    "\n",
    "    #Support measure for set of game and conditions game(s)\n",
    "    sub_df['support (target U condition)'] =\\\n",
    "    sub_df['target'].apply(ar_support, item_ids_condition = condition)\n",
    "\n",
    "    #initializing df with recommendations\n",
    "    recommendations = pd.DataFrame()\n",
    "    \n",
    "    #Confidence measure (conditional probability)\n",
    "    sub_df['confidence (target | condition)'] = sub_df['support (target U condition)'] / support_condition\n",
    "\n",
    "    if metric == 'confidence':\n",
    "        #saving Conditional Probability (Confidence) recommendations\n",
    "        sub_df = sub_df.sort_values(by='confidence (target | condition)', ascending=False)\n",
    "        recommendations['Id'] = sub_df['target'][0:top].reset_index(drop=True)\n",
    "\n",
    "    if metric == 'lift':\n",
    "        #slicing games which Confidence measure exceeds the threshold (min_confidence)\n",
    "        sub_df = sub_df[sub_df['confidence (target | condition)'] >= min_confidence].copy()\n",
    "\n",
    "        #Lift measure\n",
    "        sub_df['lift (target | condition)'] =\\\n",
    "        sub_df['confidence (target | condition)'] / sub_df['support (target)']\n",
    "        \n",
    "        #saving Lift recommendations\n",
    "        sub_df = sub_df.sort_values(by='lift (target | condition)', ascending=False)\n",
    "        recommendations['Id'] = sub_df['target'][0:top].reset_index(drop=True)\n",
    "\n",
    "    if metric == 'conditional_odds_1' or metric == 'conditional_odds_2':\n",
    "        version = int(metric[-1])\n",
    "        #slicing games which Confidence measure exceeds the threshold (min_confidence)\n",
    "        sub_df = sub_df[sub_df['confidence (target | condition)'] >= min_confidence].copy()\n",
    "\n",
    "        #Conditional Odds measure\n",
    "        sub_df['Conditional Odds (target | condition)'] =\\\n",
    "        sub_df['target'].apply(ar_conditional_odds, item_ids_condition=condition, version=version)\n",
    "        #NOTE: Could be optimized here by adding divider for Conditional Odd\n",
    "        #this will allow not to estimate confidence(target | condition) once again\n",
    "        #no apply() will be needed\n",
    "        \n",
    "        #saving Conditional Odds recommendations\n",
    "        sub_df = sub_df.sort_values(by='Conditional Odds (target | condition)', ascending=False)\n",
    "        recommendations['Id'] = sub_df['target'][0:top].reset_index(drop=True)\n",
    "    \n",
    "    #adding games titles\n",
    "    recommendations['Name'] = recommendations['Id'].apply(id_to_name)\n",
    "    \n",
    "    if recommendation == True:\n",
    "        return recommendations\n",
    "    if recommendation == False:\n",
    "        return sub_df"
   ]
  },
  {
   "cell_type": "markdown",
   "metadata": {},
   "source": [
    "#### <font color='blue'>Answers</font>\n",
    "* Top 10 games related to 15130 (Beyond Good and Evil)\n",
    "* Top 10 games related to 620 (Portal 2)\n",
    "* Top 10 games related to 15130 (Beyond Good and Evil) and 620 (Portal 2)"
   ]
  },
  {
   "cell_type": "markdown",
   "metadata": {},
   "source": [
    "##### Top 10 games related to 15130 (Beyond Good and Evil)"
   ]
  },
  {
   "cell_type": "markdown",
   "metadata": {},
   "source": [
    "Metric: Conditional Probability (Confidence) / Conditional Odds v.1"
   ]
  },
  {
   "cell_type": "code",
   "execution_count": 21,
   "metadata": {},
   "outputs": [
    {
     "data": {
      "text/html": [
       "<div>\n",
       "<style scoped>\n",
       "    .dataframe tbody tr th:only-of-type {\n",
       "        vertical-align: middle;\n",
       "    }\n",
       "\n",
       "    .dataframe tbody tr th {\n",
       "        vertical-align: top;\n",
       "    }\n",
       "\n",
       "    .dataframe thead th {\n",
       "        text-align: right;\n",
       "    }\n",
       "</style>\n",
       "<table border=\"1\" class=\"dataframe\">\n",
       "  <thead>\n",
       "    <tr style=\"text-align: right;\">\n",
       "      <th></th>\n",
       "      <th>Id</th>\n",
       "      <th>Name</th>\n",
       "    </tr>\n",
       "  </thead>\n",
       "  <tbody>\n",
       "    <tr>\n",
       "      <th>0</th>\n",
       "      <td>223530</td>\n",
       "      <td>Left 4 Dead 2 Beta</td>\n",
       "    </tr>\n",
       "    <tr>\n",
       "      <th>1</th>\n",
       "      <td>550</td>\n",
       "      <td>Left 4 Dead 2</td>\n",
       "    </tr>\n",
       "    <tr>\n",
       "      <th>2</th>\n",
       "      <td>620</td>\n",
       "      <td>Portal 2</td>\n",
       "    </tr>\n",
       "    <tr>\n",
       "      <th>3</th>\n",
       "      <td>400</td>\n",
       "      <td>Portal</td>\n",
       "    </tr>\n",
       "    <tr>\n",
       "      <th>4</th>\n",
       "      <td>340</td>\n",
       "      <td>Half-Life 2: Lost Coast</td>\n",
       "    </tr>\n",
       "    <tr>\n",
       "      <th>5</th>\n",
       "      <td>220</td>\n",
       "      <td>Half-Life 2</td>\n",
       "    </tr>\n",
       "    <tr>\n",
       "      <th>6</th>\n",
       "      <td>205790</td>\n",
       "      <td>Dota 2 Test</td>\n",
       "    </tr>\n",
       "    <tr>\n",
       "      <th>7</th>\n",
       "      <td>105600</td>\n",
       "      <td>Terraria</td>\n",
       "    </tr>\n",
       "    <tr>\n",
       "      <th>8</th>\n",
       "      <td>320</td>\n",
       "      <td>Half-Life 2: Deathmatch</td>\n",
       "    </tr>\n",
       "    <tr>\n",
       "      <th>9</th>\n",
       "      <td>72850</td>\n",
       "      <td>The Elder Scrolls V: Skyrim</td>\n",
       "    </tr>\n",
       "  </tbody>\n",
       "</table>\n",
       "</div>"
      ],
      "text/plain": [
       "       Id                         Name\n",
       "0  223530           Left 4 Dead 2 Beta\n",
       "1     550                Left 4 Dead 2\n",
       "2     620                     Portal 2\n",
       "3     400                       Portal\n",
       "4     340      Half-Life 2: Lost Coast\n",
       "5     220                  Half-Life 2\n",
       "6  205790                  Dota 2 Test\n",
       "7  105600                     Terraria\n",
       "8     320      Half-Life 2: Deathmatch\n",
       "9   72850  The Elder Scrolls V: Skyrim"
      ]
     },
     "execution_count": 21,
     "metadata": {},
     "output_type": "execute_result"
    }
   ],
   "source": [
    "ar_recommendation('15130', metric='confidence')"
   ]
  },
  {
   "cell_type": "markdown",
   "metadata": {},
   "source": [
    "Metric: Lift / Conditional Odds v.2"
   ]
  },
  {
   "cell_type": "code",
   "execution_count": 22,
   "metadata": {},
   "outputs": [
    {
     "data": {
      "text/html": [
       "<div>\n",
       "<style scoped>\n",
       "    .dataframe tbody tr th:only-of-type {\n",
       "        vertical-align: middle;\n",
       "    }\n",
       "\n",
       "    .dataframe tbody tr th {\n",
       "        vertical-align: top;\n",
       "    }\n",
       "\n",
       "    .dataframe thead th {\n",
       "        text-align: right;\n",
       "    }\n",
       "</style>\n",
       "<table border=\"1\" class=\"dataframe\">\n",
       "  <thead>\n",
       "    <tr style=\"text-align: right;\">\n",
       "      <th></th>\n",
       "      <th>Id</th>\n",
       "      <th>Name</th>\n",
       "    </tr>\n",
       "  </thead>\n",
       "  <tbody>\n",
       "    <tr>\n",
       "      <th>0</th>\n",
       "      <td>7670</td>\n",
       "      <td>BioShock</td>\n",
       "    </tr>\n",
       "    <tr>\n",
       "      <th>1</th>\n",
       "      <td>409710</td>\n",
       "      <td>BioShock Remastered</td>\n",
       "    </tr>\n",
       "    <tr>\n",
       "      <th>2</th>\n",
       "      <td>360</td>\n",
       "      <td>Half-Life Deathmatch: Source</td>\n",
       "    </tr>\n",
       "    <tr>\n",
       "      <th>3</th>\n",
       "      <td>420</td>\n",
       "      <td>Half-Life 2: Episode Two</td>\n",
       "    </tr>\n",
       "    <tr>\n",
       "      <th>4</th>\n",
       "      <td>380</td>\n",
       "      <td>Half-Life 2: Episode One</td>\n",
       "    </tr>\n",
       "    <tr>\n",
       "      <th>5</th>\n",
       "      <td>320</td>\n",
       "      <td>Half-Life 2: Deathmatch</td>\n",
       "    </tr>\n",
       "    <tr>\n",
       "      <th>6</th>\n",
       "      <td>55230</td>\n",
       "      <td>Saints Row: The Third</td>\n",
       "    </tr>\n",
       "    <tr>\n",
       "      <th>7</th>\n",
       "      <td>220</td>\n",
       "      <td>Half-Life 2</td>\n",
       "    </tr>\n",
       "    <tr>\n",
       "      <th>8</th>\n",
       "      <td>400</td>\n",
       "      <td>Portal</td>\n",
       "    </tr>\n",
       "    <tr>\n",
       "      <th>9</th>\n",
       "      <td>8190</td>\n",
       "      <td>Just Cause 2</td>\n",
       "    </tr>\n",
       "  </tbody>\n",
       "</table>\n",
       "</div>"
      ],
      "text/plain": [
       "       Id                          Name\n",
       "0    7670                      BioShock\n",
       "1  409710           BioShock Remastered\n",
       "2     360  Half-Life Deathmatch: Source\n",
       "3     420      Half-Life 2: Episode Two\n",
       "4     380      Half-Life 2: Episode One\n",
       "5     320       Half-Life 2: Deathmatch\n",
       "6   55230         Saints Row: The Third\n",
       "7     220                   Half-Life 2\n",
       "8     400                        Portal\n",
       "9    8190                  Just Cause 2"
      ]
     },
     "execution_count": 22,
     "metadata": {},
     "output_type": "execute_result"
    }
   ],
   "source": [
    "ar_recommendation('15130', metric='lift')"
   ]
  },
  {
   "cell_type": "markdown",
   "metadata": {},
   "source": [
    "##### Top 10 games related to 620 (Portal 2)"
   ]
  },
  {
   "cell_type": "markdown",
   "metadata": {},
   "source": [
    "Metric: Conditional Probability (Confidence) / Conditional Odds v.1"
   ]
  },
  {
   "cell_type": "code",
   "execution_count": 23,
   "metadata": {},
   "outputs": [
    {
     "data": {
      "text/html": [
       "<div>\n",
       "<style scoped>\n",
       "    .dataframe tbody tr th:only-of-type {\n",
       "        vertical-align: middle;\n",
       "    }\n",
       "\n",
       "    .dataframe tbody tr th {\n",
       "        vertical-align: top;\n",
       "    }\n",
       "\n",
       "    .dataframe thead th {\n",
       "        text-align: right;\n",
       "    }\n",
       "</style>\n",
       "<table border=\"1\" class=\"dataframe\">\n",
       "  <thead>\n",
       "    <tr style=\"text-align: right;\">\n",
       "      <th></th>\n",
       "      <th>Id</th>\n",
       "      <th>Name</th>\n",
       "    </tr>\n",
       "  </thead>\n",
       "  <tbody>\n",
       "    <tr>\n",
       "      <th>0</th>\n",
       "      <td>4000</td>\n",
       "      <td>Garry's Mod</td>\n",
       "    </tr>\n",
       "    <tr>\n",
       "      <th>1</th>\n",
       "      <td>730</td>\n",
       "      <td>Counter-Strike: Global Offensive</td>\n",
       "    </tr>\n",
       "    <tr>\n",
       "      <th>2</th>\n",
       "      <td>205790</td>\n",
       "      <td>Dota 2 Test</td>\n",
       "    </tr>\n",
       "    <tr>\n",
       "      <th>3</th>\n",
       "      <td>550</td>\n",
       "      <td>Left 4 Dead 2</td>\n",
       "    </tr>\n",
       "    <tr>\n",
       "      <th>4</th>\n",
       "      <td>223530</td>\n",
       "      <td>Left 4 Dead 2 Beta</td>\n",
       "    </tr>\n",
       "    <tr>\n",
       "      <th>5</th>\n",
       "      <td>105600</td>\n",
       "      <td>Terraria</td>\n",
       "    </tr>\n",
       "    <tr>\n",
       "      <th>6</th>\n",
       "      <td>304930</td>\n",
       "      <td>Unturned</td>\n",
       "    </tr>\n",
       "    <tr>\n",
       "      <th>7</th>\n",
       "      <td>400</td>\n",
       "      <td>Portal</td>\n",
       "    </tr>\n",
       "    <tr>\n",
       "      <th>8</th>\n",
       "      <td>240</td>\n",
       "      <td>Counter-Strike: Source</td>\n",
       "    </tr>\n",
       "    <tr>\n",
       "      <th>9</th>\n",
       "      <td>72850</td>\n",
       "      <td>The Elder Scrolls V: Skyrim</td>\n",
       "    </tr>\n",
       "  </tbody>\n",
       "</table>\n",
       "</div>"
      ],
      "text/plain": [
       "       Id                              Name\n",
       "0    4000                       Garry's Mod\n",
       "1     730  Counter-Strike: Global Offensive\n",
       "2  205790                       Dota 2 Test\n",
       "3     550                     Left 4 Dead 2\n",
       "4  223530                Left 4 Dead 2 Beta\n",
       "5  105600                          Terraria\n",
       "6  304930                          Unturned\n",
       "7     400                            Portal\n",
       "8     240            Counter-Strike: Source\n",
       "9   72850       The Elder Scrolls V: Skyrim"
      ]
     },
     "execution_count": 23,
     "metadata": {},
     "output_type": "execute_result"
    }
   ],
   "source": [
    "ar_recommendation('620', metric='confidence')"
   ]
  },
  {
   "cell_type": "markdown",
   "metadata": {},
   "source": [
    "Metric: Lift / Conditional Odds v.2\n",
    "\n",
    "<i>Default thresholds allowed the algorithm to find only 5 games. Threshold for Confidence was adjusted.</i>"
   ]
  },
  {
   "cell_type": "code",
   "execution_count": 24,
   "metadata": {},
   "outputs": [
    {
     "data": {
      "text/html": [
       "<div>\n",
       "<style scoped>\n",
       "    .dataframe tbody tr th:only-of-type {\n",
       "        vertical-align: middle;\n",
       "    }\n",
       "\n",
       "    .dataframe tbody tr th {\n",
       "        vertical-align: top;\n",
       "    }\n",
       "\n",
       "    .dataframe thead th {\n",
       "        text-align: right;\n",
       "    }\n",
       "</style>\n",
       "<table border=\"1\" class=\"dataframe\">\n",
       "  <thead>\n",
       "    <tr style=\"text-align: right;\">\n",
       "      <th></th>\n",
       "      <th>Id</th>\n",
       "      <th>Name</th>\n",
       "    </tr>\n",
       "  </thead>\n",
       "  <tbody>\n",
       "    <tr>\n",
       "      <th>0</th>\n",
       "      <td>400</td>\n",
       "      <td>Portal</td>\n",
       "    </tr>\n",
       "    <tr>\n",
       "      <th>1</th>\n",
       "      <td>72850</td>\n",
       "      <td>The Elder Scrolls V: Skyrim</td>\n",
       "    </tr>\n",
       "    <tr>\n",
       "      <th>2</th>\n",
       "      <td>240</td>\n",
       "      <td>Counter-Strike: Source</td>\n",
       "    </tr>\n",
       "    <tr>\n",
       "      <th>3</th>\n",
       "      <td>105600</td>\n",
       "      <td>Terraria</td>\n",
       "    </tr>\n",
       "    <tr>\n",
       "      <th>4</th>\n",
       "      <td>550</td>\n",
       "      <td>Left 4 Dead 2</td>\n",
       "    </tr>\n",
       "    <tr>\n",
       "      <th>5</th>\n",
       "      <td>223530</td>\n",
       "      <td>Left 4 Dead 2 Beta</td>\n",
       "    </tr>\n",
       "    <tr>\n",
       "      <th>6</th>\n",
       "      <td>4000</td>\n",
       "      <td>Garry's Mod</td>\n",
       "    </tr>\n",
       "    <tr>\n",
       "      <th>7</th>\n",
       "      <td>730</td>\n",
       "      <td>Counter-Strike: Global Offensive</td>\n",
       "    </tr>\n",
       "    <tr>\n",
       "      <th>8</th>\n",
       "      <td>304930</td>\n",
       "      <td>Unturned</td>\n",
       "    </tr>\n",
       "    <tr>\n",
       "      <th>9</th>\n",
       "      <td>205790</td>\n",
       "      <td>Dota 2 Test</td>\n",
       "    </tr>\n",
       "  </tbody>\n",
       "</table>\n",
       "</div>"
      ],
      "text/plain": [
       "       Id                              Name\n",
       "0     400                            Portal\n",
       "1   72850       The Elder Scrolls V: Skyrim\n",
       "2     240            Counter-Strike: Source\n",
       "3  105600                          Terraria\n",
       "4     550                     Left 4 Dead 2\n",
       "5  223530                Left 4 Dead 2 Beta\n",
       "6    4000                       Garry's Mod\n",
       "7     730  Counter-Strike: Global Offensive\n",
       "8  304930                          Unturned\n",
       "9  205790                       Dota 2 Test"
      ]
     },
     "execution_count": 24,
     "metadata": {},
     "output_type": "execute_result"
    }
   ],
   "source": [
    "ar_recommendation('620', metric='lift', min_confidence=0.52)"
   ]
  },
  {
   "cell_type": "markdown",
   "metadata": {},
   "source": [
    "##### Top 10 games related to 15130 (Beyond Good and Evil) and 620 (Portal 2)"
   ]
  },
  {
   "cell_type": "markdown",
   "metadata": {},
   "source": [
    "Metric: Conditional Probability (Confidence) / Conditional Odds v.1"
   ]
  },
  {
   "cell_type": "code",
   "execution_count": 25,
   "metadata": {},
   "outputs": [
    {
     "data": {
      "text/html": [
       "<div>\n",
       "<style scoped>\n",
       "    .dataframe tbody tr th:only-of-type {\n",
       "        vertical-align: middle;\n",
       "    }\n",
       "\n",
       "    .dataframe tbody tr th {\n",
       "        vertical-align: top;\n",
       "    }\n",
       "\n",
       "    .dataframe thead th {\n",
       "        text-align: right;\n",
       "    }\n",
       "</style>\n",
       "<table border=\"1\" class=\"dataframe\">\n",
       "  <thead>\n",
       "    <tr style=\"text-align: right;\">\n",
       "      <th></th>\n",
       "      <th>Id</th>\n",
       "      <th>Name</th>\n",
       "    </tr>\n",
       "  </thead>\n",
       "  <tbody>\n",
       "    <tr>\n",
       "      <th>0</th>\n",
       "      <td>223530</td>\n",
       "      <td>Left 4 Dead 2 Beta</td>\n",
       "    </tr>\n",
       "    <tr>\n",
       "      <th>1</th>\n",
       "      <td>550</td>\n",
       "      <td>Left 4 Dead 2</td>\n",
       "    </tr>\n",
       "    <tr>\n",
       "      <th>2</th>\n",
       "      <td>400</td>\n",
       "      <td>Portal</td>\n",
       "    </tr>\n",
       "    <tr>\n",
       "      <th>3</th>\n",
       "      <td>340</td>\n",
       "      <td>Half-Life 2: Lost Coast</td>\n",
       "    </tr>\n",
       "    <tr>\n",
       "      <th>4</th>\n",
       "      <td>220</td>\n",
       "      <td>Half-Life 2</td>\n",
       "    </tr>\n",
       "    <tr>\n",
       "      <th>5</th>\n",
       "      <td>205790</td>\n",
       "      <td>Dota 2 Test</td>\n",
       "    </tr>\n",
       "    <tr>\n",
       "      <th>6</th>\n",
       "      <td>320</td>\n",
       "      <td>Half-Life 2: Deathmatch</td>\n",
       "    </tr>\n",
       "    <tr>\n",
       "      <th>7</th>\n",
       "      <td>72850</td>\n",
       "      <td>The Elder Scrolls V: Skyrim</td>\n",
       "    </tr>\n",
       "    <tr>\n",
       "      <th>8</th>\n",
       "      <td>360</td>\n",
       "      <td>Half-Life Deathmatch: Source</td>\n",
       "    </tr>\n",
       "    <tr>\n",
       "      <th>9</th>\n",
       "      <td>105600</td>\n",
       "      <td>Terraria</td>\n",
       "    </tr>\n",
       "  </tbody>\n",
       "</table>\n",
       "</div>"
      ],
      "text/plain": [
       "       Id                          Name\n",
       "0  223530            Left 4 Dead 2 Beta\n",
       "1     550                 Left 4 Dead 2\n",
       "2     400                        Portal\n",
       "3     340       Half-Life 2: Lost Coast\n",
       "4     220                   Half-Life 2\n",
       "5  205790                   Dota 2 Test\n",
       "6     320       Half-Life 2: Deathmatch\n",
       "7   72850   The Elder Scrolls V: Skyrim\n",
       "8     360  Half-Life Deathmatch: Source\n",
       "9  105600                      Terraria"
      ]
     },
     "execution_count": 25,
     "metadata": {},
     "output_type": "execute_result"
    }
   ],
   "source": [
    "ar_recommendation(['15130', '620'], metric='confidence')"
   ]
  },
  {
   "cell_type": "markdown",
   "metadata": {},
   "source": [
    "Metric: Lift / Conditional Odds v.2"
   ]
  },
  {
   "cell_type": "code",
   "execution_count": 26,
   "metadata": {},
   "outputs": [
    {
     "data": {
      "text/html": [
       "<div>\n",
       "<style scoped>\n",
       "    .dataframe tbody tr th:only-of-type {\n",
       "        vertical-align: middle;\n",
       "    }\n",
       "\n",
       "    .dataframe tbody tr th {\n",
       "        vertical-align: top;\n",
       "    }\n",
       "\n",
       "    .dataframe thead th {\n",
       "        text-align: right;\n",
       "    }\n",
       "</style>\n",
       "<table border=\"1\" class=\"dataframe\">\n",
       "  <thead>\n",
       "    <tr style=\"text-align: right;\">\n",
       "      <th></th>\n",
       "      <th>Id</th>\n",
       "      <th>Name</th>\n",
       "    </tr>\n",
       "  </thead>\n",
       "  <tbody>\n",
       "    <tr>\n",
       "      <th>0</th>\n",
       "      <td>48000</td>\n",
       "      <td>LIMBO</td>\n",
       "    </tr>\n",
       "    <tr>\n",
       "      <th>1</th>\n",
       "      <td>409710</td>\n",
       "      <td>BioShock Remastered</td>\n",
       "    </tr>\n",
       "    <tr>\n",
       "      <th>2</th>\n",
       "      <td>7670</td>\n",
       "      <td>BioShock</td>\n",
       "    </tr>\n",
       "    <tr>\n",
       "      <th>3</th>\n",
       "      <td>17410</td>\n",
       "      <td>Mirror's Edge</td>\n",
       "    </tr>\n",
       "    <tr>\n",
       "      <th>4</th>\n",
       "      <td>43110</td>\n",
       "      <td>Metro 2033</td>\n",
       "    </tr>\n",
       "    <tr>\n",
       "      <th>5</th>\n",
       "      <td>420</td>\n",
       "      <td>Half-Life 2: Episode Two</td>\n",
       "    </tr>\n",
       "    <tr>\n",
       "      <th>6</th>\n",
       "      <td>360</td>\n",
       "      <td>Half-Life Deathmatch: Source</td>\n",
       "    </tr>\n",
       "    <tr>\n",
       "      <th>7</th>\n",
       "      <td>380</td>\n",
       "      <td>Half-Life 2: Episode One</td>\n",
       "    </tr>\n",
       "    <tr>\n",
       "      <th>8</th>\n",
       "      <td>8870</td>\n",
       "      <td>BioShock Infinite</td>\n",
       "    </tr>\n",
       "    <tr>\n",
       "      <th>9</th>\n",
       "      <td>42910</td>\n",
       "      <td>Magicka</td>\n",
       "    </tr>\n",
       "  </tbody>\n",
       "</table>\n",
       "</div>"
      ],
      "text/plain": [
       "       Id                          Name\n",
       "0   48000                         LIMBO\n",
       "1  409710           BioShock Remastered\n",
       "2    7670                      BioShock\n",
       "3   17410                 Mirror's Edge\n",
       "4   43110                    Metro 2033\n",
       "5     420      Half-Life 2: Episode Two\n",
       "6     360  Half-Life Deathmatch: Source\n",
       "7     380      Half-Life 2: Episode One\n",
       "8    8870             BioShock Infinite\n",
       "9   42910                       Magicka"
      ]
     },
     "execution_count": 26,
     "metadata": {},
     "output_type": "execute_result"
    }
   ],
   "source": [
    "ar_recommendation(['15130', '620'], metric='lift')"
   ]
  },
  {
   "cell_type": "markdown",
   "metadata": {},
   "source": [
    "## Content Similarity\n",
    "\n",
    "In this step, you are going to compute related items by the content of their textual reviews. We are going to do the following:\n",
    "\n",
    "* Convert each games's reviews into a bag-of-words term vector.  Concatenate all of a game's reviews into a single document for this.\n",
    "    * Tokenize\n",
    "    * Lowercase\n",
    "    * Remove stop words\n",
    "    * Stem words\n",
    "    * Count words = the Pandas `value_counts` method is useful for this\n",
    "* Compute document frequences for TF-IDF normalization.\n",
    "\n",
    "Once we have a TF-IDF vector for each game, we can compare games by taking the cosine of these vectors.\n",
    "\n",
    "Give the top 10 games similar to 15130 (_Beyond Good and Evil_) and 620 (_Portal 2_)."
   ]
  },
  {
   "cell_type": "code",
   "execution_count": 27,
   "metadata": {},
   "outputs": [],
   "source": [
    "stop_words = set(nltk.corpus.stopwords.words('english'))\n",
    "stemmer = nltk.stem.snowball.EnglishStemmer()"
   ]
  },
  {
   "cell_type": "code",
   "execution_count": 28,
   "metadata": {},
   "outputs": [],
   "source": [
    "def game_vector(reviews):\n",
    "    \"Given a series of a game's reviews, compute a term vector.\"\n",
    "    review = ' '.join(reviews)\n",
    "    # tokenize\n",
    "    tokens = nltk.word_tokenize(review)\n",
    "    # lowercase\n",
    "    words = [w.lower() for w in tokens]\n",
    "    # remove stop words & convert to a Series\n",
    "    words = pd.Series(w for w in tokens if w.isalpha() and w not in stop_words)\n",
    "    # stem\n",
    "    stems = words.transform(stemmer.stem)\n",
    "    # count\n",
    "    term_counts = stems.value_counts()\n",
    "    # set some useful names\n",
    "    term_counts.name = 'count'\n",
    "    term_counts.index.name = 'word'\n",
    "    return term_counts"
   ]
  },
  {
   "cell_type": "markdown",
   "metadata": {},
   "source": [
    "Now we apply this function to each game's reviews. The resulting data frame will have a _multi-level index_, with game IDs and words."
   ]
  },
  {
   "cell_type": "code",
   "execution_count": 29,
   "metadata": {},
   "outputs": [],
   "source": [
    "#game_vectors = game_reviews.groupby('item_id').review.apply(game_vector)\n",
    "#game_vectors.head()"
   ]
  },
  {
   "cell_type": "markdown",
   "metadata": {},
   "source": [
    "With this review information, you can go forward, normalize vectors, and compute!  You will need to be a little careful at times - multilevel indexes in Pandas are susceptible to blowup.\n",
    "\n",
    "Before you do the recommendation computation, explore the data a little bit. What are the most frequently used terms, by document frequency?  What is the distribution of review length & reviews per game?"
   ]
  },
  {
   "cell_type": "markdown",
   "metadata": {},
   "source": [
    "### <font color='blue'>Content Similarity - Solution</font>"
   ]
  },
  {
   "cell_type": "markdown",
   "metadata": {},
   "source": [
    "Below are 3 blocks:\n",
    "* <b>Data Exploration:</b> contains answers on questions related to most frequently used terms and plots for distributions.\n",
    "* <b>Recommender Function:</b> function, which returns top n related games basing on content similarity.\n",
    "* <b>Answers</b>: top 10 games related to 15130 (Beyond Good and Evil) and 620 (Portal 2).\n",
    "\n",
    "It should be noted, that for creating recommendations basing on content (reviews) similarity I slightly modified the provided function `game_vector` and created function `review_corpus`. This function allows to concatenate reviews related to a specific game and clear (in the same manner as `game_vector` would do) its content.\n",
    "\n",
    "I needed this modification for further sklearn functions (`CountVectorizer`, `TfidfTransformer`) usage.\n",
    "\n",
    "<i>P.S.<br/>\n",
    "I guess that this line in `game_vector`:</i>\n",
    "```\n",
    "words = pd.Series(w for w in tokens if w.isalpha() and w not in stop_words)\n",
    "```\n",
    "<i>should be slightly corrected:</i>\n",
    "```\n",
    "words = pd.Series(w for w in words if w.isalpha() and w not in stop_words)\n",
    "```"
   ]
  },
  {
   "cell_type": "code",
   "execution_count": 30,
   "metadata": {},
   "outputs": [],
   "source": [
    "def review_corpus(reviews):\n",
    "    review = ' '.join(reviews)\n",
    "    # tokenize\n",
    "    tokens = nltk.word_tokenize(review)\n",
    "    # lowercase\n",
    "    tokens_lc = [w.lower() for w in tokens]\n",
    "    # remove stop words & convert to a Series\n",
    "    words = pd.Series(w for w in tokens_lc if w.isalpha() and w not in stop_words)\n",
    "    # stem\n",
    "    stems = words.transform(stemmer.stem)\n",
    "    # convert to string\n",
    "    cleared_review = ' '.join(stems)\n",
    "    return cleared_review"
   ]
  },
  {
   "cell_type": "code",
   "execution_count": 31,
   "metadata": {},
   "outputs": [
    {
     "name": "stdout",
     "output_type": "stream",
     "text": [
      "CPU times: user 44.2 s, sys: 4.12 ms, total: 44.2 s\n",
      "Wall time: 44.2 s\n"
     ]
    }
   ],
   "source": [
    "%%time\n",
    "corpus = game_reviews.groupby('item_id').review.apply(review_corpus)\n",
    "corpus.head()"
   ]
  },
  {
   "cell_type": "code",
   "execution_count": 32,
   "metadata": {},
   "outputs": [],
   "source": [
    "vectorizer = CountVectorizer(lowercase=False, max_df=1.0, min_df=0.0)\n",
    "game_vectors = vectorizer.fit_transform(corpus)"
   ]
  },
  {
   "cell_type": "markdown",
   "metadata": {},
   "source": [
    "#### <font color='blue'>Data Exploration</font>\n",
    ">Before you do the recommendation computation, explore the data a little bit. What are the most frequently used terms, by document frequency? What is the distribution of review length & reviews per game?"
   ]
  },
  {
   "cell_type": "markdown",
   "metadata": {},
   "source": [
    "<b>The most frequently used terms, by document frequency</b>\n",
    "\n",
    "Let's consider 2 metrics:\n",
    "1. a term (word) which appears the highest number of times;\n",
    "2. a term (word) which appears the hidhest number of times in aggregated reviews related to one game.\n",
    "\n",
    "E.g. if a word 'super' was met in each review for 'CS: GO':\n",
    "* for metric #1 it will be accounted in total amount of reviews for 'CS:GO';\n",
    "* for metric #2 it will be accounted only 1 time.\n",
    "\n",
    "For further estimations all games to be considered. Metrics to be estimated considering modified (via `review_corpus` function) reviews texts."
   ]
  },
  {
   "cell_type": "code",
   "execution_count": 33,
   "metadata": {},
   "outputs": [
    {
     "name": "stdout",
     "output_type": "stream",
     "text": [
      "The most frequently used term, by document frequency:\n",
      "- metric #1: game | number: 64917\n",
      "- metric #2: game | number: 2862\n"
     ]
    }
   ],
   "source": [
    "m_1 = vectorizer.get_feature_names()[np.argmax(game_vectors.sum(axis=0))]\n",
    "m_1_count = game_vectors.sum(axis=0).max()\n",
    "m_2 = vectorizer.get_feature_names()[np.argmax((game_vectors != 0).sum(axis=0))]\n",
    "m_2_count = (game_vectors != 0).sum(axis=0).max()\n",
    "\n",
    "print('The most frequently used term, by document frequency:')\n",
    "print('- metric #1: {} | number: {}'.format(m_1, m_1_count))\n",
    "print('- metric #2: {} | number: {}'.format(m_2, m_2_count))"
   ]
  },
  {
   "cell_type": "markdown",
   "metadata": {},
   "source": [
    "<b>Distribution of review length</b>\n",
    "\n",
    "Let's consider a number of words (cleared in the same manner as for corpus creation) in a review as a review length."
   ]
  },
  {
   "cell_type": "code",
   "execution_count": 34,
   "metadata": {},
   "outputs": [],
   "source": [
    "def words_counter(review):\n",
    "    # tokenize\n",
    "    tokens = nltk.word_tokenize(review)\n",
    "    # lowercase\n",
    "    tokens_lc = [w.lower() for w in tokens]\n",
    "    # remove stop words\n",
    "    words = [w for w in tokens_lc if w.isalpha() and w not in stop_words]\n",
    "    return len(words)"
   ]
  },
  {
   "cell_type": "code",
   "execution_count": 35,
   "metadata": {},
   "outputs": [
    {
     "name": "stdout",
     "output_type": "stream",
     "text": [
      "CPU times: user 25.1 s, sys: 40 ms, total: 25.1 s\n",
      "Wall time: 25.1 s\n"
     ]
    }
   ],
   "source": [
    "%%time\n",
    "words_count = game_reviews['review'].apply(words_counter)"
   ]
  },
  {
   "cell_type": "code",
   "execution_count": 36,
   "metadata": {},
   "outputs": [
    {
     "name": "stdout",
     "output_type": "stream",
     "text": [
      "Mean: 20.0680472360089\n",
      "Median: 8.0\n",
      "Mode: 2\n"
     ]
    },
    {
     "name": "stderr",
     "output_type": "stream",
     "text": [
      "/home/adrofa/anaconda3/lib/python3.7/site-packages/scipy/stats/stats.py:1713: FutureWarning: Using a non-tuple sequence for multidimensional indexing is deprecated; use `arr[tuple(seq)]` instead of `arr[seq]`. In the future this will be interpreted as an array index, `arr[np.array(seq)]`, which will result either in an error or a different result.\n",
      "  return np.add.reduce(sorted[indexer] * weights, axis=axis) / sumval\n"
     ]
    },
    {
     "data": {
      "image/png": "[encoded data removed]",
      "text/plain": [
       "<Figure size 432x288 with 1 Axes>"
      ]
     },
     "metadata": {
      "needs_background": "light"
     },
     "output_type": "display_data"
    }
   ],
   "source": [
    "print('Mean:', words_count.mean())\n",
    "print('Median:', words_count.median())\n",
    "print('Mode:', words_count.mode()[0])\n",
    "ax = sns.violinplot(x=words_count)\n",
    "plt.xlabel('Review Length')\n",
    "plt.ylabel('Reviews #')\n",
    "plt.show()"
   ]
  },
  {
   "cell_type": "markdown",
   "metadata": {},
   "source": [
    "The plot of all values doesn't provide a lot information. Let's inspect high values in more details."
   ]
  },
  {
   "cell_type": "code",
   "execution_count": 37,
   "metadata": {},
   "outputs": [
    {
     "data": {
      "text/plain": [
       "40305    2000\n",
       "57439    1600\n",
       "51663     864\n",
       "11421     852\n",
       "6084      836\n",
       "Name: review, dtype: int64"
      ]
     },
     "execution_count": 37,
     "metadata": {},
     "output_type": "execute_result"
    }
   ],
   "source": [
    "words_count.sort_values(ascending=False).head()"
   ]
  },
  {
   "cell_type": "markdown",
   "metadata": {},
   "source": [
    "There are only 2 values above 864. Let's inspect violin plot for values below or equal 864."
   ]
  },
  {
   "cell_type": "code",
   "execution_count": 38,
   "metadata": {},
   "outputs": [
    {
     "name": "stdout",
     "output_type": "stream",
     "text": [
      "Mean: 20.007119874033\n",
      "Median: 8.0\n",
      "Mode: 2\n"
     ]
    },
    {
     "data": {
      "image/png": "[encoded data removed]",
      "text/plain": [
       "<Figure size 432x288 with 1 Axes>"
      ]
     },
     "metadata": {
      "needs_background": "light"
     },
     "output_type": "display_data"
    }
   ],
   "source": [
    "print('Mean:', words_count[words_count <= 864].mean())\n",
    "print('Median:', words_count[words_count <= 864].median())\n",
    "print('Mode:', words_count[words_count <= 864].mode()[0])\n",
    "ax = sns.violinplot(x=words_count[words_count <= 864])\n",
    "plt.xlabel('Review Length')\n",
    "plt.ylabel('Reviews #')\n",
    "plt.show()"
   ]
  },
  {
   "cell_type": "markdown",
   "metadata": {},
   "source": [
    "Average values nearly unchanged. Let's inspect violin plot for values below or equal 100."
   ]
  },
  {
   "cell_type": "code",
   "execution_count": 39,
   "metadata": {},
   "outputs": [
    {
     "name": "stdout",
     "output_type": "stream",
     "text": [
      "%-age of used values: 96.66%\n",
      "Mean: 14.221122521246459\n",
      "Median: 7.0\n",
      "Mode: 2\n"
     ]
    },
    {
     "data": {
      "image/png": "[encoded data removed]",
      "text/plain": [
       "<Figure size 432x288 with 1 Axes>"
      ]
     },
     "metadata": {
      "needs_background": "light"
     },
     "output_type": "display_data"
    }
   ],
   "source": [
    "print('%-age of used values: {}%'.format(round(words_count[words_count <= 100\n",
    "                                                          ].shape[0] / words_count.shape[0] * 100, 2)))\n",
    "print('Mean:', words_count[words_count <= 100].mean())\n",
    "print('Median:', words_count[words_count <= 100].median())\n",
    "print('Mode:', words_count[words_count <= 100].mode()[0])\n",
    "ax = sns.violinplot(x=words_count[words_count <= 100])\n",
    "plt.xlabel('Review Length')\n",
    "plt.ylabel('Reviews #')\n",
    "plt.show()"
   ]
  },
  {
   "cell_type": "markdown",
   "metadata": {},
   "source": [
    "<b>Distribution of reviews per game</b>"
   ]
  },
  {
   "cell_type": "code",
   "execution_count": 40,
   "metadata": {},
   "outputs": [],
   "source": [
    "reviews_per_game_count = game_reviews.groupby('item_id')['item_id'].count()"
   ]
  },
  {
   "cell_type": "code",
   "execution_count": 41,
   "metadata": {},
   "outputs": [
    {
     "name": "stdout",
     "output_type": "stream",
     "text": [
      "Mean: 15.86909288430201\n",
      "Median: 2.0\n",
      "Mode: 1\n"
     ]
    },
    {
     "data": {
      "image/png": "[encoded data removed]",
      "text/plain": [
       "<Figure size 432x288 with 1 Axes>"
      ]
     },
     "metadata": {
      "needs_background": "light"
     },
     "output_type": "display_data"
    }
   ],
   "source": [
    "print('Mean:', reviews_per_game_count.mean())\n",
    "print('Median:', reviews_per_game_count.median())\n",
    "print('Mode:', reviews_per_game_count.mode()[0])\n",
    "ax = sns.violinplot(x=reviews_per_game_count)\n",
    "plt.xlabel('# of Reviews')\n",
    "plt.ylabel('Games #')\n",
    "plt.show()"
   ]
  },
  {
   "cell_type": "markdown",
   "metadata": {},
   "source": [
    "The plot of all values doesn't provide a lot information. Let's inspect high values in more details."
   ]
  },
  {
   "cell_type": "code",
   "execution_count": 42,
   "metadata": {},
   "outputs": [
    {
     "data": {
      "text/plain": [
       "item_id\n",
       "730       3708\n",
       "440       3694\n",
       "4000      1704\n",
       "570       1544\n",
       "218620    1113\n",
       "Name: item_id, dtype: int64"
      ]
     },
     "execution_count": 42,
     "metadata": {},
     "output_type": "execute_result"
    }
   ],
   "source": [
    "reviews_per_game_count.sort_values(ascending=False).head()"
   ]
  },
  {
   "cell_type": "markdown",
   "metadata": {},
   "source": [
    "There are only 2 values above 1704. Let's inspect violin plot for values below or equal 1704."
   ]
  },
  {
   "cell_type": "code",
   "execution_count": 43,
   "metadata": {},
   "outputs": [
    {
     "name": "stdout",
     "output_type": "stream",
     "text": [
      "Mean: 13.866304347826087\n",
      "Median: 2.0\n",
      "Mode: 1\n"
     ]
    },
    {
     "data": {
      "image/png": "[encoded data removed]",
      "text/plain": [
       "<Figure size 432x288 with 1 Axes>"
      ]
     },
     "metadata": {
      "needs_background": "light"
     },
     "output_type": "display_data"
    }
   ],
   "source": [
    "print('Mean:', reviews_per_game_count[reviews_per_game_count <= 1704].mean())\n",
    "print('Median:', reviews_per_game_count[reviews_per_game_count <= 1704].median())\n",
    "print('Mode:', reviews_per_game_count[reviews_per_game_count <= 1704].mode()[0])\n",
    "ax = sns.violinplot(x=reviews_per_game_count[reviews_per_game_count <= 1704])\n",
    "plt.xlabel('# of Reviews')\n",
    "plt.ylabel('Games #')\n",
    "plt.show()"
   ]
  },
  {
   "cell_type": "code",
   "execution_count": 44,
   "metadata": {},
   "outputs": [
    {
     "name": "stdout",
     "output_type": "stream",
     "text": [
      "Mean change: -12.62%\n"
     ]
    }
   ],
   "source": [
    "print('Mean change: {}%'.format(round((reviews_per_game_count[reviews_per_game_count <= 1704].mean() /\\\n",
    "                                       reviews_per_game_count.mean() - 1) * 100, 2)))"
   ]
  },
  {
   "cell_type": "markdown",
   "metadata": {},
   "source": [
    "Mean has dropped on 12.62%, other averages are unchanged.Let's inspect violin plot for values below or equal 100."
   ]
  },
  {
   "cell_type": "code",
   "execution_count": 45,
   "metadata": {},
   "outputs": [
    {
     "name": "stdout",
     "output_type": "stream",
     "text": [
      "%-age of used values: 97.34%\n",
      "Mean: 7.060546875\n",
      "Median: 2.0\n",
      "Mode: 1\n"
     ]
    },
    {
     "data": {
      "image/png": "[encoded data removed]",
      "text/plain": [
       "<Figure size 432x288 with 1 Axes>"
      ]
     },
     "metadata": {
      "needs_background": "light"
     },
     "output_type": "display_data"
    }
   ],
   "source": [
    "print('%-age of used values: {}%'\n",
    "      .format(round(reviews_per_game_count[reviews_per_game_count <= 100].shape[0] /\\\n",
    "                    reviews_per_game_count.shape[0] * 100, 2)))\n",
    "print('Mean:', reviews_per_game_count[reviews_per_game_count <= 100].mean())\n",
    "print('Median:', reviews_per_game_count[reviews_per_game_count <= 100].median())\n",
    "print('Mode:', reviews_per_game_count[reviews_per_game_count <= 100].mode()[0])\n",
    "ax = sns.violinplot(x=reviews_per_game_count[reviews_per_game_count <= 100])\n",
    "plt.xlabel('# of Reviews')\n",
    "plt.ylabel('Games #')\n",
    "plt.show()"
   ]
  },
  {
   "cell_type": "markdown",
   "metadata": {},
   "source": [
    "#### <font color='blue'>Recommender Function</font>"
   ]
  },
  {
   "cell_type": "code",
   "execution_count": 46,
   "metadata": {},
   "outputs": [],
   "source": [
    "transformer = TfidfTransformer()\n",
    "game_vectors_tf_idf = transformer.fit_transform(game_vectors)"
   ]
  },
  {
   "cell_type": "code",
   "execution_count": 47,
   "metadata": {},
   "outputs": [],
   "source": [
    "def cs_recommendation(game, top=10, recommendation=True):\n",
    "    \n",
    "    if type(game) == str:\n",
    "        game = [game]\n",
    "        \n",
    "    #receiving vector of a specified game\n",
    "    game_idx = corpus.index.get_indexer(game)\n",
    "    if -1 in game_idx:\n",
    "        raise Exception('Specified item_id does not exist')\n",
    "    game_vector = game_vectors_tf_idf[game_idx, :]\n",
    "\n",
    "    #estimating cosine similarities\n",
    "    cosine_df = pd.DataFrame(index=corpus.index)\n",
    "    cosine_df['cosine_similarity'] = cosine_similarity(game_vectors_tf_idf, game_vector)\n",
    "\n",
    "    cosine_df = cosine_df.sort_values(by='cosine_similarity', ascending=False)\n",
    "    cosine_df = cosine_df[cosine_df.index != game[0]]\n",
    "    \n",
    "    #returning recommendations (or cosine similarities)\n",
    "    if recommendation == True:\n",
    "        recommendations = pd.DataFrame()\n",
    "        recommendations['Id'] = cosine_df.index[0:top]\n",
    "        recommendations['Name'] = recommendations['Id'].apply(id_to_name)\n",
    "        return recommendations\n",
    "    if recommendation == False:\n",
    "        return cosine_df"
   ]
  },
  {
   "cell_type": "markdown",
   "metadata": {},
   "source": [
    "#### <font color='blue'>Answers</font>\n",
    "* Top 10 games related to 15130 (Beyond Good and Evil)\n",
    "* Top 10 games related to 620 (Portal 2)"
   ]
  },
  {
   "cell_type": "markdown",
   "metadata": {},
   "source": [
    "##### Top 10 games related to 15130 (Beyond Good and Evil)"
   ]
  },
  {
   "cell_type": "code",
   "execution_count": 48,
   "metadata": {},
   "outputs": [
    {
     "data": {
      "text/html": [
       "<div>\n",
       "<style scoped>\n",
       "    .dataframe tbody tr th:only-of-type {\n",
       "        vertical-align: middle;\n",
       "    }\n",
       "\n",
       "    .dataframe tbody tr th {\n",
       "        vertical-align: top;\n",
       "    }\n",
       "\n",
       "    .dataframe thead th {\n",
       "        text-align: right;\n",
       "    }\n",
       "</style>\n",
       "<table border=\"1\" class=\"dataframe\">\n",
       "  <thead>\n",
       "    <tr style=\"text-align: right;\">\n",
       "      <th></th>\n",
       "      <th>Id</th>\n",
       "      <th>Name</th>\n",
       "    </tr>\n",
       "  </thead>\n",
       "  <tbody>\n",
       "    <tr>\n",
       "      <th>0</th>\n",
       "      <td>391540</td>\n",
       "      <td>Undertale</td>\n",
       "    </tr>\n",
       "    <tr>\n",
       "      <th>1</th>\n",
       "      <td>275850</td>\n",
       "      <td>No Man's Sky</td>\n",
       "    </tr>\n",
       "    <tr>\n",
       "      <th>2</th>\n",
       "      <td>630</td>\n",
       "      <td>N/A</td>\n",
       "    </tr>\n",
       "    <tr>\n",
       "      <th>3</th>\n",
       "      <td>207610</td>\n",
       "      <td>The Walking Dead</td>\n",
       "    </tr>\n",
       "    <tr>\n",
       "      <th>4</th>\n",
       "      <td>50300</td>\n",
       "      <td>Spec Ops: The Line</td>\n",
       "    </tr>\n",
       "    <tr>\n",
       "      <th>5</th>\n",
       "      <td>239820</td>\n",
       "      <td>Game Dev Tycoon</td>\n",
       "    </tr>\n",
       "    <tr>\n",
       "      <th>6</th>\n",
       "      <td>261570</td>\n",
       "      <td>Ori and the Blind Forest</td>\n",
       "    </tr>\n",
       "    <tr>\n",
       "      <th>7</th>\n",
       "      <td>220240</td>\n",
       "      <td>Far Cry® 3</td>\n",
       "    </tr>\n",
       "    <tr>\n",
       "      <th>8</th>\n",
       "      <td>8870</td>\n",
       "      <td>BioShock Infinite</td>\n",
       "    </tr>\n",
       "    <tr>\n",
       "      <th>9</th>\n",
       "      <td>220</td>\n",
       "      <td>Half-Life 2</td>\n",
       "    </tr>\n",
       "  </tbody>\n",
       "</table>\n",
       "</div>"
      ],
      "text/plain": [
       "       Id                      Name\n",
       "0  391540                 Undertale\n",
       "1  275850              No Man's Sky\n",
       "2     630                       N/A\n",
       "3  207610          The Walking Dead\n",
       "4   50300        Spec Ops: The Line\n",
       "5  239820           Game Dev Tycoon\n",
       "6  261570  Ori and the Blind Forest\n",
       "7  220240                Far Cry® 3\n",
       "8    8870         BioShock Infinite\n",
       "9     220               Half-Life 2"
      ]
     },
     "execution_count": 48,
     "metadata": {},
     "output_type": "execute_result"
    }
   ],
   "source": [
    "cs_recommendation('15130')"
   ]
  },
  {
   "cell_type": "markdown",
   "metadata": {},
   "source": [
    "##### Top 10 games related to 620 (Portal 2)"
   ]
  },
  {
   "cell_type": "code",
   "execution_count": 49,
   "metadata": {},
   "outputs": [
    {
     "data": {
      "text/html": [
       "<div>\n",
       "<style scoped>\n",
       "    .dataframe tbody tr th:only-of-type {\n",
       "        vertical-align: middle;\n",
       "    }\n",
       "\n",
       "    .dataframe tbody tr th {\n",
       "        vertical-align: top;\n",
       "    }\n",
       "\n",
       "    .dataframe thead th {\n",
       "        text-align: right;\n",
       "    }\n",
       "</style>\n",
       "<table border=\"1\" class=\"dataframe\">\n",
       "  <thead>\n",
       "    <tr style=\"text-align: right;\">\n",
       "      <th></th>\n",
       "      <th>Id</th>\n",
       "      <th>Name</th>\n",
       "    </tr>\n",
       "  </thead>\n",
       "  <tbody>\n",
       "    <tr>\n",
       "      <th>0</th>\n",
       "      <td>400</td>\n",
       "      <td>Portal</td>\n",
       "    </tr>\n",
       "    <tr>\n",
       "      <th>1</th>\n",
       "      <td>317400</td>\n",
       "      <td>Portal Stories: Mel</td>\n",
       "    </tr>\n",
       "    <tr>\n",
       "      <th>2</th>\n",
       "      <td>286080</td>\n",
       "      <td>Thinking with Time Machine</td>\n",
       "    </tr>\n",
       "    <tr>\n",
       "      <th>3</th>\n",
       "      <td>200010</td>\n",
       "      <td>Quantum Conundrum</td>\n",
       "    </tr>\n",
       "    <tr>\n",
       "      <th>4</th>\n",
       "      <td>410</td>\n",
       "      <td>N/A</td>\n",
       "    </tr>\n",
       "    <tr>\n",
       "      <th>5</th>\n",
       "      <td>220</td>\n",
       "      <td>Half-Life 2</td>\n",
       "    </tr>\n",
       "    <tr>\n",
       "      <th>6</th>\n",
       "      <td>219890</td>\n",
       "      <td>Antichamber</td>\n",
       "    </tr>\n",
       "    <tr>\n",
       "      <th>7</th>\n",
       "      <td>330710</td>\n",
       "      <td>N/A</td>\n",
       "    </tr>\n",
       "    <tr>\n",
       "      <th>8</th>\n",
       "      <td>49520</td>\n",
       "      <td>Borderlands 2</td>\n",
       "    </tr>\n",
       "    <tr>\n",
       "      <th>9</th>\n",
       "      <td>239820</td>\n",
       "      <td>Game Dev Tycoon</td>\n",
       "    </tr>\n",
       "  </tbody>\n",
       "</table>\n",
       "</div>"
      ],
      "text/plain": [
       "       Id                        Name\n",
       "0     400                      Portal\n",
       "1  317400         Portal Stories: Mel\n",
       "2  286080  Thinking with Time Machine\n",
       "3  200010           Quantum Conundrum\n",
       "4     410                         N/A\n",
       "5     220                 Half-Life 2\n",
       "6  219890                 Antichamber\n",
       "7  330710                         N/A\n",
       "8   49520               Borderlands 2\n",
       "9  239820             Game Dev Tycoon"
      ]
     },
     "execution_count": 49,
     "metadata": {},
     "output_type": "execute_result"
    }
   ],
   "source": [
    "cs_recommendation('620')"
   ]
  },
  {
   "cell_type": "markdown",
   "metadata": {},
   "source": [
    "## Collaborative Filtering Neighborhoods\n",
    "\n",
    "Finally, we want to use item-based collaborative filtering to produce neighborhoods.\n",
    "\n",
    "For this, we will compute the cosine between items' vectors, where the vectors are 1 if the user has the game and 0 if the user does not.\n",
    "\n",
    "Priori to computing similarities, normalize each _user's_ vector to have an $L_2$ norm of 1 (be a unit vector).\n",
    "\n",
    "Give the top 10 games similar to 15130 (_Beyond Good and Evil_) and 620 (_Portal 2_)."
   ]
  },
  {
   "cell_type": "markdown",
   "metadata": {},
   "source": [
    "### <font color='blue'>Collaborative Filtering Neighborhoods - Solution</font>"
   ]
  },
  {
   "cell_type": "markdown",
   "metadata": {},
   "source": [
    "#### <font color='blue'>Recommender Function</font>"
   ]
  },
  {
   "cell_type": "code",
   "execution_count": 50,
   "metadata": {},
   "outputs": [],
   "source": [
    "game_user_matrix = user_game_matrix.T\n",
    "game_user_matrix_normalized = normalize(game_user_matrix)"
   ]
  },
  {
   "cell_type": "code",
   "execution_count": 51,
   "metadata": {},
   "outputs": [],
   "source": [
    "def cfn_recommendation(game, top=10, recommendation=True):\n",
    "    \n",
    "    if type(game) == str:\n",
    "        game = [game]\n",
    "        \n",
    "    #receiving vector of a specified game\n",
    "    game_idx = game_index.get_indexer(game)\n",
    "    if -1 in game_idx:\n",
    "        raise Exception('Specified item_id does not exist')\n",
    "    game_vector = game_user_matrix_normalized[game_idx, :]\n",
    "\n",
    "    #estimating cosine similarities\n",
    "    cosine_df = pd.DataFrame(index=game_index)\n",
    "    cosine_df['cosine_similarity'] = cosine_similarity(game_user_matrix_normalized, game_vector)\n",
    "\n",
    "    cosine_df = cosine_df.sort_values(by='cosine_similarity', ascending=False)\n",
    "    cosine_df = cosine_df[cosine_df.index != game[0]]\n",
    "    \n",
    "    #returning recommendations (or cosine similarities)\n",
    "    if recommendation == True:\n",
    "        recommendations = pd.DataFrame()\n",
    "        recommendations['Id'] = cosine_df.index[0:top]\n",
    "        recommendations['Name'] = recommendations['Id'].apply(id_to_name)\n",
    "        return recommendations\n",
    "    if recommendation == False:\n",
    "        return cosine_df"
   ]
  },
  {
   "cell_type": "markdown",
   "metadata": {},
   "source": [
    "#### <font color='blue'>Answers</font>\n",
    "* Top 10 games related to 15130 (Beyond Good and Evil)\n",
    "* Top 10 games related to 620 (Portal 2)"
   ]
  },
  {
   "cell_type": "markdown",
   "metadata": {},
   "source": [
    "##### Top 10 games related to 15130 (Beyond Good and Evil)"
   ]
  },
  {
   "cell_type": "code",
   "execution_count": 52,
   "metadata": {},
   "outputs": [
    {
     "data": {
      "text/html": [
       "<div>\n",
       "<style scoped>\n",
       "    .dataframe tbody tr th:only-of-type {\n",
       "        vertical-align: middle;\n",
       "    }\n",
       "\n",
       "    .dataframe tbody tr th {\n",
       "        vertical-align: top;\n",
       "    }\n",
       "\n",
       "    .dataframe thead th {\n",
       "        text-align: right;\n",
       "    }\n",
       "</style>\n",
       "<table border=\"1\" class=\"dataframe\">\n",
       "  <thead>\n",
       "    <tr style=\"text-align: right;\">\n",
       "      <th></th>\n",
       "      <th>Id</th>\n",
       "      <th>Name</th>\n",
       "    </tr>\n",
       "  </thead>\n",
       "  <tbody>\n",
       "    <tr>\n",
       "      <th>0</th>\n",
       "      <td>32360</td>\n",
       "      <td>The Secret of Monkey Island: Special Edition</td>\n",
       "    </tr>\n",
       "    <tr>\n",
       "      <th>1</th>\n",
       "      <td>32460</td>\n",
       "      <td>Monkey Island 2: Special Edition</td>\n",
       "    </tr>\n",
       "    <tr>\n",
       "      <th>2</th>\n",
       "      <td>207490</td>\n",
       "      <td>Rayman Origins</td>\n",
       "    </tr>\n",
       "    <tr>\n",
       "      <th>3</th>\n",
       "      <td>2100</td>\n",
       "      <td>Dark Messiah of Might &amp; Magic Single Player</td>\n",
       "    </tr>\n",
       "    <tr>\n",
       "      <th>4</th>\n",
       "      <td>13600</td>\n",
       "      <td>Prince of Persia: The Sands of Time</td>\n",
       "    </tr>\n",
       "    <tr>\n",
       "      <th>5</th>\n",
       "      <td>2130</td>\n",
       "      <td>Dark Messiah of Might &amp; Magic Multi-Player</td>\n",
       "    </tr>\n",
       "    <tr>\n",
       "      <th>6</th>\n",
       "      <td>33610</td>\n",
       "      <td>Broken Sword 3 - the Sleeping Dragon</td>\n",
       "    </tr>\n",
       "    <tr>\n",
       "      <th>7</th>\n",
       "      <td>7110</td>\n",
       "      <td>Jade Empire: Special Edition</td>\n",
       "    </tr>\n",
       "    <tr>\n",
       "      <th>8</th>\n",
       "      <td>3830</td>\n",
       "      <td>Psychonauts</td>\n",
       "    </tr>\n",
       "    <tr>\n",
       "      <th>9</th>\n",
       "      <td>6310</td>\n",
       "      <td>The Longest Journey</td>\n",
       "    </tr>\n",
       "  </tbody>\n",
       "</table>\n",
       "</div>"
      ],
      "text/plain": [
       "       Id                                          Name\n",
       "0   32360  The Secret of Monkey Island: Special Edition\n",
       "1   32460              Monkey Island 2: Special Edition\n",
       "2  207490                                Rayman Origins\n",
       "3    2100   Dark Messiah of Might & Magic Single Player\n",
       "4   13600           Prince of Persia: The Sands of Time\n",
       "5    2130    Dark Messiah of Might & Magic Multi-Player\n",
       "6   33610          Broken Sword 3 - the Sleeping Dragon\n",
       "7    7110                  Jade Empire: Special Edition\n",
       "8    3830                                   Psychonauts\n",
       "9    6310                           The Longest Journey"
      ]
     },
     "execution_count": 52,
     "metadata": {},
     "output_type": "execute_result"
    }
   ],
   "source": [
    "cfn_recommendation('15130')"
   ]
  },
  {
   "cell_type": "markdown",
   "metadata": {},
   "source": [
    "##### Top 10 games related to  620 (Portal 2)"
   ]
  },
  {
   "cell_type": "code",
   "execution_count": 53,
   "metadata": {},
   "outputs": [
    {
     "data": {
      "text/html": [
       "<div>\n",
       "<style scoped>\n",
       "    .dataframe tbody tr th:only-of-type {\n",
       "        vertical-align: middle;\n",
       "    }\n",
       "\n",
       "    .dataframe tbody tr th {\n",
       "        vertical-align: top;\n",
       "    }\n",
       "\n",
       "    .dataframe thead th {\n",
       "        text-align: right;\n",
       "    }\n",
       "</style>\n",
       "<table border=\"1\" class=\"dataframe\">\n",
       "  <thead>\n",
       "    <tr style=\"text-align: right;\">\n",
       "      <th></th>\n",
       "      <th>Id</th>\n",
       "      <th>Name</th>\n",
       "    </tr>\n",
       "  </thead>\n",
       "  <tbody>\n",
       "    <tr>\n",
       "      <th>0</th>\n",
       "      <td>400</td>\n",
       "      <td>Portal</td>\n",
       "    </tr>\n",
       "    <tr>\n",
       "      <th>1</th>\n",
       "      <td>4000</td>\n",
       "      <td>Garry's Mod</td>\n",
       "    </tr>\n",
       "    <tr>\n",
       "      <th>2</th>\n",
       "      <td>223530</td>\n",
       "      <td>Left 4 Dead 2 Beta</td>\n",
       "    </tr>\n",
       "    <tr>\n",
       "      <th>3</th>\n",
       "      <td>550</td>\n",
       "      <td>Left 4 Dead 2</td>\n",
       "    </tr>\n",
       "    <tr>\n",
       "      <th>4</th>\n",
       "      <td>730</td>\n",
       "      <td>Counter-Strike: Global Offensive</td>\n",
       "    </tr>\n",
       "    <tr>\n",
       "      <th>5</th>\n",
       "      <td>105600</td>\n",
       "      <td>Terraria</td>\n",
       "    </tr>\n",
       "    <tr>\n",
       "      <th>6</th>\n",
       "      <td>340</td>\n",
       "      <td>Half-Life 2: Lost Coast</td>\n",
       "    </tr>\n",
       "    <tr>\n",
       "      <th>7</th>\n",
       "      <td>220</td>\n",
       "      <td>Half-Life 2</td>\n",
       "    </tr>\n",
       "    <tr>\n",
       "      <th>8</th>\n",
       "      <td>72850</td>\n",
       "      <td>The Elder Scrolls V: Skyrim</td>\n",
       "    </tr>\n",
       "    <tr>\n",
       "      <th>9</th>\n",
       "      <td>49520</td>\n",
       "      <td>Borderlands 2</td>\n",
       "    </tr>\n",
       "  </tbody>\n",
       "</table>\n",
       "</div>"
      ],
      "text/plain": [
       "       Id                              Name\n",
       "0     400                            Portal\n",
       "1    4000                       Garry's Mod\n",
       "2  223530                Left 4 Dead 2 Beta\n",
       "3     550                     Left 4 Dead 2\n",
       "4     730  Counter-Strike: Global Offensive\n",
       "5  105600                          Terraria\n",
       "6     340           Half-Life 2: Lost Coast\n",
       "7     220                       Half-Life 2\n",
       "8   72850       The Elder Scrolls V: Skyrim\n",
       "9   49520                     Borderlands 2"
      ]
     },
     "execution_count": 53,
     "metadata": {},
     "output_type": "execute_result"
    }
   ],
   "source": [
    "cfn_recommendation('620')"
   ]
  },
  {
   "cell_type": "markdown",
   "metadata": {},
   "source": [
    "## Personalization\n",
    "\n",
    "Finally, we want to personalize to a user, not just to a particular vector!\n",
    "\n",
    "Each user will be represented by their list of games they own, and we want to suggest new games to purchase.\n",
    "\n",
    "Pick two users from the list of users, and recommend games they don't yet own. Generate three recommendation lists, one with each of:\n",
    "\n",
    "* Lift - the sum of the lift with respect to the user's game library\n",
    "* Content similarity - the sum of the similarities with respect to each game in their list\n",
    "* CF similarity - again, sum of similarities\n",
    "\n",
    "Why is sum a reasonable thing to do here? Why not an average or weighted average?"
   ]
  },
  {
   "cell_type": "markdown",
   "metadata": {},
   "source": [
    "### <font color='blue'>Personalization - Solution</font>"
   ]
  },
  {
   "cell_type": "markdown",
   "metadata": {},
   "source": [
    "Below are 3 blocks:\n",
    "* <b>Questions Answers:</b> contains answers on questions: 'Why is sum a reasonable thing to do here? Why not an average or weighted average?'.\n",
    "* <b>Recommender Function:</b> function, which returns top n related games <u>for user</u> basing on selected metric.\n",
    "* <b>Answers</b>: recommendations for 2 randomly selected users."
   ]
  },
  {
   "cell_type": "markdown",
   "metadata": {},
   "source": [
    "#### <font color='blue'>Questions Answers</font>\n",
    ">Why is sum a reasonable thing to do here? Why not an average or weighted average?"
   ]
  },
  {
   "cell_type": "markdown",
   "metadata": {},
   "source": [
    "<b>Sum is reasonable</b> because we need to aggregate games' scores and assign only one score to each game.\n",
    "\n",
    "<b>Average</b> also could be used, but due to the fact that each sum of scores for each related game will be divided on the same value (which equals to amount of games which a user owns) the final ranking based on an average score would be the same as a ranking based on a sum of scores. <b>But...</b><br/>\n",
    "...if the Lift metric is utilized and high threshholds for Support and Confidence are set up (e.g. for speed optimization purposes) it could be reasonable to use <b><i>modified</i> average</b>, where nominator is a sum of scores (the same) and <u>divider is a number of scores (NOT a number of user's games)</u>. This approach will allow to smooth the effect of high thresholds, i.e. a small number of games related to each user's game.\n",
    "\n",
    "<b>Weighted average</b> couldn't be used, because we do not have information about weights. <b>But...</b><br/>\n",
    "...it is not complete true, because we could extract some information (e.g. (1) from reviews, (2) from hours spent playing, etc.) about 'valuableness' of a game for a user and elaborate weights basing on this information."
   ]
  },
  {
   "cell_type": "markdown",
   "metadata": {},
   "source": [
    "#### <font color='blue'>Recommender Function</font>\n",
    "The algorithm:\n",
    "1. receives recommendation table (table of related games) for each user's game;\n",
    "2. merges these tables using item_id as a key;\n",
    "3. drops games, which user already has;\n",
    "4. estimates sum of scores for each game;\n",
    "5. returns top n (`top=n`) recommendation by score.\n",
    "\n",
    "Due to limited reviews data, inasmuch a possible absence of reviews for some of user's games, a counter of used games was implemented for algorithm based on <b>Content Similarity metric</b>. The counter shows a number of user's games used for creating recommendations, i.e. a number of user's games, which has reviews.\n",
    "\n",
    "P.S.<br/>\n",
    "One of <u>possible</u> improvement of the algorithm is to exclude user information from training data. This improvement is out of scope of this solution."
   ]
  },
  {
   "cell_type": "code",
   "execution_count": 54,
   "metadata": {},
   "outputs": [],
   "source": [
    "def personalized_recommendation(user_id, metric, top=10, recommendation=True, lift_thresholds = (0.1, 0.7)):\n",
    "    \n",
    "    if user_id not in user_games['user_id'].unique():\n",
    "        raise Exception('Specified user_id does not exist')\n",
    "    \n",
    "    #user's games\n",
    "    games_all = user_games[user_games['user_id'] == user_id]['item_id'].unique()\n",
    "    \n",
    "    if metric == 'content_similarity':\n",
    "        games_cleared = [game for game in games_all if game in game_reviews['item_id'].unique()]\n",
    "    else:\n",
    "        games_cleared = games_all\n",
    "    \n",
    "    #initializing df for storing scores\n",
    "    scores = pd.DataFrame(index=user_games['item_id'].append(game_reviews['item_id']).unique())\n",
    "    \n",
    "    for game in tqdm(games_cleared):\n",
    "\n",
    "        if metric == 'lift':\n",
    "\n",
    "            min_support = lift_thresholds[0]\n",
    "            min_confidence = lift_thresholds[1]\n",
    "\n",
    "            related_games = ar_recommendation(game, metric='lift',\n",
    "                                              min_support=min_support, min_confidence=min_confidence,\n",
    "                                              recommendation=False)\n",
    "\n",
    "            #creating df for further merge\n",
    "            related_games_merge = pd.DataFrame(index=related_games['target'])\n",
    "            related_games_merge[game] = related_games['lift (target | condition)'].values\n",
    "\n",
    "        if metric == 'content_similarity':\n",
    "\n",
    "            related_games = cs_recommendation(game, recommendation=False)\n",
    "\n",
    "            #creating df for further merge\n",
    "            related_games_merge = pd.DataFrame(index=related_games.index)\n",
    "            related_games_merge[game] = related_games['cosine_similarity'].values\n",
    "\n",
    "        if metric == 'cf_similarity':\n",
    "\n",
    "            related_games = cfn_recommendation(game, recommendation=False)\n",
    "            \n",
    "            #creating df for further merge\n",
    "            related_games_merge = pd.DataFrame(index=related_games.index)\n",
    "            related_games_merge[game] = related_games['cosine_similarity'].values\n",
    "\n",
    "        #merging results\n",
    "        scores = scores.merge(related_games_merge, how='left',\n",
    "                              left_index=True, right_index=True)\n",
    "\n",
    "    #removing games, which user owns\n",
    "    scores = scores.drop(index=games_all)\n",
    "\n",
    "    #estimating total score\n",
    "    scores['total_score'] = scores.sum(axis=1)\n",
    "    scores = scores.sort_values(by='total_score', ascending=False)\n",
    "\n",
    "    if recommendation == True:\n",
    "        recommendations = pd.DataFrame()\n",
    "        recommendations['Id'] = scores.index[0:top]\n",
    "        recommendations['Name'] = recommendations['Id'].apply(id_to_name)\n",
    "        #for Content Similarity metric: print the amount of games which have reviews\n",
    "        if metric == 'content_similarity':\n",
    "            print('{} of {} ({}%) user\\'s games have reviews'\n",
    "                  .format(len(games_cleared),\n",
    "                          len(games_all),\n",
    "                          round(len(games_cleared) / len(games_all) * 100, 2)))\n",
    "        \n",
    "        return recommendations\n",
    "    \n",
    "    if recommendation == False:\n",
    "        return scores"
   ]
  },
  {
   "cell_type": "markdown",
   "metadata": {},
   "source": [
    "#### <font color='blue'>Answers</font>\n",
    "* Recommendations for User 1  \n",
    "* Recommendations for User 2"
   ]
  },
  {
   "cell_type": "code",
   "execution_count": 55,
   "metadata": {},
   "outputs": [],
   "source": [
    "np.random.seed(17)\n",
    "#I usually use '17' for random seeds (you can check it in my GitHub profile :-) )\n",
    "user_1 = np.random.choice(user_index)\n",
    "user_2 = np.random.choice(user_index)"
   ]
  },
  {
   "cell_type": "code",
   "execution_count": 56,
   "metadata": {},
   "outputs": [
    {
     "name": "stdout",
     "output_type": "stream",
     "text": [
      "User 1 id: 76561198090331907\n",
      "User 2 id: 76561198084009164\n"
     ]
    }
   ],
   "source": [
    "print('User 1 id:', user_1)\n",
    "print('User 2 id:', user_2)"
   ]
  },
  {
   "cell_type": "markdown",
   "metadata": {},
   "source": [
    "##### User 1"
   ]
  },
  {
   "cell_type": "code",
   "execution_count": 57,
   "metadata": {},
   "outputs": [
    {
     "name": "stdout",
     "output_type": "stream",
     "text": [
      "Metric: lift\n"
     ]
    },
    {
     "data": {
      "application/vnd.jupyter.widget-view+json": {
       "model_id": "6bff16f299a4447b98bfd213a691a8bc",
       "version_major": 2,
       "version_minor": 0
      },
      "text/plain": [
       "HBox(children=(IntProgress(value=0, max=35), HTML(value='')))"
      ]
     },
     "metadata": {},
     "output_type": "display_data"
    },
    {
     "name": "stdout",
     "output_type": "stream",
     "text": [
      "\n"
     ]
    },
    {
     "data": {
      "text/html": [
       "<div>\n",
       "<style scoped>\n",
       "    .dataframe tbody tr th:only-of-type {\n",
       "        vertical-align: middle;\n",
       "    }\n",
       "\n",
       "    .dataframe tbody tr th {\n",
       "        vertical-align: top;\n",
       "    }\n",
       "\n",
       "    .dataframe thead th {\n",
       "        text-align: right;\n",
       "    }\n",
       "</style>\n",
       "<table border=\"1\" class=\"dataframe\">\n",
       "  <thead>\n",
       "    <tr style=\"text-align: right;\">\n",
       "      <th></th>\n",
       "      <th>Id</th>\n",
       "      <th>Name</th>\n",
       "    </tr>\n",
       "  </thead>\n",
       "  <tbody>\n",
       "    <tr>\n",
       "      <th>0</th>\n",
       "      <td>205790</td>\n",
       "      <td>Dota 2 Test</td>\n",
       "    </tr>\n",
       "    <tr>\n",
       "      <th>1</th>\n",
       "      <td>620</td>\n",
       "      <td>Portal 2</td>\n",
       "    </tr>\n",
       "    <tr>\n",
       "      <th>2</th>\n",
       "      <td>17470</td>\n",
       "      <td>Dead Space</td>\n",
       "    </tr>\n",
       "    <tr>\n",
       "      <th>3</th>\n",
       "      <td>240</td>\n",
       "      <td>Counter-Strike: Source</td>\n",
       "    </tr>\n",
       "    <tr>\n",
       "      <th>4</th>\n",
       "      <td>17410</td>\n",
       "      <td>Mirror's Edge</td>\n",
       "    </tr>\n",
       "    <tr>\n",
       "      <th>5</th>\n",
       "      <td>400580</td>\n",
       "      <td>Black Closet</td>\n",
       "    </tr>\n",
       "    <tr>\n",
       "      <th>6</th>\n",
       "      <td>378260</td>\n",
       "      <td>Fortify</td>\n",
       "    </tr>\n",
       "    <tr>\n",
       "      <th>7</th>\n",
       "      <td>391280</td>\n",
       "      <td>Epic Manager</td>\n",
       "    </tr>\n",
       "    <tr>\n",
       "      <th>8</th>\n",
       "      <td>397160</td>\n",
       "      <td>Aurora Dusk: Steam Age</td>\n",
       "    </tr>\n",
       "    <tr>\n",
       "      <th>9</th>\n",
       "      <td>455980</td>\n",
       "      <td>Judgment: Apocalypse Survival Simulation</td>\n",
       "    </tr>\n",
       "  </tbody>\n",
       "</table>\n",
       "</div>"
      ],
      "text/plain": [
       "       Id                                      Name\n",
       "0  205790                               Dota 2 Test\n",
       "1     620                                  Portal 2\n",
       "2   17470                                Dead Space\n",
       "3     240                    Counter-Strike: Source\n",
       "4   17410                             Mirror's Edge\n",
       "5  400580                              Black Closet\n",
       "6  378260                                   Fortify\n",
       "7  391280                              Epic Manager\n",
       "8  397160                    Aurora Dusk: Steam Age\n",
       "9  455980  Judgment: Apocalypse Survival Simulation"
      ]
     },
     "metadata": {},
     "output_type": "display_data"
    },
    {
     "name": "stdout",
     "output_type": "stream",
     "text": [
      "Metric: content_similarity\n"
     ]
    },
    {
     "data": {
      "application/vnd.jupyter.widget-view+json": {
       "model_id": "2a9249ee6e9540e6b6e89da4597a24b6",
       "version_major": 2,
       "version_minor": 0
      },
      "text/plain": [
       "HBox(children=(IntProgress(value=0, max=32), HTML(value='')))"
      ]
     },
     "metadata": {},
     "output_type": "display_data"
    },
    {
     "name": "stdout",
     "output_type": "stream",
     "text": [
      "\n",
      "32 of 35 (91.43%) user's games have reviews\n"
     ]
    },
    {
     "data": {
      "text/html": [
       "<div>\n",
       "<style scoped>\n",
       "    .dataframe tbody tr th:only-of-type {\n",
       "        vertical-align: middle;\n",
       "    }\n",
       "\n",
       "    .dataframe tbody tr th {\n",
       "        vertical-align: top;\n",
       "    }\n",
       "\n",
       "    .dataframe thead th {\n",
       "        text-align: right;\n",
       "    }\n",
       "</style>\n",
       "<table border=\"1\" class=\"dataframe\">\n",
       "  <thead>\n",
       "    <tr style=\"text-align: right;\">\n",
       "      <th></th>\n",
       "      <th>Id</th>\n",
       "      <th>Name</th>\n",
       "    </tr>\n",
       "  </thead>\n",
       "  <tbody>\n",
       "    <tr>\n",
       "      <th>0</th>\n",
       "      <td>239820</td>\n",
       "      <td>Game Dev Tycoon</td>\n",
       "    </tr>\n",
       "    <tr>\n",
       "      <th>1</th>\n",
       "      <td>251570</td>\n",
       "      <td>7 Days to Die</td>\n",
       "    </tr>\n",
       "    <tr>\n",
       "      <th>2</th>\n",
       "      <td>218230</td>\n",
       "      <td>PlanetSide 2</td>\n",
       "    </tr>\n",
       "    <tr>\n",
       "      <th>3</th>\n",
       "      <td>208090</td>\n",
       "      <td>Loadout</td>\n",
       "    </tr>\n",
       "    <tr>\n",
       "      <th>4</th>\n",
       "      <td>221100</td>\n",
       "      <td>DayZ</td>\n",
       "    </tr>\n",
       "    <tr>\n",
       "      <th>5</th>\n",
       "      <td>227940</td>\n",
       "      <td>Heroes &amp; Generals</td>\n",
       "    </tr>\n",
       "    <tr>\n",
       "      <th>6</th>\n",
       "      <td>295110</td>\n",
       "      <td>H1Z1: Just Survive</td>\n",
       "    </tr>\n",
       "    <tr>\n",
       "      <th>7</th>\n",
       "      <td>207610</td>\n",
       "      <td>The Walking Dead</td>\n",
       "    </tr>\n",
       "    <tr>\n",
       "      <th>8</th>\n",
       "      <td>204360</td>\n",
       "      <td>Castle Crashers</td>\n",
       "    </tr>\n",
       "    <tr>\n",
       "      <th>9</th>\n",
       "      <td>243870</td>\n",
       "      <td>Tom Clancy's Ghost Recon Phantoms - NA</td>\n",
       "    </tr>\n",
       "  </tbody>\n",
       "</table>\n",
       "</div>"
      ],
      "text/plain": [
       "       Id                                    Name\n",
       "0  239820                         Game Dev Tycoon\n",
       "1  251570                           7 Days to Die\n",
       "2  218230                            PlanetSide 2\n",
       "3  208090                                 Loadout\n",
       "4  221100                                    DayZ\n",
       "5  227940                       Heroes & Generals\n",
       "6  295110                      H1Z1: Just Survive\n",
       "7  207610                        The Walking Dead\n",
       "8  204360                         Castle Crashers\n",
       "9  243870  Tom Clancy's Ghost Recon Phantoms - NA"
      ]
     },
     "metadata": {},
     "output_type": "display_data"
    },
    {
     "name": "stdout",
     "output_type": "stream",
     "text": [
      "Metric: cf_similarity\n"
     ]
    },
    {
     "data": {
      "application/vnd.jupyter.widget-view+json": {
       "model_id": "aec130b947ce47d49d82a4f0d25d526e",
       "version_major": 2,
       "version_minor": 0
      },
      "text/plain": [
       "HBox(children=(IntProgress(value=0, max=35), HTML(value='')))"
      ]
     },
     "metadata": {},
     "output_type": "display_data"
    },
    {
     "name": "stdout",
     "output_type": "stream",
     "text": [
      "\n"
     ]
    },
    {
     "data": {
      "text/html": [
       "<div>\n",
       "<style scoped>\n",
       "    .dataframe tbody tr th:only-of-type {\n",
       "        vertical-align: middle;\n",
       "    }\n",
       "\n",
       "    .dataframe tbody tr th {\n",
       "        vertical-align: top;\n",
       "    }\n",
       "\n",
       "    .dataframe thead th {\n",
       "        text-align: right;\n",
       "    }\n",
       "</style>\n",
       "<table border=\"1\" class=\"dataframe\">\n",
       "  <thead>\n",
       "    <tr style=\"text-align: right;\">\n",
       "      <th></th>\n",
       "      <th>Id</th>\n",
       "      <th>Name</th>\n",
       "    </tr>\n",
       "  </thead>\n",
       "  <tbody>\n",
       "    <tr>\n",
       "      <th>0</th>\n",
       "      <td>620</td>\n",
       "      <td>Portal 2</td>\n",
       "    </tr>\n",
       "    <tr>\n",
       "      <th>1</th>\n",
       "      <td>240</td>\n",
       "      <td>Counter-Strike: Source</td>\n",
       "    </tr>\n",
       "    <tr>\n",
       "      <th>2</th>\n",
       "      <td>205790</td>\n",
       "      <td>Dota 2 Test</td>\n",
       "    </tr>\n",
       "    <tr>\n",
       "      <th>3</th>\n",
       "      <td>218620</td>\n",
       "      <td>PAYDAY 2</td>\n",
       "    </tr>\n",
       "    <tr>\n",
       "      <th>4</th>\n",
       "      <td>55230</td>\n",
       "      <td>Saints Row: The Third</td>\n",
       "    </tr>\n",
       "    <tr>\n",
       "      <th>5</th>\n",
       "      <td>8870</td>\n",
       "      <td>BioShock Infinite</td>\n",
       "    </tr>\n",
       "    <tr>\n",
       "      <th>6</th>\n",
       "      <td>8930</td>\n",
       "      <td>Sid Meier's Civilization V</td>\n",
       "    </tr>\n",
       "    <tr>\n",
       "      <th>7</th>\n",
       "      <td>409710</td>\n",
       "      <td>BioShock Remastered</td>\n",
       "    </tr>\n",
       "    <tr>\n",
       "      <th>8</th>\n",
       "      <td>7670</td>\n",
       "      <td>BioShock</td>\n",
       "    </tr>\n",
       "    <tr>\n",
       "      <th>9</th>\n",
       "      <td>232210</td>\n",
       "      <td>Patch testing for Chivalry</td>\n",
       "    </tr>\n",
       "  </tbody>\n",
       "</table>\n",
       "</div>"
      ],
      "text/plain": [
       "       Id                        Name\n",
       "0     620                    Portal 2\n",
       "1     240      Counter-Strike: Source\n",
       "2  205790                 Dota 2 Test\n",
       "3  218620                    PAYDAY 2\n",
       "4   55230       Saints Row: The Third\n",
       "5    8870           BioShock Infinite\n",
       "6    8930  Sid Meier's Civilization V\n",
       "7  409710         BioShock Remastered\n",
       "8    7670                    BioShock\n",
       "9  232210  Patch testing for Chivalry"
      ]
     },
     "metadata": {},
     "output_type": "display_data"
    }
   ],
   "source": [
    "for metric in ['lift', 'content_similarity', 'cf_similarity']:\n",
    "    print('Metric: {}'.format(metric))\n",
    "    recommendations = personalized_recommendation(user_1, metric=metric)\n",
    "    ICD.display(recommendations)"
   ]
  },
  {
   "cell_type": "markdown",
   "metadata": {},
   "source": [
    "##### User 2"
   ]
  },
  {
   "cell_type": "code",
   "execution_count": 58,
   "metadata": {},
   "outputs": [
    {
     "name": "stdout",
     "output_type": "stream",
     "text": [
      "Metric: lift\n"
     ]
    },
    {
     "data": {
      "application/vnd.jupyter.widget-view+json": {
       "model_id": "5382d5f8f03a4d71bd90149a34457749",
       "version_major": 2,
       "version_minor": 0
      },
      "text/plain": [
       "HBox(children=(IntProgress(value=0, max=55), HTML(value='')))"
      ]
     },
     "metadata": {},
     "output_type": "display_data"
    },
    {
     "name": "stdout",
     "output_type": "stream",
     "text": [
      "\n"
     ]
    },
    {
     "data": {
      "text/html": [
       "<div>\n",
       "<style scoped>\n",
       "    .dataframe tbody tr th:only-of-type {\n",
       "        vertical-align: middle;\n",
       "    }\n",
       "\n",
       "    .dataframe tbody tr th {\n",
       "        vertical-align: top;\n",
       "    }\n",
       "\n",
       "    .dataframe thead th {\n",
       "        text-align: right;\n",
       "    }\n",
       "</style>\n",
       "<table border=\"1\" class=\"dataframe\">\n",
       "  <thead>\n",
       "    <tr style=\"text-align: right;\">\n",
       "      <th></th>\n",
       "      <th>Id</th>\n",
       "      <th>Name</th>\n",
       "    </tr>\n",
       "  </thead>\n",
       "  <tbody>\n",
       "    <tr>\n",
       "      <th>0</th>\n",
       "      <td>205790</td>\n",
       "      <td>Dota 2 Test</td>\n",
       "    </tr>\n",
       "    <tr>\n",
       "      <th>1</th>\n",
       "      <td>6060</td>\n",
       "      <td>STAR WARS™ Battlefront™ II</td>\n",
       "    </tr>\n",
       "    <tr>\n",
       "      <th>2</th>\n",
       "      <td>12220</td>\n",
       "      <td>Grand Theft Auto: Episodes from Liberty City</td>\n",
       "    </tr>\n",
       "    <tr>\n",
       "      <th>3</th>\n",
       "      <td>12210</td>\n",
       "      <td>Grand Theft Auto IV</td>\n",
       "    </tr>\n",
       "    <tr>\n",
       "      <th>4</th>\n",
       "      <td>17470</td>\n",
       "      <td>Dead Space</td>\n",
       "    </tr>\n",
       "    <tr>\n",
       "      <th>5</th>\n",
       "      <td>17410</td>\n",
       "      <td>Mirror's Edge</td>\n",
       "    </tr>\n",
       "    <tr>\n",
       "      <th>6</th>\n",
       "      <td>230410</td>\n",
       "      <td>Warframe</td>\n",
       "    </tr>\n",
       "    <tr>\n",
       "      <th>7</th>\n",
       "      <td>301520</td>\n",
       "      <td>Robocraft</td>\n",
       "    </tr>\n",
       "    <tr>\n",
       "      <th>8</th>\n",
       "      <td>492170</td>\n",
       "      <td>Planet Driller</td>\n",
       "    </tr>\n",
       "    <tr>\n",
       "      <th>9</th>\n",
       "      <td>400580</td>\n",
       "      <td>Black Closet</td>\n",
       "    </tr>\n",
       "  </tbody>\n",
       "</table>\n",
       "</div>"
      ],
      "text/plain": [
       "       Id                                          Name\n",
       "0  205790                                   Dota 2 Test\n",
       "1    6060                    STAR WARS™ Battlefront™ II\n",
       "2   12220  Grand Theft Auto: Episodes from Liberty City\n",
       "3   12210                           Grand Theft Auto IV\n",
       "4   17470                                    Dead Space\n",
       "5   17410                                 Mirror's Edge\n",
       "6  230410                                      Warframe\n",
       "7  301520                                     Robocraft\n",
       "8  492170                                Planet Driller\n",
       "9  400580                                  Black Closet"
      ]
     },
     "metadata": {},
     "output_type": "display_data"
    },
    {
     "name": "stdout",
     "output_type": "stream",
     "text": [
      "Metric: content_similarity\n"
     ]
    },
    {
     "data": {
      "application/vnd.jupyter.widget-view+json": {
       "model_id": "44cc09256ffb48d9bf9e7b1a3f8caa3a",
       "version_major": 2,
       "version_minor": 0
      },
      "text/plain": [
       "HBox(children=(IntProgress(value=0, max=49), HTML(value='')))"
      ]
     },
     "metadata": {},
     "output_type": "display_data"
    },
    {
     "name": "stdout",
     "output_type": "stream",
     "text": [
      "\n",
      "49 of 55 (89.09%) user's games have reviews\n"
     ]
    },
    {
     "data": {
      "text/html": [
       "<div>\n",
       "<style scoped>\n",
       "    .dataframe tbody tr th:only-of-type {\n",
       "        vertical-align: middle;\n",
       "    }\n",
       "\n",
       "    .dataframe tbody tr th {\n",
       "        vertical-align: top;\n",
       "    }\n",
       "\n",
       "    .dataframe thead th {\n",
       "        text-align: right;\n",
       "    }\n",
       "</style>\n",
       "<table border=\"1\" class=\"dataframe\">\n",
       "  <thead>\n",
       "    <tr style=\"text-align: right;\">\n",
       "      <th></th>\n",
       "      <th>Id</th>\n",
       "      <th>Name</th>\n",
       "    </tr>\n",
       "  </thead>\n",
       "  <tbody>\n",
       "    <tr>\n",
       "      <th>0</th>\n",
       "      <td>239820</td>\n",
       "      <td>Game Dev Tycoon</td>\n",
       "    </tr>\n",
       "    <tr>\n",
       "      <th>1</th>\n",
       "      <td>208090</td>\n",
       "      <td>Loadout</td>\n",
       "    </tr>\n",
       "    <tr>\n",
       "      <th>2</th>\n",
       "      <td>218230</td>\n",
       "      <td>PlanetSide 2</td>\n",
       "    </tr>\n",
       "    <tr>\n",
       "      <th>3</th>\n",
       "      <td>243870</td>\n",
       "      <td>Tom Clancy's Ghost Recon Phantoms - NA</td>\n",
       "    </tr>\n",
       "    <tr>\n",
       "      <th>4</th>\n",
       "      <td>221100</td>\n",
       "      <td>DayZ</td>\n",
       "    </tr>\n",
       "    <tr>\n",
       "      <th>5</th>\n",
       "      <td>227940</td>\n",
       "      <td>Heroes &amp; Generals</td>\n",
       "    </tr>\n",
       "    <tr>\n",
       "      <th>6</th>\n",
       "      <td>295110</td>\n",
       "      <td>H1Z1: Just Survive</td>\n",
       "    </tr>\n",
       "    <tr>\n",
       "      <th>7</th>\n",
       "      <td>252490</td>\n",
       "      <td>Rust</td>\n",
       "    </tr>\n",
       "    <tr>\n",
       "      <th>8</th>\n",
       "      <td>301520</td>\n",
       "      <td>Robocraft</td>\n",
       "    </tr>\n",
       "    <tr>\n",
       "      <th>9</th>\n",
       "      <td>204360</td>\n",
       "      <td>Castle Crashers</td>\n",
       "    </tr>\n",
       "  </tbody>\n",
       "</table>\n",
       "</div>"
      ],
      "text/plain": [
       "       Id                                    Name\n",
       "0  239820                         Game Dev Tycoon\n",
       "1  208090                                 Loadout\n",
       "2  218230                            PlanetSide 2\n",
       "3  243870  Tom Clancy's Ghost Recon Phantoms - NA\n",
       "4  221100                                    DayZ\n",
       "5  227940                       Heroes & Generals\n",
       "6  295110                      H1Z1: Just Survive\n",
       "7  252490                                    Rust\n",
       "8  301520                               Robocraft\n",
       "9  204360                         Castle Crashers"
      ]
     },
     "metadata": {},
     "output_type": "display_data"
    },
    {
     "name": "stdout",
     "output_type": "stream",
     "text": [
      "Metric: cf_similarity\n"
     ]
    },
    {
     "data": {
      "application/vnd.jupyter.widget-view+json": {
       "model_id": "312e7af37d614e7f87fbd7996f225d5e",
       "version_major": 2,
       "version_minor": 0
      },
      "text/plain": [
       "HBox(children=(IntProgress(value=0, max=55), HTML(value='')))"
      ]
     },
     "metadata": {},
     "output_type": "display_data"
    },
    {
     "name": "stdout",
     "output_type": "stream",
     "text": [
      "\n"
     ]
    },
    {
     "data": {
      "text/html": [
       "<div>\n",
       "<style scoped>\n",
       "    .dataframe tbody tr th:only-of-type {\n",
       "        vertical-align: middle;\n",
       "    }\n",
       "\n",
       "    .dataframe tbody tr th {\n",
       "        vertical-align: top;\n",
       "    }\n",
       "\n",
       "    .dataframe thead th {\n",
       "        text-align: right;\n",
       "    }\n",
       "</style>\n",
       "<table border=\"1\" class=\"dataframe\">\n",
       "  <thead>\n",
       "    <tr style=\"text-align: right;\">\n",
       "      <th></th>\n",
       "      <th>Id</th>\n",
       "      <th>Name</th>\n",
       "    </tr>\n",
       "  </thead>\n",
       "  <tbody>\n",
       "    <tr>\n",
       "      <th>0</th>\n",
       "      <td>205790</td>\n",
       "      <td>Dota 2 Test</td>\n",
       "    </tr>\n",
       "    <tr>\n",
       "      <th>1</th>\n",
       "      <td>340</td>\n",
       "      <td>Half-Life 2: Lost Coast</td>\n",
       "    </tr>\n",
       "    <tr>\n",
       "      <th>2</th>\n",
       "      <td>55230</td>\n",
       "      <td>Saints Row: The Third</td>\n",
       "    </tr>\n",
       "    <tr>\n",
       "      <th>3</th>\n",
       "      <td>220</td>\n",
       "      <td>Half-Life 2</td>\n",
       "    </tr>\n",
       "    <tr>\n",
       "      <th>4</th>\n",
       "      <td>22380</td>\n",
       "      <td>Fallout: New Vegas</td>\n",
       "    </tr>\n",
       "    <tr>\n",
       "      <th>5</th>\n",
       "      <td>400</td>\n",
       "      <td>Portal</td>\n",
       "    </tr>\n",
       "    <tr>\n",
       "      <th>6</th>\n",
       "      <td>1250</td>\n",
       "      <td>Killing Floor</td>\n",
       "    </tr>\n",
       "    <tr>\n",
       "      <th>7</th>\n",
       "      <td>35420</td>\n",
       "      <td>Killing Floor Mod: Defence Alliance 2</td>\n",
       "    </tr>\n",
       "    <tr>\n",
       "      <th>8</th>\n",
       "      <td>8930</td>\n",
       "      <td>Sid Meier's Civilization V</td>\n",
       "    </tr>\n",
       "    <tr>\n",
       "      <th>9</th>\n",
       "      <td>24240</td>\n",
       "      <td>PAYDAY: The Heist</td>\n",
       "    </tr>\n",
       "  </tbody>\n",
       "</table>\n",
       "</div>"
      ],
      "text/plain": [
       "       Id                                   Name\n",
       "0  205790                            Dota 2 Test\n",
       "1     340                Half-Life 2: Lost Coast\n",
       "2   55230                  Saints Row: The Third\n",
       "3     220                            Half-Life 2\n",
       "4   22380                     Fallout: New Vegas\n",
       "5     400                                 Portal\n",
       "6    1250                          Killing Floor\n",
       "7   35420  Killing Floor Mod: Defence Alliance 2\n",
       "8    8930             Sid Meier's Civilization V\n",
       "9   24240                      PAYDAY: The Heist"
      ]
     },
     "metadata": {},
     "output_type": "display_data"
    }
   ],
   "source": [
    "for metric in ['lift', 'content_similarity', 'cf_similarity']:\n",
    "    print('Metric: {}'.format(metric))\n",
    "    recommendations = personalized_recommendation(user_2, metric=metric)\n",
    "    ICD.display(recommendations)"
   ]
  },
  {
   "cell_type": "markdown",
   "metadata": {},
   "source": [
    "## <font color='blue'>Time</font>"
   ]
  },
  {
   "cell_type": "code",
   "execution_count": 59,
   "metadata": {},
   "outputs": [
    {
     "name": "stdout",
     "output_type": "stream",
     "text": [
      "Notebook Runtime: 0:10:29.134766\n"
     ]
    }
   ],
   "source": [
    "end_time = datetime.datetime.now()\n",
    "total_time = end_time - start_time\n",
    "print('Notebook Runtime:', total_time)"
   ]
  }
 ],
 "metadata": {
  "kernelspec": {
   "display_name": "Python 3",
   "language": "python",
   "name": "python3"
  },
  "language_info": {
   "codemirror_mode": {
    "name": "ipython",
    "version": 3
   },
   "file_extension": ".py",
   "mimetype": "text/x-python",
   "name": "python",
   "nbconvert_exporter": "python",
   "pygments_lexer": "ipython3",
   "version": "3.7.3"
  },
  "toc": {
   "base_numbering": 1,
   "nav_menu": {},
   "number_sections": true,
   "sideBar": false,
   "skip_h1_title": true,
   "title_cell": "Table of Contents",
   "title_sidebar": "Contents",
   "toc_cell": true,
   "toc_position": {
    "height": "777.766px",
    "left": "31.9965px",
    "top": "109.722px",
    "width": "294.641px"
   },
   "toc_section_display": true,
   "toc_window_display": true
  }
 },
 "nbformat": 4,
 "nbformat_minor": 2
}
