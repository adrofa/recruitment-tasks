{
 "cells": [
  {
   "cell_type": "markdown",
   "metadata": {},
   "source": [
    "<img src=\"youtube_parser.png\"></img>"
   ]
  },
  {
   "cell_type": "markdown",
   "metadata": {},
   "source": [
    "<div align=\"center\">\n",
    "    <h1>YouTube Video Info Parser</h1>\n",
    "</div>\n",
    "<br/>\n",
    "<div align=\"center\"><i>\n",
    "    Simple YouTube-video information parser allows to parse: title, decription, comments, likes, etc.\n",
    "    <br/>The task was performed in 1.5-2 hours.\n",
    "    <br/>\n",
    "    <br/>by Artem Drofa\n",
    "    </i>\n",
    "</div>"
   ]
  },
  {
   "cell_type": "markdown",
   "metadata": {},
   "source": [
    "## Task"
   ]
  },
  {
   "cell_type": "markdown",
   "metadata": {},
   "source": [
    "Parse video info from youtube.com https://www.youtube.com/watch?v=koPmuEyP3a0\n",
    "\n",
    "Extract:\n",
    "* title;\n",
    "* subtitles;\n",
    "* video description;\n",
    "* views amount;\n",
    "* likes amount;\n",
    "* dislikes amount;\n",
    "* all comments;\n",
    "* comments likes amount."
   ]
  },
  {
   "cell_type": "markdown",
   "metadata": {},
   "source": [
    "## Solution"
   ]
  },
  {
   "cell_type": "markdown",
   "metadata": {},
   "source": [
    "### Comments (to the Solution)"
   ]
  },
  {
   "cell_type": "markdown",
   "metadata": {},
   "source": [
    "* Comments are returned as alist of lists, where each list is in the following format `[comment, likes_amount]`.\n",
    "* Youtube Data API V3 returns comments by pages consisting of 100 comments, each fllowing page could be received only after the previous one was received. For demonstration purposes the number of processed pages was limited to 3.\n",
    "\n",
    "If additionl time was provided following improvements would be done:\n",
    "* requests generation would be rewritten in form outlined below.\n",
    "* sbtitles parsing would be refactored (current method is able to parse only added subtitles, not generated ones).\n",
    "\n",
    "<b>Possible method for requests generation</b>\n",
    "``` python\n",
    "\n",
    "main_url = 'https://www.googleapis.com/youtube/v3'\n",
    "\n",
    "def remove_empty_kwargs(kw_dict):\n",
    "    return {k: v for k, v in kw_dict.items() if v is not None}\n",
    "\n",
    "def get(resource, **kwargs):\n",
    "    kwargs['key'] = api_key\n",
    "    response = requests.get(\n",
    "        url=f'{main_url}/{resource}',\n",
    "        params=remove_empty_kwargs(kwargs)\n",
    "    )\n",
    "    return response.json()\n",
    "```"
   ]
  },
  {
   "cell_type": "markdown",
   "metadata": {},
   "source": [
    "### Solution Code"
   ]
  },
  {
   "cell_type": "code",
   "execution_count": 1,
   "metadata": {},
   "outputs": [],
   "source": [
    "import requests\n",
    "import json\n",
    "import html\n",
    "import xml.etree.ElementTree as ET"
   ]
  },
  {
   "cell_type": "markdown",
   "metadata": {},
   "source": [
    "`video_id` will contain ID of the selected video."
   ]
  },
  {
   "cell_type": "code",
   "execution_count": 2,
   "metadata": {},
   "outputs": [],
   "source": [
    "video_id = 'koPmuEyP3a0'"
   ]
  },
  {
   "cell_type": "markdown",
   "metadata": {},
   "source": [
    "To access Youtube Data API V3 API-key should be generated, it could be done [here](https://console.cloud.google.com/apis/library), preliminary register an account in [Google Cloud](https://cloud.google.com/)."
   ]
  },
  {
   "cell_type": "code",
   "execution_count": 3,
   "metadata": {},
   "outputs": [],
   "source": [
    "api_key = '...'"
   ]
  },
  {
   "cell_type": "code",
   "execution_count": 4,
   "metadata": {},
   "outputs": [],
   "source": [
    "class YTVParser(object): # 'YTV' for 'YouTube Video'\n",
    "    \n",
    "    def __init__(self, api_key, video_id, comments_limit=3):\n",
    "        self.api_key = api_key\n",
    "        self.video_id = video_id\n",
    "        self.comments_limit = comments_limit\n",
    "        self.title = YTVParser.GetSnippet(self.video_id, self.api_key, 'title')\n",
    "        self.subtitles = YTVParser.GetSubtitles(self.video_id)\n",
    "        self.description = YTVParser.GetSnippet(self.video_id,self.api_key, 'description')\n",
    "        self.viewCount = YTVParser.GetStatistics(self.video_id, self.api_key, 'viewCount')\n",
    "        self.likeCount = YTVParser.GetStatistics(self.video_id, self.api_key, 'likeCount')\n",
    "        self.dislikeCount = YTVParser.GetStatistics(self.video_id, self.api_key, 'dislikeCount')\n",
    "        self.comments = YTVParser.GetComments(self.video_id, self.api_key, self.comments_limit)\n",
    "        \n",
    "        \n",
    "    @staticmethod\n",
    "    def GenerateRequest(video_id, api_key, part_parametr):\n",
    "        \"\"\" Generates request to Youtube Data API V3 with stated parameters. \"\"\"\n",
    "        \n",
    "        parameters = {\n",
    "            'Video_ID': video_id,\n",
    "            'API_Key': api_key,\n",
    "            'Part_Parametr': part_parametr\n",
    "        }\n",
    "        https = 'https://'\n",
    "        main = 'www.googleapis.com/youtube/v3/videos?'\n",
    "        details = 'id={Video_ID}&key={API_Key}&part={Part_Parametr}'.format(\n",
    "            **parameters\n",
    "        )\n",
    "        request = https + main + details\n",
    "        return request\n",
    "    \n",
    "    \n",
    "    @staticmethod\n",
    "    def GetDataFromAPI(request):\n",
    "        \"\"\" Returns a dict (json) downloaded from 'request' link. \"\"\"\n",
    "        \n",
    "        response = requests.get(request)\n",
    "        download = json.loads(response.text)\n",
    "        return download\n",
    "    \n",
    "    \n",
    "    @staticmethod\n",
    "    def GetSnippet(video_id, api_key, snippetName):\n",
    "        \"\"\" Returns the snippet (title / description) of the video. \"\"\"\n",
    "        \n",
    "        part_parametr = 'snippet'\n",
    "        request = YTVParser.GenerateRequest(video_id, api_key, part_parametr)\n",
    "        download = YTVParser.GetDataFromAPI(request)\n",
    "        snippet = download['items'][0]['snippet'][snippetName]\n",
    "        return snippet\n",
    "    \n",
    "    \n",
    "    @staticmethod\n",
    "    def GetSubtitles(video_id):\n",
    "        \"\"\" Returns string with all subtitles. \"\"\"\n",
    "        \n",
    "        details = {'LANG' : 'en', 'videoId' : video_id}\n",
    "        url = 'https://video.google.com/timedtext?lang={LANG}&v={videoId}'\n",
    "        request = url.format(**details)\n",
    "        \n",
    "        data = requests.get(request)\n",
    "        root = ET.fromstring(data.text)\n",
    "        \n",
    "        subtitles_list = [html.unescape(child.text) for child in root]\n",
    "        subtitles = ' '.join(subtitles_list)\n",
    "        return subtitles\n",
    "    \n",
    "    \n",
    "    @staticmethod\n",
    "    def GetStatistics(video_id, api_key, statisticName):\n",
    "        \"\"\" Returns the statistic of the video. \"\"\"\n",
    "        \n",
    "        part_parametr = 'statistics'\n",
    "        request = YTVParser.GenerateRequest(video_id, api_key, part_parametr)\n",
    "        download = YTVParser.GetDataFromAPI(request)\n",
    "        statistic = download['items'][0][part_parametr][statisticName]\n",
    "        return statistic\n",
    "    \n",
    "    \n",
    "    @staticmethod\n",
    "    def UpdateComments(comments, items):\n",
    "        \"\"\" Updates list of comments with downloaded items. (See `GetComments`\n",
    "        method for more details).\n",
    "        \"\"\"\n",
    "        \n",
    "        for item in items:\n",
    "            snippet = item['snippet']['topLevelComment']['snippet']\n",
    "            comment = html.unescape(snippet['textDisplay'])\n",
    "            likes = snippet['likeCount']\n",
    "            pair = [comment, likes]\n",
    "            comments.append(pair)\n",
    "        return comments\n",
    "    \n",
    "    \n",
    "    @staticmethod\n",
    "    def GetComments(video_id, api_key, comments_limit):\n",
    "        \"\"\" Returns a list of lists where each list consists of\n",
    "        [comment, #_of_likes].\n",
    "        \"\"\"\n",
    "        \n",
    "        # Request Link Generation: ===========================================\n",
    "        parameters = {\n",
    "            'Video_ID': video_id,\n",
    "            'API_Key': api_key,\n",
    "            'Part_Parametr': 'snippet,replies',\n",
    "            'Max_Results' : 100\n",
    "        }\n",
    "\n",
    "        https = 'https://'\n",
    "        main = 'www.googleapis.com/youtube/v3/commentThreads?'\n",
    "        details_1 = 'videoId={Video_ID}&key={API_Key}'.format(\n",
    "            **parameters\n",
    "        )\n",
    "        details_2 = '&part={Part_Parametr}&maxResults={Max_Results}'.format(\n",
    "            **parameters\n",
    "        )\n",
    "        request = https + main + details_1 + details_2\n",
    "        # ====================================================================\n",
    "\n",
    "        data = YTVParser.GetDataFromAPI(request)\n",
    "        items = data['items']\n",
    "\n",
    "        comments = YTVParser.UpdateComments([], items)\n",
    "        \n",
    "        # Scrapping page by page to collect comments =========================\n",
    "        # One page consists of 100 comments ==================================\n",
    "        if comments_limit == None:\n",
    "            comments_limit = 10 ** 100\n",
    "        counter = 1\n",
    "        while 'nextPageToken' in data.keys() and counter < comments_limit:\n",
    "            nextPageToken = data['nextPageToken']\n",
    "            details_3 = '&pageToken={}'.format(nextPageToken)\n",
    "            request = https + main + details_1 + details_2 + details_3\n",
    "\n",
    "            data = YTVParser.GetDataFromAPI(request)\n",
    "            items = data['items']\n",
    "\n",
    "            comments = YTVParser.UpdateComments(comments, items)\n",
    "            counter += 1\n",
    "        # ====================================================================\n",
    "        return comments"
   ]
  },
  {
   "cell_type": "markdown",
   "metadata": {},
   "source": [
    "### Demonstration"
   ]
  },
  {
   "cell_type": "code",
   "execution_count": 5,
   "metadata": {},
   "outputs": [],
   "source": [
    "video = YTVParser(api_key, video_id)"
   ]
  },
  {
   "cell_type": "code",
   "execution_count": 6,
   "metadata": {},
   "outputs": [
    {
     "name": "stdout",
     "output_type": "stream",
     "text": [
      "Title:\n",
      "We Believe: The Best Men Can Be | Gillette (Short Film) \n",
      "\n",
      "----------------------------------------------------------------------------------------------------\n",
      "Subtitles:\n",
      "[OVERLAPPING NEWS AUDIO] Is this the best a man can get? [MUSIC] Is it? We can't hide from it. It's been going on far too long. We can't laugh it off. What I actually think she's trying to\n",
      "say- Making the same old excuses. Boys will be boys. [TOGETHER]\n",
      "Boys will be boys. But something finally changed. Allegations regarding sexual assault and sexual harassment- [OVERLAPPING NEWS AUDIO] And there will be no going back. Because we, we believe in the best in men. Men need to hold other men accountable. Smile, sweetie! Come on! To say the right thing. To act the right way. Bro, not cool. Not cool. Some already are. In ways big. and small. Say, \"I am strong.\" I am strong! But some is not enough. That's not how we treat each other, okay? You okay? Because the boys watching today will be the men of tomorrow. \n",
      "\n",
      "----------------------------------------------------------------------------------------------------\n",
      "Video Description:\n",
      "Bullying. Harassment. Is this the best a man can get? It's only by challenging ourselves to do more, that we can get closer to our best. To say the right thing, to act the right way. We are taking action at http://gillette.com/en-us/about/the-best-men-can-be. Join us.\n",
      "\n",
      "Watch our next Short Film: https://www.youtube.com/watch?v=kbHXIN6EzWo\n",
      "\n",
      "Subscribe for the latest Gillette videos: http://www.youtube.com/subscription_center?add_user=Gillette\n",
      " \n",
      "More Gillette Channels: \n",
      "Website: http://gillette.com/en-us\n",
      "Facebook: http://www.facebook.com/gillette\n",
      "Twitter: http://www.twitter.com/gillette\n",
      "Instagram: https://www.instagram.com/gillette/\n",
      "\n",
      "This Gillette commercial is about our belief in the best in men. #TheBestMenCanBe #Gillette \n",
      "\n",
      "----------------------------------------------------------------------------------------------------\n",
      "Views Amount:\n",
      "31078269 \n",
      "\n",
      "----------------------------------------------------------------------------------------------------\n",
      "Likes Amount:\n",
      "795976 \n",
      "\n",
      "----------------------------------------------------------------------------------------------------\n",
      "Dislikes Amount:\n",
      "1498317 \n",
      "\n",
      "----------------------------------------------------------------------------------------------------\n",
      "Comments (1st 3) and likes amount\n",
      "Phillips Norelco is much better | Likes: 1\n",
      "AlolForFeministKimGehrigWhoMadeThisShortFilmAndALolForGilletteForPayingHerToDoIt | Likes: 2\n",
      "that moment when you are going to become a meme | Likes: 2\n",
      "\n",
      "----------------------------------------------------------------------------------------------------\n",
      "Total collected comments:\n",
      "300\n",
      "Comments\\' pages limit:\n",
      "3\n"
     ]
    }
   ],
   "source": [
    "\n",
    "print('Title:')\n",
    "print(video.title, '\\n')\n",
    "\n",
    "print('-' * 100)\n",
    "print('Subtitles:')\n",
    "print(video.subtitles, '\\n')\n",
    "\n",
    "print('-' * 100)\n",
    "print('Video Description:')\n",
    "print(video.description, '\\n')\n",
    "\n",
    "print('-' * 100)\n",
    "print('Views Amount:')\n",
    "print(video.viewCount, '\\n')\n",
    "\n",
    "print('-' * 100)\n",
    "print('Likes Amount:')\n",
    "print(video.likeCount, '\\n')\n",
    "\n",
    "print('-' * 100)\n",
    "print('Dislikes Amount:')\n",
    "print(video.dislikeCount, '\\n')\n",
    "\n",
    "print('-' * 100)\n",
    "print('Comments (1st 3) and likes amount')\n",
    "for comment in video.comments[0:3]:\n",
    "    print(comment[0], '| Likes:', comment[1])\n",
    "print()    \n",
    "\n",
    "print('-' * 100)\n",
    "print('Total collected comments:')\n",
    "print(len(video.comments))\n",
    "print('Comments\\' pages limit:')\n",
    "print(video.comments_limit)"
   ]
  }
 ],
 "metadata": {
  "kernelspec": {
   "display_name": "Python 3",
   "language": "python",
   "name": "python3"
  },
  "language_info": {
   "codemirror_mode": {
    "name": "ipython",
    "version": 3
   },
   "file_extension": ".py",
   "mimetype": "text/x-python",
   "name": "python",
   "nbconvert_exporter": "python",
   "pygments_lexer": "ipython3",
   "version": "3.7.3"
  },
  "toc": {
   "base_numbering": 1,
   "nav_menu": {},
   "number_sections": true,
   "sideBar": true,
   "skip_h1_title": true,
   "title_cell": "Table of Contents",
   "title_sidebar": "Contents",
   "toc_cell": false,
   "toc_position": {},
   "toc_section_display": true,
   "toc_window_display": false
  }
 },
 "nbformat": 4,
 "nbformat_minor": 4
}
