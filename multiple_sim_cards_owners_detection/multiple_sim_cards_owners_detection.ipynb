{
 "cells": [
  {
   "cell_type": "markdown",
   "metadata": {},
   "source": [
    "<img src=\"header.png\"></img>"
   ]
  },
  {
   "cell_type": "markdown",
   "metadata": {},
   "source": [
    "<div align=\"center\">\n",
    "    <font size=5><b>Тестовое задание</b></font>\n",
    "    <br/><font size=2.5><i>(для аналитика больших данных)</i></font>\n",
    "</div>\n",
    "<div align=\"center\"><i>\n",
    "    <br/>Настоящий Jupyter ноутбук представляет собой возможную концепцию решения поставленной задачи\n",
    "    <br/>При выполнении данного была предпринята попытка, скорее, собрать MVP, нежели натренировать отдельно взятую модель\n",
    "    <br/>\n",
    "    <br/>Представленная концепция способна дать неплохие <u>baseline</u> результаты\n",
    "    <br/>для выявления 2-ой сим-карты, принадлежащей той же Персоне, которой принадлежит 1-ая\n",
    "    <br/>В частности, <u>точность</u> на тестовой выборке составила <u>36% (при высоковероятном наличии потенциала для улучшения)</u>\n",
    "    <br/>\n",
    "    <br/>Однако из-за отсутсвия информации о Персонах, у которых <u>точно / высоковероятно</u> нет других сим-карт\n",
    "    <br/>остаётся открытым вопрос отнесения каждой сим-карты к классам  \n",
    "    <br/>\"0\" - у владельца сим-карты нет других сим-карт или \"1\" - у владельца сим-карты есть другие сим-карты,\n",
    "    <br/>ответ на который является критичным для правильной имплементации представленной концепции\n",
    "    <br/>\n",
    "    <br/>В настоящий момент мы можем найти пару для любой сим-карты, но оценить, насколько мы правы, в случаях, когда\n",
    "    <br/>у владельца 1-ой сим-карты нет 2-ой сим-карты возможности не представляется.\n",
    "    <br/>Эту задачу можно пробовать решать методами кластеризации, однако, как мне кажется,\n",
    "    <br/>за рамками настоящего задания требующиеся данные должны существовать (и являются легкодоступными для телеком-компании)\n",
    "    <br/>\n",
    "    <br/>Также следует отметить, что в рамках решения не рассматривались случаи, когда у владельца более 2-х сим-карт\n",
    "    <br/>\n",
    "    <br/>подготовил Артём Дрофа\n",
    "    </i>\n",
    "</div>"
   ]
  },
  {
   "cell_type": "code",
   "execution_count": 82,
   "metadata": {},
   "outputs": [],
   "source": [
    "GENERATE = False\n",
    "# False: support files (generated in advance) needed\n",
    "# True: all files will be generated (will take sufficient time. Depends on your PC, of course :-) )"
   ]
  },
  {
   "cell_type": "markdown",
   "metadata": {},
   "source": [
    "<font color='57068c'><i>Обращаю ваше внимание, что тест запуска ноутбука целиком при GENERATE = True не производился (с результатами такого теста смогу вернуться в ближайшее время)</i></font>"
   ]
  },
  {
   "cell_type": "code",
   "execution_count": 2,
   "metadata": {},
   "outputs": [],
   "source": [
    "# Main\n",
    "import pandas as pd\n",
    "import numpy as np\n",
    "\n",
    "# Calculations\n",
    "import math\n",
    "from collections import Counter\n",
    "from scipy.spatial.distance import cosine\n",
    "\n",
    "# Geography\n",
    "from geographiclib.geodesic import Geodesic\n",
    "from shapely.geometry import Polygon\n",
    "\n",
    "# System\n",
    "import multiprocessing.dummy as mp\n",
    "from functools import partial\n",
    "import pickle\n",
    "import time\n",
    "from tqdm import tqdm_notebook as tqdm\n",
    "import os\n",
    "\n",
    "# Visualization\n",
    "import matplotlib.pyplot as plt\n",
    "import seaborn as sns\n",
    "from IPython.core.display import display as print_df\n",
    "\n",
    "# SKLearn\n",
    "# -- Model Selection\n",
    "from sklearn.model_selection import train_test_split\n",
    "from sklearn.model_selection import StratifiedKFold\n",
    "# -- Metrics\n",
    "from sklearn.metrics import log_loss\n",
    "# -- Preprocessing\n",
    "from sklearn.preprocessing import StandardScaler\n",
    "# -- Models\n",
    "from sklearn.linear_model import SGDClassifier, LogisticRegression\n",
    "\n",
    "import lightgbm as lgb\n",
    "\n",
    "# Statistics\n",
    "from statsmodels.stats.weightstats import _tconfint_generic\n",
    "from statsmodels.stats.proportion import proportion_confint\n",
    "\n",
    "# Warnings\n",
    "import warnings\n",
    "warnings.filterwarnings('ignore')"
   ]
  },
  {
   "cell_type": "markdown",
   "metadata": {},
   "source": [
    "Загрузим предоставленные данные (таблицу `Data`)"
   ]
  },
  {
   "cell_type": "code",
   "execution_count": 3,
   "metadata": {},
   "outputs": [
    {
     "data": {
      "text/html": [
       "<div>\n",
       "<style scoped>\n",
       "    .dataframe tbody tr th:only-of-type {\n",
       "        vertical-align: middle;\n",
       "    }\n",
       "\n",
       "    .dataframe tbody tr th {\n",
       "        vertical-align: top;\n",
       "    }\n",
       "\n",
       "    .dataframe thead th {\n",
       "        text-align: right;\n",
       "    }\n",
       "</style>\n",
       "<table border=\"1\" class=\"dataframe\">\n",
       "  <thead>\n",
       "    <tr style=\"text-align: right;\">\n",
       "      <th></th>\n",
       "      <th>lac</th>\n",
       "      <th>cid</th>\n",
       "      <th>msisdn</th>\n",
       "      <th>imei</th>\n",
       "      <th>event_type</th>\n",
       "      <th>tstamp</th>\n",
       "      <th>long</th>\n",
       "      <th>lat</th>\n",
       "      <th>max_dist</th>\n",
       "      <th>cell_type</th>\n",
       "      <th>start_angle</th>\n",
       "      <th>end_angle</th>\n",
       "    </tr>\n",
       "  </thead>\n",
       "  <tbody>\n",
       "    <tr>\n",
       "      <th>0</th>\n",
       "      <td>5029</td>\n",
       "      <td>40798</td>\n",
       "      <td>158529599791</td>\n",
       "      <td>3.531111e+14</td>\n",
       "      <td>0</td>\n",
       "      <td>1369252800974</td>\n",
       "      <td>37.9305</td>\n",
       "      <td>55.7815</td>\n",
       "      <td>2101</td>\n",
       "      <td>OUTDOOR</td>\n",
       "      <td>220.0</td>\n",
       "      <td>280.0</td>\n",
       "    </tr>\n",
       "    <tr>\n",
       "      <th>1</th>\n",
       "      <td>7782</td>\n",
       "      <td>56870</td>\n",
       "      <td>158520145943</td>\n",
       "      <td>1.292900e+13</td>\n",
       "      <td>5</td>\n",
       "      <td>1369252801396</td>\n",
       "      <td>37.4239</td>\n",
       "      <td>55.7426</td>\n",
       "      <td>2</td>\n",
       "      <td>OUTDOOR</td>\n",
       "      <td>45.0</td>\n",
       "      <td>105.0</td>\n",
       "    </tr>\n",
       "    <tr>\n",
       "      <th>2</th>\n",
       "      <td>7794</td>\n",
       "      <td>32226</td>\n",
       "      <td>158521798391</td>\n",
       "      <td>3.519940e+14</td>\n",
       "      <td>5</td>\n",
       "      <td>1369252802013</td>\n",
       "      <td>37.7034</td>\n",
       "      <td>55.5803</td>\n",
       "      <td>1125</td>\n",
       "      <td>OUTDOOR</td>\n",
       "      <td>0.0</td>\n",
       "      <td>60.0</td>\n",
       "    </tr>\n",
       "  </tbody>\n",
       "</table>\n",
       "</div>"
      ],
      "text/plain": [
       "    lac    cid        msisdn          imei  event_type         tstamp  \\\n",
       "0  5029  40798  158529599791  3.531111e+14           0  1369252800974   \n",
       "1  7782  56870  158520145943  1.292900e+13           5  1369252801396   \n",
       "2  7794  32226  158521798391  3.519940e+14           5  1369252802013   \n",
       "\n",
       "      long      lat  max_dist cell_type  start_angle  end_angle  \n",
       "0  37.9305  55.7815      2101   OUTDOOR        220.0      280.0  \n",
       "1  37.4239  55.7426         2   OUTDOOR         45.0      105.0  \n",
       "2  37.7034  55.5803      1125   OUTDOOR          0.0       60.0  "
      ]
     },
     "execution_count": 3,
     "metadata": {},
     "output_type": "execute_result"
    }
   ],
   "source": [
    "data = pd.read_csv('02_Data.csv', sep=';'); data.head(3)"
   ]
  },
  {
   "cell_type": "markdown",
   "metadata": {},
   "source": [
    "В данных нет уникального идентификатора строки (в частности, комбинация `msisdn` (далее также - \"номер телефона\", \"сим-карта\") и `tstamp` таковым не является). Создадим такой идентификатор"
   ]
  },
  {
   "cell_type": "code",
   "execution_count": 4,
   "metadata": {},
   "outputs": [],
   "source": [
    "data['unique_id'] = range(len(data))\n",
    "data['unique_id'] = data['unique_id'].astype(str) + '_' + data.msisdn.astype(str) + '_' + data.tstamp.astype(str)"
   ]
  },
  {
   "cell_type": "code",
   "execution_count": 5,
   "metadata": {},
   "outputs": [
    {
     "name": "stdout",
     "output_type": "stream",
     "text": [
      "Кол-во уникальных msisdn: 2361\n"
     ]
    }
   ],
   "source": [
    "print('Кол-во уникальных msisdn:', data.msisdn.nunique())"
   ]
  },
  {
   "cell_type": "markdown",
   "metadata": {},
   "source": [
    "Загрузим таблицу с парами сим-карт, принадлежащих одному человеку"
   ]
  },
  {
   "cell_type": "code",
   "execution_count": 6,
   "metadata": {},
   "outputs": [
    {
     "name": "stdout",
     "output_type": "stream",
     "text": [
      "facts.shape = (122, 2)\n"
     ]
    },
    {
     "data": {
      "text/html": [
       "<div>\n",
       "<style scoped>\n",
       "    .dataframe tbody tr th:only-of-type {\n",
       "        vertical-align: middle;\n",
       "    }\n",
       "\n",
       "    .dataframe tbody tr th {\n",
       "        vertical-align: top;\n",
       "    }\n",
       "\n",
       "    .dataframe thead th {\n",
       "        text-align: right;\n",
       "    }\n",
       "</style>\n",
       "<table border=\"1\" class=\"dataframe\">\n",
       "  <thead>\n",
       "    <tr style=\"text-align: right;\">\n",
       "      <th></th>\n",
       "      <th>0</th>\n",
       "      <th>1</th>\n",
       "    </tr>\n",
       "  </thead>\n",
       "  <tbody>\n",
       "    <tr>\n",
       "      <th>0</th>\n",
       "      <td>158530067653</td>\n",
       "      <td>158528861653</td>\n",
       "    </tr>\n",
       "    <tr>\n",
       "      <th>1</th>\n",
       "      <td>158510912201</td>\n",
       "      <td>158528852857</td>\n",
       "    </tr>\n",
       "    <tr>\n",
       "      <th>2</th>\n",
       "      <td>158530063945</td>\n",
       "      <td>158528861599</td>\n",
       "    </tr>\n",
       "  </tbody>\n",
       "</table>\n",
       "</div>"
      ],
      "text/plain": [
       "              0             1\n",
       "0  158530067653  158528861653\n",
       "1  158510912201  158528852857\n",
       "2  158530063945  158528861599"
      ]
     },
     "metadata": {},
     "output_type": "display_data"
    },
    {
     "name": "stdout",
     "output_type": "stream",
     "text": [
      "# of unique msisdns in facts: 243\n",
      "# of unique msisdns, which exist in data: 241\n"
     ]
    }
   ],
   "source": [
    "facts = pd.read_excel('01_Факты.xlsx', header=None); assert facts.equals(facts.drop_duplicates())\n",
    "print('facts.shape =', facts.shape); print_df(facts.head(3))\n",
    "\n",
    "facts_ids = np.unique(facts.values.flatten()).tolist(); print('# of unique msisdns in facts:', len(facts_ids))\n",
    "facts_ids = [msisdn for msisdn in facts_ids if msisdn in data.msisdn.tolist()]; print('# of unique msisdns, which exist in data:', len(facts_ids))\n",
    "\n",
    "facts_ids_0 = facts.iloc[:, 0].tolist(); facts_ids_1 = facts.iloc[:, 1].tolist()"
   ]
  },
  {
   "cell_type": "code",
   "execution_count": 7,
   "metadata": {},
   "outputs": [
    {
     "name": "stdout",
     "output_type": "stream",
     "text": [
      "len(pairs) = 240\n",
      "len(pairs_train) = 160\n",
      "len(pairs_unseen) = 80\n"
     ]
    }
   ],
   "source": [
    "pairs_0 = [[i, j] for i, j in zip(facts_ids_0, facts_ids_1)\n",
    "           if i in data.msisdn.tolist() and j in data.msisdn.tolist()]\n",
    "pairs_1 = [[i, j] for i, j in zip(facts_ids_1, facts_ids_0)\n",
    "           if i in data.msisdn.tolist() and j in data.msisdn.tolist()]\n",
    "\n",
    "pairs = pairs_0 + pairs_1; pairs = pd.DataFrame(pairs).drop_duplicates().values.tolist()\n",
    "print('len(pairs) =', len(pairs))\n",
    "\n",
    "pairs_train, pairs_unseen = train_test_split(pairs, test_size=0.33, shuffle=True, random_state=17)\n",
    "print('len(pairs_train) =', len(pairs_train))\n",
    "print('len(pairs_unseen) =', len(pairs_unseen))"
   ]
  },
  {
   "cell_type": "markdown",
   "metadata": {},
   "source": [
    "## <font color='57068c'>Где делать <b>#fitpredict?</b></font>\n",
    "\n",
    "Поскольку:\n",
    "* набор предоставленных пар из номеров телефонов равняется <font color='00985f'><b>240</b></font> (всего 120 пар, плюс, их зеркальное отображение);\n",
    "* общее количество уникальных msisdn составляет 2361, что трансформируется в <font color='00985f'><b>~5.6 млн.</b></font> возможных пар (по формуле комбинаторики для вычисления числа размещений);\n",
    "* сгенерировать все возможные пары, разметить их (0 и 1) и <font color='00985f'><b>обучать модель на такой выборке представляется затруднительным</b></font> по двум причинам: (1) слишком малое количество «1»; (2) высокая вычислительная стоимость*\n",
    "\n",
    "<font color='666666'><i>* Подразумевается, что, как минимум, мой лэптоп с таким будет справляться слишком долго :-)</i></font>"
   ]
  },
  {
   "cell_type": "markdown",
   "metadata": {},
   "source": [
    "## <font color='57068c'>Идея 1: формулировка</font>\n",
    "Чтобы хоть как-то продвинуться с решением была сформулирована следующая идея:\n",
    "\n",
    "<font color='57068c'><u><i>«Наверное, сим-карты, которыми владеет 1 человек, должны с высокой периодичностью регистрироваться\n",
    "    <br/>на одних (или пересекающихся по зонам действия) базовых станциях в одно время»</i></u></font>\n",
    "\n",
    "В рамках данной идеи было сделано <font color='00985f'><b>предположение</b></font>, что <font color='00985f'><b>Персоны</b></font>, которых мы пытаемся идентифицировать, <font color='00985f'><b>покупают сим-карты только для себя</b></font> (а не для других людей, например, случай \"мама покупает сим-карту дочке\" игнорируется)"
   ]
  },
  {
   "cell_type": "markdown",
   "metadata": {},
   "source": [
    "## <font color='57068c'>Идея 1: реализация</font>\n",
    "### <font color='00985f'><b>Шаг 1:</b></font>\n",
    "для каждой строки (не сим-карты) в исходной таблице построить:\n",
    "* <font color='00985f'><b>гео-зону</b></font>, в которой находится сим-карта в момент регистрации на базовой станции;\n",
    "* <font color='00985f'><b>временной промежуток</b></font>, в который сим-карта находится в этой гео-зоне (начало — время регистрации на этой базовой станции, окончание — время регистрации на другой базовой станции);\n",
    "\n",
    "### <font color='00985f'><b>Шаг 2:</b></font>\n",
    "<font color='00985f'><b>для каждой сим-карты собрать</b></font> списки других сим-карт, с гео-зонами которых пересекалась гео-зона первой в пересекающиеся временные промежутки, т.е. <font color='00985f'><b>списки тех сим-карт, с которыми первая могла находится в  одном месте в одно время</b></font>"
   ]
  },
  {
   "cell_type": "markdown",
   "metadata": {},
   "source": [
    "Из описания задания становится ясно, что зона покрытия базовой станции представляет собой сектор, посмотрим на углы таких секторов более детально"
   ]
  },
  {
   "cell_type": "code",
   "execution_count": 8,
   "metadata": {},
   "outputs": [
    {
     "data": {
      "text/plain": [
       " 60.0     129525\n",
       "-300.0     27448\n",
       " 47.0       8186\n",
       "-270.0      3013\n",
       " 360.0      2184\n",
       " 65.0       1808\n",
       "-313.0      1536\n",
       "-295.0       327\n",
       " 90.0         96\n",
       "Name: angle, dtype: int64"
      ]
     },
     "execution_count": 8,
     "metadata": {},
     "output_type": "execute_result"
    }
   ],
   "source": [
    "data['angle'] = data.end_angle - data.start_angle\n",
    "data.angle.value_counts()"
   ]
  },
  {
   "cell_type": "markdown",
   "metadata": {},
   "source": [
    "Видно, что иногда это не сектора, а круги. Трансформируем данные так, чтобы угол (азимут) начала сектора был всегда меньше угла его конца"
   ]
  },
  {
   "cell_type": "code",
   "execution_count": 9,
   "metadata": {},
   "outputs": [
    {
     "data": {
      "text/plain": [
       "60.0     156973\n",
       "47.0       9722\n",
       "90.0       3109\n",
       "360.0      2184\n",
       "65.0       2135\n",
       "Name: angle, dtype: int64"
      ]
     },
     "execution_count": 9,
     "metadata": {},
     "output_type": "execute_result"
    }
   ],
   "source": [
    "data.loc[data.angle < 0, 'start_angle'] = data.start_angle - 360\n",
    "data['angle'] = data.end_angle - data.start_angle\n",
    "\n",
    "data.angle.value_counts(dropna=False)"
   ]
  },
  {
   "cell_type": "markdown",
   "metadata": {},
   "source": [
    "Теперь посмотрим на зону, которую предстоит анализировать, для этого выделим самую левую нижнюю и самую правую верхнюю точки"
   ]
  },
  {
   "cell_type": "code",
   "execution_count": 10,
   "metadata": {},
   "outputs": [
    {
     "name": "stdout",
     "output_type": "stream",
     "text": [
      "min:\n",
      "54.3736 35.2578\n",
      "max:\n",
      "56.8372 39.8923\n"
     ]
    }
   ],
   "source": [
    "print('min:')\n",
    "print(data.lat.min(), data.long.min())\n",
    "\n",
    "print('max:')\n",
    "print(data.lat.max(), data.long.max())"
   ]
  },
  {
   "cell_type": "markdown",
   "metadata": {},
   "source": [
    "<img src=\"map.png\"></img>"
   ]
  },
  {
   "cell_type": "markdown",
   "metadata": {},
   "source": [
    "Исследуемая площадь не очень большая (относительно всей земной поверхности), в связи с этим, пренебрежем тем, что Земля не плоская:\n",
    "* для определения точек на карте будем использовать библиотеку `geographiclib`\n",
    "* а в последствии с территорией будем работать, как с прямоугольником, используя библиотеку `shapely`"
   ]
  },
  {
   "cell_type": "markdown",
   "metadata": {},
   "source": [
    "Библиотека `shapely` не может создать `polygon` (т.е. геометрический объект) в форме сектора, поэтому аппроксимируем кружность сектора прямыми:"
   ]
  },
  {
   "cell_type": "markdown",
   "metadata": {},
   "source": [
    "<img src=\"sector.png\"></img>"
   ]
  },
  {
   "cell_type": "markdown",
   "metadata": {},
   "source": [
    "(По умолчанию) дугу в 60° будем аппроксимировать 5-ю отрезками, т.е. 1 отрезок на 12°.\n",
    "<br/>Для этого зададим ф-цию, которая вернет список из новых углов, вида `[start_angle, ..., ..., ..., end_angle]`"
   ]
  },
  {
   "cell_type": "code",
   "execution_count": 11,
   "metadata": {},
   "outputs": [],
   "source": [
    "def split_angle(start_angle, end_angle, degree_per_split=12):\n",
    "    \"\"\"Returns a list of sub-angles in the stated angle range.\n",
    "    Default degree_per_split value equals to 12°, which leads to 5 splits for 60° sector.\n",
    "    \"\"\"\n",
    "    \n",
    "    start_angle_normed = start_angle / 360\n",
    "    end_angle_normed = end_angle / 360\n",
    "    degree_per_split_normed = degree_per_split / 360\n",
    "    \n",
    "    delta_normed = end_angle_normed - start_angle_normed\n",
    "    degree_per_split = delta_normed / degree_per_split_normed\n",
    "    degree_per_split_int = int(round(degree_per_split, 0))\n",
    "    \n",
    "    sub_angles_normed = np.linspace(start_angle_normed, end_angle_normed, degree_per_split_int+1)\n",
    "    sub_angles = list(sub_angles_normed * 360)\n",
    "    \n",
    "    assert round(sub_angles[0], 3) == start_angle, 'Error in angles split: `start_angle`!'\n",
    "    # sub_angles[0] = start_angle\n",
    "    assert round(sub_angles[-1], 3) == end_angle, 'Error in angles split: `end_angle`!'\n",
    "    # sub_angles[-1] = end_angle\n",
    "    \n",
    "    return sub_angles"
   ]
  },
  {
   "cell_type": "markdown",
   "metadata": {},
   "source": [
    "Также зададим ф-цию, которая вернет координаты точки, расположенной на окружности, описанной (1) координатами центра окружности, (2)расстоянием от центра и (3) углом отклонения от севера"
   ]
  },
  {
   "cell_type": "code",
   "execution_count": 12,
   "metadata": {},
   "outputs": [],
   "source": [
    "def find_point(lat, lon, angle, dist):\n",
    "    \"\"\"Returns [lon, lat] for a point described with: center,\n",
    "    radius and azimut (i.e. performes direct geodesic task).\n",
    "    \"\"\"\n",
    "    \n",
    "    point = Geodesic.WGS84.Direct(lat, lon, angle, dist)\n",
    "    \n",
    "    lat_found = point['lat2']\n",
    "    lon_found = point['lon2']\n",
    "    \n",
    "    return [lon_found, lat_found]"
   ]
  },
  {
   "cell_type": "markdown",
   "metadata": {},
   "source": [
    "Этих двух ф-ций будет достаточно, чтобы задать ф-цию, которая вернет `polygon` аппроксимации сектора, т.е. зоны покрытия базовой станции"
   ]
  },
  {
   "cell_type": "code",
   "execution_count": 13,
   "metadata": {},
   "outputs": [],
   "source": [
    "def generate_polygon(lat, lon, start_angle, end_angle, dist, degree_per_split=12):\n",
    "    \"\"\"Generates Polygon class (from Shapely) object, which is equivalent to a sector,\n",
    "    defined with its center coordinate (lat, lon) and start-, end- _angle.\n",
    "    \"\"\"\n",
    "    \n",
    "    polygon_points = []\n",
    "    sub_angles = split_angle(start_angle, end_angle, degree_per_split)\n",
    "     \n",
    "    if (end_angle - start_angle) == 360:\n",
    "        # otherwise intersection method doesn't work (because polygon has incorrect shape)\n",
    "        sub_angles = sub_angles[0:-1]\n",
    "    else:\n",
    "        # adding sctor's center (if polygon is not circle, i.e. angle != 360°)\n",
    "        polygon_points.append([lon, lat])\n",
    "\n",
    "    for angle in sub_angles:\n",
    "        new_point = find_point(lat, lon, angle, dist)\n",
    "        polygon_points.append(new_point)\n",
    "\n",
    "    polygon = Polygon(polygon_points)\n",
    "\n",
    "    return polygon"
   ]
  },
  {
   "cell_type": "markdown",
   "metadata": {},
   "source": [
    "Также понадобится модификации ф-ции `generate_polygon`, которые можно будет применить:\n",
    "* к строке из таблицы `Data` - `generate_polygon_apply_to_row`\n",
    "* ко всей таблице `Data` - `create_polygon_col`"
   ]
  },
  {
   "cell_type": "code",
   "execution_count": 14,
   "metadata": {},
   "outputs": [],
   "source": [
    "def generate_polygon_apply_to_row(row, degree_per_split=12):\n",
    "    \"\"\"Applies generate_polygon() to a row of the original dataset.\"\"\"\n",
    "    \n",
    "    lat = row['lat']\n",
    "    lon = row['long']\n",
    "    start_angle = row['start_angle']\n",
    "    end_angle = row['end_angle']\n",
    "    dist = row['max_dist']\n",
    "    \n",
    "    polygon = generate_polygon(lat, lon, start_angle, end_angle, dist, degree_per_split)\n",
    "    \n",
    "    return polygon"
   ]
  },
  {
   "cell_type": "markdown",
   "metadata": {},
   "source": [
    "<i>Пример:</i>"
   ]
  },
  {
   "cell_type": "code",
   "execution_count": 15,
   "metadata": {},
   "outputs": [
    {
     "data": {
      "image/svg+xml": [
       "<svg xmlns=\"http://www.w3.org/2000/svg\" xmlns:xlink=\"http://www.w3.org/1999/xlink\" width=\"100.0\" height=\"100.0\" viewBox=\"37.89569730076303 55.765703899028274 0.03614126459223854 0.02040706933703973\" preserveAspectRatio=\"xMinYMin meet\"><g transform=\"matrix(1,0,0,-1,0,111.55181486739359)\"><path fill-rule=\"evenodd\" fill=\"#66cc99\" stroke=\"#555555\" stroke-width=\"0.0007228252918447709\" opacity=\"0.6\" d=\"M 37.9305,55.7815 L 37.908984158577496,55.76704246438354 L 37.90412123108715,55.76987932372992 L 37.90041016843698,55.77322403272502 L 37.898013351827615,55.77693052090894 L 37.8970358661183,55.78083687525822 L 37.897520849736935,55.784772403010045 L 37.9305,55.7815 z\" /></g></svg>"
      ],
      "text/plain": [
       "<shapely.geometry.polygon.Polygon at 0x7fb5d36a5f98>"
      ]
     },
     "execution_count": 15,
     "metadata": {},
     "output_type": "execute_result"
    }
   ],
   "source": [
    "generate_polygon_apply_to_row(data.iloc[0, :])"
   ]
  },
  {
   "cell_type": "markdown",
   "metadata": {},
   "source": [
    "Т.к. вычисления довольно \"тяжелые\", не будем игнорировать `multithreading`"
   ]
  },
  {
   "cell_type": "code",
   "execution_count": 16,
   "metadata": {},
   "outputs": [],
   "source": [
    "def create_polygon_col(data, degree_per_split=12, processes=4):\n",
    "    \"\"\"Returns `data` DataFrame with generated 'polygon' column.\"\"\"\n",
    "    \n",
    "    lst_of_dct = data.to_dict('records')\n",
    "    \n",
    "    pool = mp.Pool(processes)\n",
    "    polygons = [row for row in pool.map(generate_polygon_apply_to_row, lst_of_dct)]\n",
    "    \n",
    "    data_new = data.copy()\n",
    "    data_new['polygon'] = polygons\n",
    "    \n",
    "    return data_new"
   ]
  },
  {
   "cell_type": "code",
   "execution_count": 17,
   "metadata": {},
   "outputs": [],
   "source": [
    "if GENERATE:\n",
    "    data = create_polygon_col(data)\n",
    "    \n",
    "    with open('data_polygon_col.pkl', 'wb') as file:\n",
    "        pickle.dump(data, file)\n",
    "\n",
    "else:\n",
    "    with open('data_polygon_col.pkl', 'rb') as file:\n",
    "        data = pickle.load(file)"
   ]
  },
  {
   "cell_type": "markdown",
   "metadata": {},
   "source": [
    "Теперь зададим ф-ции, которые позволят сгенерировать окончания периодов регистрации на базовых станциях:\n",
    "* для DataFrame, в котором представлены записи только для одной сим-карты - `create_tstamp_end_for_msisdn`, и\n",
    "* для всего набора данных - `create_tstamp_end_col`"
   ]
  },
  {
   "cell_type": "code",
   "execution_count": 18,
   "metadata": {},
   "outputs": [],
   "source": [
    "def create_tstamp_end_for_msisdn(data_msisdn):\n",
    "    \"\"\" Creates the end of a sim-card 'registration' period at a base station,\n",
    "    where the end of the period equals to the next fixed `tstamp` (and the start of\n",
    "    the period equals to `tstamp`).\n",
    "    \n",
    "    Args:\n",
    "        data_msisdn (pandas.core.frame.DataFrame): slice of `data` for one `msisdn`\n",
    "    \"\"\"\n",
    "    \n",
    "    \n",
    "    data_msisdn = data_msisdn.sort_values(by='tstamp').copy()\n",
    "    \n",
    "    data_msisdn['tstamp_end'] = data_msisdn['tstamp'].shift(-1)\n",
    "    data_msisdn['duration'] = data_msisdn.tstamp_end - data_msisdn.tstamp\n",
    "    \n",
    "    data_msisdn['duration'] = data_msisdn['duration'].fillna(data_msisdn['duration'].max())\n",
    "    data_msisdn['tstamp_end'] = data_msisdn.tstamp + data_msisdn.duration\n",
    "    \n",
    "    return data_msisdn"
   ]
  },
  {
   "cell_type": "markdown",
   "metadata": {},
   "source": [
    "<i>Пример:</i>"
   ]
  },
  {
   "cell_type": "code",
   "execution_count": 19,
   "metadata": {
    "scrolled": true
   },
   "outputs": [
    {
     "data": {
      "text/html": [
       "<div>\n",
       "<style scoped>\n",
       "    .dataframe tbody tr th:only-of-type {\n",
       "        vertical-align: middle;\n",
       "    }\n",
       "\n",
       "    .dataframe tbody tr th {\n",
       "        vertical-align: top;\n",
       "    }\n",
       "\n",
       "    .dataframe thead th {\n",
       "        text-align: right;\n",
       "    }\n",
       "</style>\n",
       "<table border=\"1\" class=\"dataframe\">\n",
       "  <thead>\n",
       "    <tr style=\"text-align: right;\">\n",
       "      <th></th>\n",
       "      <th>msisdn</th>\n",
       "      <th>tstamp</th>\n",
       "      <th>tstamp_end</th>\n",
       "      <th>duration</th>\n",
       "    </tr>\n",
       "  </thead>\n",
       "  <tbody>\n",
       "    <tr>\n",
       "      <th>1</th>\n",
       "      <td>158520145943</td>\n",
       "      <td>1369252801396</td>\n",
       "      <td>1.369283e+12</td>\n",
       "      <td>30509844.0</td>\n",
       "    </tr>\n",
       "    <tr>\n",
       "      <th>9786</th>\n",
       "      <td>158520145943</td>\n",
       "      <td>1369283311240</td>\n",
       "      <td>1.369284e+12</td>\n",
       "      <td>248568.0</td>\n",
       "    </tr>\n",
       "    <tr>\n",
       "      <th>9940</th>\n",
       "      <td>158520145943</td>\n",
       "      <td>1369283559808</td>\n",
       "      <td>1.369284e+12</td>\n",
       "      <td>103165.0</td>\n",
       "    </tr>\n",
       "  </tbody>\n",
       "</table>\n",
       "</div>"
      ],
      "text/plain": [
       "            msisdn         tstamp    tstamp_end    duration\n",
       "1     158520145943  1369252801396  1.369283e+12  30509844.0\n",
       "9786  158520145943  1369283311240  1.369284e+12    248568.0\n",
       "9940  158520145943  1369283559808  1.369284e+12    103165.0"
      ]
     },
     "execution_count": 19,
     "metadata": {},
     "output_type": "execute_result"
    }
   ],
   "source": [
    "create_tstamp_end_for_msisdn(data[data.msisdn == data.msisdn[1]])[['msisdn', 'tstamp', 'tstamp_end', 'duration']].head(3)"
   ]
  },
  {
   "cell_type": "markdown",
   "metadata": {},
   "source": [
    "Также не будем пренебрегать `multithreading`'ом"
   ]
  },
  {
   "cell_type": "code",
   "execution_count": 20,
   "metadata": {},
   "outputs": [],
   "source": [
    "def create_tstamp_end_col(data, processes=4):\n",
    "    \"\"\"Returns `data` DataFrame with generated\n",
    "    'tstamp_end' and `duration` columns.\n",
    "    \"\"\"\n",
    "    \n",
    "    data_lst = [data[data.msisdn == msisdn].copy() for msisdn in data.msisdn.unique()]\n",
    "    \n",
    "    pool = mp.Pool(processes)\n",
    "    data_lst = [data_msisdn for data_msisdn in pool.map(create_tstamp_end_for_msisdn, data_lst)]\n",
    "    \n",
    "    data_new = pd.concat(data_lst).sort_index()\n",
    "    pd.util.testing.assert_frame_equal(data, data_new[data.columns], check_dtype=False)\n",
    "    \n",
    "    return data_new    "
   ]
  },
  {
   "cell_type": "code",
   "execution_count": 21,
   "metadata": {},
   "outputs": [],
   "source": [
    "if GENERATE:\n",
    "    data = create_tstamp_end_col(data)\n",
    "    \n",
    "    with open('data_tstamp_end_col.pkl', 'wb') as file:\n",
    "        pickle.dump(data, file)\n",
    "\n",
    "else:\n",
    "    with open('data_tstamp_end_col.pkl', 'rb') as file:\n",
    "        data = pickle.load(file)"
   ]
  },
  {
   "cell_type": "markdown",
   "metadata": {},
   "source": [
    "После того, как для каждой записи были сгенерированы:\n",
    "* гео-зоны, где находилась сим-карта в момент регистрации на базовой станции;\n",
    "* временной промежуток, в который сим-карта находилась в этой гео-зоне\n",
    "\n",
    "можно перейти к пересеченям гео-зон (в установленные промежутки времени)\n",
    "\n",
    "Зададим ф-цию, которая определяет, пересекаются ли `polygon`'ы (ф-ция учитывает не только пересечения, но и касания)"
   ]
  },
  {
   "cell_type": "code",
   "execution_count": 22,
   "metadata": {},
   "outputs": [],
   "source": [
    "def polygon_intersecton(polygon_a, polygon_b):\n",
    "    \"\"\"Returns a result of the stated polygons intersection as\n",
    "    a boolean value: `True` if the polygons overlap, and `False` if not).\n",
    "    \"\"\"\n",
    "    \n",
    "    if polygon_a.intersection(polygon_b):\n",
    "        return True\n",
    "    else:\n",
    "        return False"
   ]
  },
  {
   "cell_type": "markdown",
   "metadata": {},
   "source": [
    "Поскольку нам необходимо для каждой строки проверить пересечение `polygon`'а с каждой другой строкой, то для оптимизации этого процесса:\n",
    "* поделим всю зону на секторы (дефолтное значение - 9 секторов, т.е. каждая сторона разделена на 3 равных отрезка);\n",
    "* найдем пересечения каждого `polygon`'а с каждой зоной;\n",
    "* впоследствии (при пересечении всех строк) будем отфильтровывать строки по пересечениям с зонами\n",
    "\n",
    "<i>P.S.\n",
    "    <br/>На незначительном объеме данных эта оптимизация показала <u>ускорение до x2</u></i>"
   ]
  },
  {
   "cell_type": "markdown",
   "metadata": {},
   "source": [
    "Зададим ф-цию для создания зон:"
   ]
  },
  {
   "cell_type": "code",
   "execution_count": 23,
   "metadata": {},
   "outputs": [],
   "source": [
    "def create_zones(data, side_split=3):\n",
    "    \"\"\"Extends area (considered in the framework of `data`) on `max_dist`,\n",
    "    splits each side on `side_splits` and returns dict of polygons\n",
    "    in amount of `side_split**2` (for each side).\n",
    "    \"\"\"\n",
    "\n",
    "    max_dist = data.max_dist.max()\n",
    "\n",
    "    lon_min, lat_min = data.long.min(), data.lat.min() # left-bottom corner\n",
    "    lon_max, lat_max = data.long.max(), data.lat.max() # right-top corner\n",
    "\n",
    "    lon_min, lat_min = find_point(lat_min, lon_min, 180+45, max_dist) # left-bottom corner moved on max_dist\n",
    "    lon_max, lat_max = find_point(lat_max, lon_max, 45, max_dist) # right-top corner moved on max_dist\n",
    "\n",
    "    lon_side = np.linspace(lon_min, lon_max, side_split+1) # * np.ones((side_split+1, side_split+1))\n",
    "    lat_side = np.linspace(lat_min, lat_max, side_split+1) # * np.ones((side_split+1, side_split+1))\n",
    "\n",
    "    zones = {}\n",
    "    for lon_i in range(side_split):\n",
    "        left = lon_side[lon_i]\n",
    "        right = lon_side[lon_i+1]\n",
    "\n",
    "        for lat_i in range(side_split):\n",
    "            bottom = lat_side[lat_i]\n",
    "            top = lat_side[lat_i+1]\n",
    "\n",
    "            left_bottom = [left, bottom]\n",
    "            left_top = [left, top]\n",
    "            right_top = [right, top]\n",
    "            right_bottom = [right, bottom]\n",
    "\n",
    "            zone_points = [left_bottom, left_top, right_top, right_bottom]\n",
    "            zone = Polygon(zone_points)\n",
    "\n",
    "            zone_name = '{}_x_{}'.format(lon_i+1, lat_i+1)\n",
    "            zones[zone_name] = zone\n",
    "\n",
    "    return zones"
   ]
  },
  {
   "cell_type": "code",
   "execution_count": 24,
   "metadata": {},
   "outputs": [
    {
     "name": "stdout",
     "output_type": "stream",
     "text": [
      "Пример зоны:\n"
     ]
    },
    {
     "data": {
      "image/svg+xml": [
       "<svg xmlns=\"http://www.w3.org/2000/svg\" xmlns:xlink=\"http://www.w3.org/1999/xlink\" width=\"100.0\" height=\"100.0\" viewBox=\"35.021322967968516 54.20750771277395 1.7951053054730082 1.0204773851812305\" preserveAspectRatio=\"xMinYMin meet\"><g transform=\"matrix(1,0,0,-1,0,109.43549281072913)\"><path fill-rule=\"evenodd\" fill=\"#66cc99\" stroke=\"#555555\" stroke-width=\"0.035902106109460166\" opacity=\"0.6\" d=\"M 35.087808349652704,54.27399309445814 L 35.087808349652704,55.161499716270995 L 36.749942891757335,55.161499716270995 L 36.749942891757335,54.27399309445814 L 35.087808349652704,54.27399309445814 z\" /></g></svg>"
      ],
      "text/plain": [
       "<shapely.geometry.polygon.Polygon at 0x7fb5d36a5b70>"
      ]
     },
     "execution_count": 24,
     "metadata": {},
     "output_type": "execute_result"
    }
   ],
   "source": [
    "zones = create_zones(data, side_split=3); print('Пример зоны:'); zones['1_x_1']"
   ]
  },
  {
   "cell_type": "markdown",
   "metadata": {},
   "source": [
    "Создадим колонки в кол-ве зон, в которых для каждого msisdn будет \"1\" - если `polygon` строки пересекается с зоной, и \"0\" - если нет"
   ]
  },
  {
   "cell_type": "code",
   "execution_count": 25,
   "metadata": {},
   "outputs": [],
   "source": [
    "def create_zones_cols(data, zones, side_split=3):\n",
    "    \"\"\"Generates columns (in amount of `side_split`**2), which indicate\n",
    "    if a `data` entry intersects the specified zone: 1 for 'yes', 0 for 'no'.\n",
    "    \"\"\"\n",
    "    \n",
    "    for col in data.columns:\n",
    "        if 'zone_' in col:\n",
    "            raise Exception('Zones have been already created!')\n",
    "    \n",
    "    data_new = data.copy()\n",
    "    \n",
    "    zones = create_zones(data, side_split)\n",
    "    zones_ids = list( zones.keys() )\n",
    "    \n",
    "    for zone_id in zones_ids:\n",
    "        zone = zones[zone_id]\n",
    "        data_new['zone_'+zone_id] = data_new.polygon.apply(polygon_intersecton, polygon_b=zone)\n",
    "        data_new['zone_'+zone_id] = data_new['zone_'+zone_id].map({False:0, True:1})\n",
    "        \n",
    "    return data_new"
   ]
  },
  {
   "cell_type": "code",
   "execution_count": 26,
   "metadata": {},
   "outputs": [],
   "source": [
    "if GENERATE:\n",
    "    data = create_zones_cols(data, zones, side_split=5)\n",
    "    \n",
    "    with open('data_zones_cols.pkl', 'wb') as file:\n",
    "        pickle.dump(data, file)\n",
    "\n",
    "else:\n",
    "    with open('data_zones_cols.pkl', 'rb') as file:\n",
    "        data = pickle.load(file)"
   ]
  },
  {
   "cell_type": "markdown",
   "metadata": {},
   "source": [
    "<i>Пример:</i>"
   ]
  },
  {
   "cell_type": "code",
   "execution_count": 27,
   "metadata": {},
   "outputs": [
    {
     "data": {
      "text/html": [
       "<div>\n",
       "<style scoped>\n",
       "    .dataframe tbody tr th:only-of-type {\n",
       "        vertical-align: middle;\n",
       "    }\n",
       "\n",
       "    .dataframe tbody tr th {\n",
       "        vertical-align: top;\n",
       "    }\n",
       "\n",
       "    .dataframe thead th {\n",
       "        text-align: right;\n",
       "    }\n",
       "</style>\n",
       "<table border=\"1\" class=\"dataframe\">\n",
       "  <thead>\n",
       "    <tr style=\"text-align: right;\">\n",
       "      <th></th>\n",
       "      <th>zone_1_x_1</th>\n",
       "      <th>zone_1_x_2</th>\n",
       "      <th>zone_1_x_3</th>\n",
       "      <th>zone_1_x_4</th>\n",
       "      <th>zone_1_x_5</th>\n",
       "      <th>zone_2_x_1</th>\n",
       "      <th>zone_2_x_2</th>\n",
       "      <th>zone_2_x_3</th>\n",
       "      <th>zone_2_x_4</th>\n",
       "      <th>zone_2_x_5</th>\n",
       "      <th>...</th>\n",
       "      <th>zone_4_x_1</th>\n",
       "      <th>zone_4_x_2</th>\n",
       "      <th>zone_4_x_3</th>\n",
       "      <th>zone_4_x_4</th>\n",
       "      <th>zone_4_x_5</th>\n",
       "      <th>zone_5_x_1</th>\n",
       "      <th>zone_5_x_2</th>\n",
       "      <th>zone_5_x_3</th>\n",
       "      <th>zone_5_x_4</th>\n",
       "      <th>zone_5_x_5</th>\n",
       "    </tr>\n",
       "  </thead>\n",
       "  <tbody>\n",
       "    <tr>\n",
       "      <th>0</th>\n",
       "      <td>0</td>\n",
       "      <td>0</td>\n",
       "      <td>0</td>\n",
       "      <td>0</td>\n",
       "      <td>0</td>\n",
       "      <td>0</td>\n",
       "      <td>0</td>\n",
       "      <td>0</td>\n",
       "      <td>0</td>\n",
       "      <td>0</td>\n",
       "      <td>...</td>\n",
       "      <td>0</td>\n",
       "      <td>0</td>\n",
       "      <td>0</td>\n",
       "      <td>0</td>\n",
       "      <td>0</td>\n",
       "      <td>0</td>\n",
       "      <td>0</td>\n",
       "      <td>0</td>\n",
       "      <td>0</td>\n",
       "      <td>0</td>\n",
       "    </tr>\n",
       "    <tr>\n",
       "      <th>1</th>\n",
       "      <td>0</td>\n",
       "      <td>0</td>\n",
       "      <td>0</td>\n",
       "      <td>0</td>\n",
       "      <td>0</td>\n",
       "      <td>0</td>\n",
       "      <td>0</td>\n",
       "      <td>0</td>\n",
       "      <td>0</td>\n",
       "      <td>0</td>\n",
       "      <td>...</td>\n",
       "      <td>0</td>\n",
       "      <td>0</td>\n",
       "      <td>0</td>\n",
       "      <td>0</td>\n",
       "      <td>0</td>\n",
       "      <td>0</td>\n",
       "      <td>0</td>\n",
       "      <td>0</td>\n",
       "      <td>0</td>\n",
       "      <td>0</td>\n",
       "    </tr>\n",
       "    <tr>\n",
       "      <th>2</th>\n",
       "      <td>0</td>\n",
       "      <td>0</td>\n",
       "      <td>0</td>\n",
       "      <td>0</td>\n",
       "      <td>0</td>\n",
       "      <td>0</td>\n",
       "      <td>0</td>\n",
       "      <td>0</td>\n",
       "      <td>0</td>\n",
       "      <td>0</td>\n",
       "      <td>...</td>\n",
       "      <td>0</td>\n",
       "      <td>0</td>\n",
       "      <td>0</td>\n",
       "      <td>0</td>\n",
       "      <td>0</td>\n",
       "      <td>0</td>\n",
       "      <td>0</td>\n",
       "      <td>0</td>\n",
       "      <td>0</td>\n",
       "      <td>0</td>\n",
       "    </tr>\n",
       "  </tbody>\n",
       "</table>\n",
       "<p>3 rows × 25 columns</p>\n",
       "</div>"
      ],
      "text/plain": [
       "   zone_1_x_1  zone_1_x_2  zone_1_x_3  zone_1_x_4  zone_1_x_5  zone_2_x_1  \\\n",
       "0           0           0           0           0           0           0   \n",
       "1           0           0           0           0           0           0   \n",
       "2           0           0           0           0           0           0   \n",
       "\n",
       "   zone_2_x_2  zone_2_x_3  zone_2_x_4  zone_2_x_5  ...  zone_4_x_1  \\\n",
       "0           0           0           0           0  ...           0   \n",
       "1           0           0           0           0  ...           0   \n",
       "2           0           0           0           0  ...           0   \n",
       "\n",
       "   zone_4_x_2  zone_4_x_3  zone_4_x_4  zone_4_x_5  zone_5_x_1  zone_5_x_2  \\\n",
       "0           0           0           0           0           0           0   \n",
       "1           0           0           0           0           0           0   \n",
       "2           0           0           0           0           0           0   \n",
       "\n",
       "   zone_5_x_3  zone_5_x_4  zone_5_x_5  \n",
       "0           0           0           0  \n",
       "1           0           0           0  \n",
       "2           0           0           0  \n",
       "\n",
       "[3 rows x 25 columns]"
      ]
     },
     "execution_count": 27,
     "metadata": {},
     "output_type": "execute_result"
    }
   ],
   "source": [
    "data[[col for col in data.columns if 'zone_' in col]].head(3)"
   ]
  },
  {
   "cell_type": "markdown",
   "metadata": {},
   "source": [
    "Зададим ф-цию, которая ищет `polygon`'ы, с которыми пересекается `polygon` из переданной строки\n",
    "\n",
    "Напомним, что <b>пересечения мы ищем не только по географии, но и по времени!</b>"
   ]
  },
  {
   "cell_type": "code",
   "execution_count": 28,
   "metadata": {},
   "outputs": [],
   "source": [
    "def find_intersections_for_row(row):\n",
    "    \"\"\"Returns row's `msisdn` and a set of msisdns, which intersects with this row\n",
    "    by time and location, as a list.\n",
    "    \"\"\"\n",
    "    \n",
    "    msisdn = row['msisdn']\n",
    "    unique_id = row['unique_id']\n",
    "    tstamp = row['tstamp']\n",
    "    tstamp_end = row['tstamp_end']\n",
    "    polygon_a = row['polygon']\n",
    "\n",
    "    zones = [key for key in row.keys() if 'zone_' in key]\n",
    "    zone_mask = np.zeros(len(data))\n",
    "    for zone in zones:\n",
    "        status = row[zone]\n",
    "        if status == 1:\n",
    "            zone_mask += (data[zone] == status)\n",
    "\n",
    "    zone_mask = (zone_mask > 0)\n",
    "\n",
    "    mask_tstamp = (data.tstamp.between(tstamp, tstamp_end) & (data.msisdn != msisdn))\n",
    "    mask_tstamp_end = (data.tstamp_end.between(tstamp, tstamp_end) & (data.msisdn != msisdn))\n",
    "\n",
    "    mask = (mask_tstamp | mask_tstamp_end) & zone_mask\n",
    "    data_masked = data[mask]\n",
    "    polygons = data_masked.polygon.tolist()\n",
    "\n",
    "    if len(polygons) > 0:\n",
    "        polygons_mask = [polygon_intersecton(polygon_a, polygon_b) for polygon_b in polygons]\n",
    "        intersection = list( set(data_masked[polygons_mask].msisdn) )\n",
    "    else:\n",
    "        intersection = list( set() )\n",
    "\n",
    "    return [unique_id, msisdn, intersection]"
   ]
  },
  {
   "cell_type": "markdown",
   "metadata": {},
   "source": [
    "Зададим ф-цию, которая позволяет найти пересечения `polygon`'ов не только для одной строки, а для всего датасета (`data`)"
   ]
  },
  {
   "cell_type": "code",
   "execution_count": 29,
   "metadata": {},
   "outputs": [],
   "source": [
    "def create_intersections_raw(data, ids=None, processes=4):\n",
    "    \"\"\"Returns list of lists, where each list is a result of find_intersections_for_row()\n",
    "    application for specified msisdns. For msisdns specification list of msisdns should\n",
    "    be provided as `ids`. \n",
    "    \"\"\"\n",
    "    \n",
    "    if ids:\n",
    "        lst_of_dct = data[data.msisdn.isin(ids)].to_dict('records')\n",
    "    else:\n",
    "        lst_of_dct = data.to_dict('records')\n",
    "\n",
    "    pool = mp.Pool(processes)\n",
    "    intersections_raw = [row for row in pool.map(find_intersections_for_row, lst_of_dct)]\n",
    "    \n",
    "    return intersections_raw"
   ]
  },
  {
   "cell_type": "markdown",
   "metadata": {},
   "source": [
    "Ф-ция `create_intersections_raw_batch` (ниже) повторяет ф-цию `create_intersections_raw` (выше), отличия:\n",
    "* обрабатывает строки таблицы `data` кусками (`batch`'ами)\n",
    "* делает бэкап каждого `batch`'а в виде `pickle` файла\n",
    "\n",
    "<i>\n",
    "P.S.\n",
    "<br/>Ф-цию можно существенно оптимизировать: сейчас ф-ция перебирает каждую строку, однако после нахождения для одной строки пересекающихся polygon'ов можно заполнить другие строки (те, которые вошли в список пересечений) и больше их не перебирать.</i>"
   ]
  },
  {
   "cell_type": "code",
   "execution_count": 30,
   "metadata": {},
   "outputs": [],
   "source": [
    "def create_intersections_raw_batch(data, ids, processes=4, batch_size=100, name_prefix='tmp', verbose=1):\n",
    "    \"\"\"The same as `create_intersections_raw()`, but with:\n",
    "    - ids split on sub-lists with len equals to (or below for the last batch) `batch_size`;\n",
    "    - creation of intermediate files while execution;\n",
    "    - progress status notifications.\n",
    "    \"\"\"\n",
    "    \n",
    "    ids_len = len(ids)\n",
    "    batches_num = math.ceil(ids_len / batch_size)\n",
    "    \n",
    "    if verbose == 1:\n",
    "            print('Creation of intersections_raw_batch has been started:')\n",
    "    files_names = []\n",
    "    for i in range(batches_num):\n",
    "        start_time = time.time()\n",
    "        \n",
    "        start = batch_size * i\n",
    "        end = batch_size * (i+1)\n",
    "        ids_batch = ids[start:end]\n",
    "        \n",
    "        intersections_raw_batch = create_intersections_raw(data, ids_batch, processes)\n",
    "        \n",
    "        file_name = 'TF_intersections_raw_' + name_prefix + '_{}_of_{}.pkl'.format(i+1, batches_num)\n",
    "        # TF for 'temprorary file'\n",
    "        with open(file_name, 'wb') as file:\n",
    "            pickle.dump(intersections_raw_batch, file)\n",
    "        del intersections_raw_batch\n",
    "        files_names.append(file_name)\n",
    "        \n",
    "        end_time = time.time()\n",
    "        time_to_show = round((end_time - start_time) / 60, 2)\n",
    "        if verbose == 1:\n",
    "            print('- Batch {} of {} has been processed (time, min.: {}).'\n",
    "                  .format(i+1, batches_num, time_to_show))\n",
    "    \n",
    "    \n",
    "    intersections_raw = []\n",
    "    if verbose == 1:\n",
    "            print('\\n', '`intersections_raw` update has been started:')\n",
    "    for i, file_name in enumerate(files_names):\n",
    "        \n",
    "        with open(file_name, 'rb') as file:\n",
    "            intersections_raw_batch = pickle.load(file)\n",
    "        \n",
    "        intersections_raw += intersections_raw_batch\n",
    "        del intersections_raw_batch\n",
    "        \n",
    "        if verbose == 1:\n",
    "            print('- `intersections_raw` has been updated with batch {} (of {}).'\n",
    "                  .format(i+1, batches_num))\n",
    "        \n",
    "    return intersections_raw"
   ]
  },
  {
   "cell_type": "code",
   "execution_count": 31,
   "metadata": {},
   "outputs": [],
   "source": [
    "if GENERATE:\n",
    "    intersections_raw_facts = create_intersections_raw(data, facts_ids, processes=4)\n",
    "    \n",
    "    with open('intersections_raw_facts.pkl', 'wb') as file:\n",
    "        pickle.dump(intersections_raw_facts, file)\n",
    "\n",
    "else:\n",
    "    with open('intersections_raw_facts.pkl', 'rb') as file:\n",
    "        intersections_raw_facts = pickle.load(file)"
   ]
  },
  {
   "cell_type": "markdown",
   "metadata": {},
   "source": [
    "Ф-ция ниже позволяет преобразовать пересечения из \"сырого\" формата в формат словаря:\n",
    "* ключ словаря - это уникальный `msisdn` (т.е. сим-карта)\n",
    "* значения словаря - другие словари, где:\n",
    "  * ключи - это `msisdn`'ы, которые пересекает первый `msisdn`\n",
    "  * значения - кол-во раз, которое он их пересекает"
   ]
  },
  {
   "cell_type": "code",
   "execution_count": 32,
   "metadata": {},
   "outputs": [],
   "source": [
    "def intersections_raw_processing(intersections_raw, results='count'):\n",
    "    \"\"\"Processes `intersections_raw` and returns one of two dicts with\n",
    "    msisdns as keys and (1) full list of intersections as values, or\n",
    "    (2) intersections counter as values.\n",
    "    \"\"\"\n",
    "\n",
    "    intersections = {}\n",
    "    for intersection in intersections_raw:\n",
    "\n",
    "        msisdn = intersection[1]\n",
    "        intersection_lst = intersection[2]\n",
    "\n",
    "        if msisdn not in intersections:\n",
    "            intersections[msisdn] = intersection_lst\n",
    "        else:\n",
    "            intersections[msisdn] += intersection_lst\n",
    "    \n",
    "    if results != 'count':\n",
    "        return intersections\n",
    "    \n",
    "    else:\n",
    "        intersections_count = {}\n",
    "        for msisdn in intersections:\n",
    "\n",
    "            intersection_lst = intersections[msisdn]\n",
    "            intersections_count[msisdn] = dict( Counter(intersection_lst) )\n",
    "\n",
    "        return intersections_count"
   ]
  },
  {
   "cell_type": "code",
   "execution_count": 33,
   "metadata": {},
   "outputs": [],
   "source": [
    "intersections_count_facts = intersections_raw_processing(intersections_raw_facts)"
   ]
  },
  {
   "cell_type": "markdown",
   "metadata": {},
   "source": [
    "Теперь, когда собраны пересечения, попробуем предсказать \"парную\" сим-карту\n",
    "<br/>В качетсве пары предскажем ту сим-карту, с которой у анализируемой больше всего пересечений"
   ]
  },
  {
   "cell_type": "code",
   "execution_count": 34,
   "metadata": {},
   "outputs": [],
   "source": [
    "def predict_top_pair(msisdns, intersections_count):\n",
    "    \"\"\"Returns TOP (by amount of intersections) msisdn.\"\"\"\n",
    "    \n",
    "    preds = []\n",
    "    for msisdn in msisdns:\n",
    "        \n",
    "        assert_text = 'Provided `intersections_count` dict doesn\\'t contain {}!'.format(msisdn)\n",
    "        assert msisdn in intersections_count, assert_text\n",
    "        \n",
    "        intersection = intersections_count[msisdn]\n",
    "        try:\n",
    "            pred = max(intersection, key=intersection.get)\n",
    "        except:\n",
    "            pred = np.nan\n",
    "\n",
    "        preds.append(pred)\n",
    "    \n",
    "    return preds"
   ]
  },
  {
   "cell_type": "code",
   "execution_count": 35,
   "metadata": {},
   "outputs": [],
   "source": [
    "def accuracy_for_preds(true, preds, print_results=True, alpha=0.05):\n",
    "    \"\"\"Returns a share of preds, which match the true values.\"\"\"\n",
    "    \n",
    "    assert_text = 'Arrays with different lengths were provided.'\n",
    "    assert len(true) == len(preds), assert_text\n",
    "    \n",
    "    correct_num = (np.array(true) == np.array(preds)).sum()\n",
    "    observations_num = len(true)\n",
    "    \n",
    "    accuracy = correct_num / observations_num\n",
    "    \n",
    "    if print_results:\n",
    "        print('accuracy:', accuracy)\n",
    "        \n",
    "        normal_interval = proportion_confint(correct_num, observations_num, method = 'normal', alpha=alpha)\n",
    "        wilson_interval = proportion_confint(correct_num, observations_num, method = 'wilson', alpha=alpha)\n",
    "    \n",
    "        print('Conf. Int.:')\n",
    "        print('- Normal:', normal_interval)\n",
    "        print('- Wilson:', wilson_interval)\n",
    "    \n",
    "    return accuracy"
   ]
  },
  {
   "cell_type": "markdown",
   "metadata": {},
   "source": [
    "Также посмотрим, как часто фактическая \"парная\" сим-карта оказывается в собранном списке пересечений"
   ]
  },
  {
   "cell_type": "code",
   "execution_count": 36,
   "metadata": {},
   "outputs": [],
   "source": [
    "def accuracy_for_intersections(true, msisdns, intersections_count, print_results=True):\n",
    "    \"\"\"Returns a share of intersections, which contain the true values.\"\"\"\n",
    "    \n",
    "    assert_text = 'Attributes of different lengths were provided.'\n",
    "    assert len(msisdns) == len(true), assert_text\n",
    "    for msisdn in msisdns:\n",
    "        assert_text = 'Dict doesn\\'t contain {} msisdn'.format(msisdn)\n",
    "        assert msisdn in intersections_count, assert_text\n",
    "    \n",
    "    correct_num = 0\n",
    "    for i, msisdn in enumerate(msisdns):\n",
    "        \n",
    "        true_val = true[i]\n",
    "        intersection = intersections_count[msisdn]\n",
    "        \n",
    "        if true_val in intersection:\n",
    "            correct_num += 1\n",
    "    \n",
    "    observations_num = len(true)\n",
    "    accuracy = correct_num / observations_num\n",
    "    \n",
    "    if print_results:\n",
    "        print('accuracy in intersections:', accuracy)\n",
    "        \n",
    "        normal_interval = proportion_confint(correct_num, observations_num, method = 'normal', alpha=0.05)\n",
    "        wilson_interval = proportion_confint(correct_num, observations_num, method = 'wilson', alpha=0.05)\n",
    "        \n",
    "        print('Conf. Int.:')\n",
    "        print('- Normal:', normal_interval)\n",
    "        print('- Wilson:', wilson_interval)\n",
    "    \n",
    "    return accuracy"
   ]
  },
  {
   "cell_type": "code",
   "execution_count": 37,
   "metadata": {},
   "outputs": [
    {
     "name": "stdout",
     "output_type": "stream",
     "text": [
      "accuracy: 0.35\n",
      "Conf. Int.:\n",
      "- Normal: (0.27609415273014953, 0.4239058472698504)\n",
      "- Wilson: (0.2803979974382879, 0.4266358611131637)\n",
      "\n",
      "accuracy in intersections: 0.775\n",
      "Conf. Int.:\n",
      "- Normal: (0.7102961370039171, 0.8397038629960829)\n",
      "- Wilson: (0.7042871956457765, 0.8328173970098957)\n"
     ]
    }
   ],
   "source": [
    "msisdns = np.array(pairs_train)[:, 0]\n",
    "\n",
    "true = np.array(pairs_train)[:, 1]\n",
    "preds_top_pair = predict_top_pair(msisdns, intersections_count_facts)\n",
    "\n",
    "_ = accuracy_for_preds(true, preds_top_pair); print()\n",
    "_ = accuracy_for_intersections(true, msisdns, intersections_count_facts)"
   ]
  },
  {
   "cell_type": "markdown",
   "metadata": {},
   "source": [
    "## <font color='57068c'>Идея 1: результаты</font>\n",
    "<font color='00985f'><b>Если</b></font> для каждой первой сим-карты (из таблицы «факты») в качестве второй сим-карты <font color='00985f'><b>предсказать ту сим-карту, с которой</b></font> у первой больше всего пересечений (по гео-зоне и времени*), то мы <font color='00985f'><b>будем правы в 35.0% случаев</b></font> (5%-ый дов. инт.: от 27.6% до 42.4%)\n",
    "<br/><font color='57068c'><i>далее такой алгоритм будем называть <b>“наивным алгоритмом”</b></i></font>\n",
    "\n",
    "При этом <font color='00985f'><b>для 77.5%</b></font> (5%-ый дов. инт.: от 71.0% до 84.0%) <font color='00985f'><b>первых сим-карт, правильная вторая сим-карта содержится в собранном списке пересечений</b></font>* (правда, надо признать, что некоторые списки весьма большие)\n",
    "\n",
    "Таким образом, при условии того, что у сим-карты есть пара, мы правы в определении этой пары в 35.0% случаях, а предел для такой точности составляет 77.5%\n",
    "\n",
    "*Напомним:*\n",
    "* *для расчета указанных цифр было использовано 160 (из 240) пар;*\n",
    "* *оставшиеся 80 пар (33% от 240) были оставлены в качестве ‘unseen data’ для теста в конце исследования*\n",
    "\n",
    "<font color='666666'><i>* подробнее про пересечения см. «Шаг 2» в разделе «Идея 1: реализация»</i></font>"
   ]
  },
  {
   "cell_type": "markdown",
   "metadata": {},
   "source": [
    "## <font color='57068c'>Идея 2: формулировка</font>\n",
    "\n",
    "<font color='57068c'><u><i>«Давайте, попробуем применить машинное обучение, чтобы увеличить точность с 35.0%, желательно, до 77.5%»</i></u></font>\n",
    "\n",
    "<i>P.S.\n",
    "<br/><b>#fitpredict</b> можно здесь!</i>"
   ]
  },
  {
   "cell_type": "markdown",
   "metadata": {},
   "source": [
    "## <font color='57068c'>Идея 2: реализация (1/3)</font>\n",
    "### <font color='00985f'><b>Шаг 1:</b></font>\n",
    "Создадим обучающую выборку:\n",
    "* возьмем все уникальные сим-карты из таблицы «факты» и составим список пересечений (по гео-зоне и времени);\n",
    "* составим все возможные пары сим-карт (наблюдения), где первая сим-карта — уникальная сим-карта из таблицы «факты»,\n",
    "<br/> а вторая сим-карта из составленного списка пересечений;\n",
    "* разметим датасет «1» - если сим-карты, действительно, пары, «0» - если нет, опираясь на таблицу «факты»\n",
    "\n",
    "<i>P.S.\n",
    "<br/>получился <font color='00985f'><b>датасет из 7707 наблюдений (пар)</b></font>, где <font color='00985f'><b>количество «1» равно 124</b></font></i>\n",
    "\n",
    "\n",
    "### <font color='00985f'><b>Шаг 2:</b></font>\n",
    "* на собранном датасете <font color='00985f'><b>обучим классификатор</b></font>;\n",
    "* для каждой сим-карты выберем все строки, в которой она являлась первой;\n",
    "* среди отобранных строк <font color='00985f'><b>оставим одну, для которой предсказание классификатора</b></font> (вероятность отнесения к классу «1») <font color='00985f'><b>максимально</b></font>;\n",
    "* из этой строки выделим вторую сим-карту, которая и будет являться предсказанием"
   ]
  },
  {
   "cell_type": "code",
   "execution_count": 38,
   "metadata": {},
   "outputs": [],
   "source": [
    "def generate_markup(pairs, intersections_count):\n",
    "    \"\"\"Generates msisdns pairs, which exist in intersections count,\n",
    "    assigns '1' to pairs, which exist in `pair` (actual data re same persons)\n",
    "    and '0' to nonexistent pairs.\n",
    "    \"\"\"\n",
    "    \n",
    "    markup = []\n",
    "    for i, pair in enumerate(pairs):\n",
    "        \n",
    "        msisdn = pair[0]\n",
    "        \n",
    "        assert_text = '{} msisdn isn\\'t in provided dict.'.format(msisdn)\n",
    "        assert msisdn in intersections_count, assert_text\n",
    "        \n",
    "        true_val = pair[1]\n",
    "        intersections = intersections_count[msisdn]\n",
    "        \n",
    "        for intersection in intersections:\n",
    "            \n",
    "            observation = [msisdn, intersection]\n",
    "            \n",
    "            if intersection == true_val:\n",
    "                observation.append(1)\n",
    "            else:\n",
    "                observation.append(0)\n",
    "            \n",
    "            markup.append(observation)\n",
    "    \n",
    "    cols = ['msisdn_a', 'msisdn_b', 'target']\n",
    "    markup = pd.DataFrame(data=markup, columns=cols)\n",
    "    \n",
    "    print('Total observations #:', len(markup))\n",
    "    print('Positive observations #:', markup.target.sum())\n",
    "    \n",
    "    return markup"
   ]
  },
  {
   "cell_type": "code",
   "execution_count": 39,
   "metadata": {},
   "outputs": [
    {
     "name": "stdout",
     "output_type": "stream",
     "text": [
      "Total observations #: 7707\n",
      "Positive observations #: 124\n",
      "\n"
     ]
    },
    {
     "data": {
      "text/html": [
       "<div>\n",
       "<style scoped>\n",
       "    .dataframe tbody tr th:only-of-type {\n",
       "        vertical-align: middle;\n",
       "    }\n",
       "\n",
       "    .dataframe tbody tr th {\n",
       "        vertical-align: top;\n",
       "    }\n",
       "\n",
       "    .dataframe thead th {\n",
       "        text-align: right;\n",
       "    }\n",
       "</style>\n",
       "<table border=\"1\" class=\"dataframe\">\n",
       "  <thead>\n",
       "    <tr style=\"text-align: right;\">\n",
       "      <th></th>\n",
       "      <th>msisdn_a</th>\n",
       "      <th>msisdn_b</th>\n",
       "      <th>target</th>\n",
       "    </tr>\n",
       "  </thead>\n",
       "  <tbody>\n",
       "    <tr>\n",
       "      <th>0</th>\n",
       "      <td>158523272017</td>\n",
       "      <td>158526782893</td>\n",
       "      <td>0</td>\n",
       "    </tr>\n",
       "    <tr>\n",
       "      <th>1</th>\n",
       "      <td>158523272017</td>\n",
       "      <td>158590442241</td>\n",
       "      <td>0</td>\n",
       "    </tr>\n",
       "    <tr>\n",
       "      <th>2</th>\n",
       "      <td>158523272017</td>\n",
       "      <td>158522023493</td>\n",
       "      <td>0</td>\n",
       "    </tr>\n",
       "  </tbody>\n",
       "</table>\n",
       "</div>"
      ],
      "text/plain": [
       "       msisdn_a      msisdn_b  target\n",
       "0  158523272017  158526782893       0\n",
       "1  158523272017  158590442241       0\n",
       "2  158523272017  158522023493       0"
      ]
     },
     "execution_count": 39,
     "metadata": {},
     "output_type": "execute_result"
    }
   ],
   "source": [
    "markup_train = generate_markup(pairs_train, intersections_count_facts); print()\n",
    "markup_train.head(3)"
   ]
  },
  {
   "cell_type": "markdown",
   "metadata": {},
   "source": [
    "## <font color='57068c'>Идея 2: реализация (2/3)</font>\n",
    "Для обучения классификатора <font color='00985f'><b>построим признаки, описывающие пару</b></font>:\n",
    "* количество пересечений;\n",
    "* доля пересечений (= количество пересечений / общее кол-во пересечений 1ой сим-карты);\n",
    "\n",
    "<i>Также на следующем шаге будет добавлен признак:</i>\n",
    "* косинусное расстояние между векторами, составленными для каждой сим-карты из индивидуальных признаков (см. ниже)"
   ]
  },
  {
   "cell_type": "code",
   "execution_count": 40,
   "metadata": {},
   "outputs": [],
   "source": [
    "def generate_intersections_num_feature(pairs, intersections_count):\n",
    "    \"\"\"Generates msisdns pairs, which exist in intersections count,\n",
    "    and returns DataFrame with pairs and # of their intersections and \n",
    "    share of their intersections in the total intersections_amount.\n",
    "    \"\"\"\n",
    "    \n",
    "    intersections_num_feature = []\n",
    "    for pair in pairs:\n",
    "        \n",
    "        msisdn_a = pair[0]\n",
    "        assert_text = '{} msisdn isn\\'t in provided dict.'.format(msisdn_a)\n",
    "        assert msisdn_a in intersections_count, assert_text\n",
    "        \n",
    "        true_val = pair[1]\n",
    "        intersections = intersections_count[msisdn_a]\n",
    "        \n",
    "        for msisdn_b in intersections:\n",
    "            \n",
    "            intersections_num = intersections[msisdn_b]\n",
    "            intersections_share = intersections_num / sum(intersections.values())\n",
    "            observation = [msisdn_a, msisdn_b, intersections_num, intersections_share]\n",
    "            \n",
    "            intersections_num_feature.append(observation)\n",
    "    \n",
    "    cols = ['msisdn_a', 'msisdn_b', 'intersections_num', 'intersections_share']\n",
    "    intersections_num_feature = pd.DataFrame(data=intersections_num_feature, columns=cols)\n",
    "    \n",
    "    assert_text = 'Min `intersections_num` value equals to (or below) zero: the mistake should be in provided dict!'\n",
    "    assert intersections_num_feature.intersections_num.min() > 0, assert_text\n",
    "    \n",
    "    \n",
    "    print('Total observations #:', len(intersections_num_feature))\n",
    "    min_val = intersections_num_feature.intersections_num.min()\n",
    "    max_val = intersections_num_feature.intersections_num.max()\n",
    "    print('Min value:', min_val, '|', 'Max value:', max_val)\n",
    "    \n",
    "    \n",
    "    return intersections_num_feature"
   ]
  },
  {
   "cell_type": "code",
   "execution_count": 41,
   "metadata": {},
   "outputs": [
    {
     "name": "stdout",
     "output_type": "stream",
     "text": [
      "Total observations #: 7707\n",
      "Min value: 1 | Max value: 28\n",
      "\n"
     ]
    },
    {
     "data": {
      "text/html": [
       "<div>\n",
       "<style scoped>\n",
       "    .dataframe tbody tr th:only-of-type {\n",
       "        vertical-align: middle;\n",
       "    }\n",
       "\n",
       "    .dataframe tbody tr th {\n",
       "        vertical-align: top;\n",
       "    }\n",
       "\n",
       "    .dataframe thead th {\n",
       "        text-align: right;\n",
       "    }\n",
       "</style>\n",
       "<table border=\"1\" class=\"dataframe\">\n",
       "  <thead>\n",
       "    <tr style=\"text-align: right;\">\n",
       "      <th></th>\n",
       "      <th>msisdn_a</th>\n",
       "      <th>msisdn_b</th>\n",
       "      <th>intersections_num</th>\n",
       "      <th>intersections_share</th>\n",
       "    </tr>\n",
       "  </thead>\n",
       "  <tbody>\n",
       "    <tr>\n",
       "      <th>0</th>\n",
       "      <td>158523272017</td>\n",
       "      <td>158526782893</td>\n",
       "      <td>1</td>\n",
       "      <td>0.023256</td>\n",
       "    </tr>\n",
       "    <tr>\n",
       "      <th>1</th>\n",
       "      <td>158523272017</td>\n",
       "      <td>158590442241</td>\n",
       "      <td>1</td>\n",
       "      <td>0.023256</td>\n",
       "    </tr>\n",
       "    <tr>\n",
       "      <th>2</th>\n",
       "      <td>158523272017</td>\n",
       "      <td>158522023493</td>\n",
       "      <td>2</td>\n",
       "      <td>0.046512</td>\n",
       "    </tr>\n",
       "  </tbody>\n",
       "</table>\n",
       "</div>"
      ],
      "text/plain": [
       "       msisdn_a      msisdn_b  intersections_num  intersections_share\n",
       "0  158523272017  158526782893                  1             0.023256\n",
       "1  158523272017  158590442241                  1             0.023256\n",
       "2  158523272017  158522023493                  2             0.046512"
      ]
     },
     "execution_count": 41,
     "metadata": {},
     "output_type": "execute_result"
    }
   ],
   "source": [
    "intersections_num_feature_train = generate_intersections_num_feature(pairs_train, intersections_count_facts); print()\n",
    "intersections_num_feature_train.head(3)"
   ]
  },
  {
   "cell_type": "code",
   "execution_count": 42,
   "metadata": {},
   "outputs": [
    {
     "data": {
      "text/html": [
       "<div>\n",
       "<style scoped>\n",
       "    .dataframe tbody tr th:only-of-type {\n",
       "        vertical-align: middle;\n",
       "    }\n",
       "\n",
       "    .dataframe tbody tr th {\n",
       "        vertical-align: top;\n",
       "    }\n",
       "\n",
       "    .dataframe thead th {\n",
       "        text-align: right;\n",
       "    }\n",
       "</style>\n",
       "<table border=\"1\" class=\"dataframe\">\n",
       "  <thead>\n",
       "    <tr style=\"text-align: right;\">\n",
       "      <th></th>\n",
       "      <th>msisdn_a</th>\n",
       "      <th>msisdn_b</th>\n",
       "      <th>intersections_num</th>\n",
       "      <th>intersections_share</th>\n",
       "      <th>target</th>\n",
       "    </tr>\n",
       "  </thead>\n",
       "  <tbody>\n",
       "    <tr>\n",
       "      <th>0</th>\n",
       "      <td>158523272017</td>\n",
       "      <td>158526782893</td>\n",
       "      <td>1</td>\n",
       "      <td>0.023256</td>\n",
       "      <td>0</td>\n",
       "    </tr>\n",
       "    <tr>\n",
       "      <th>1</th>\n",
       "      <td>158523272017</td>\n",
       "      <td>158590442241</td>\n",
       "      <td>1</td>\n",
       "      <td>0.023256</td>\n",
       "      <td>0</td>\n",
       "    </tr>\n",
       "    <tr>\n",
       "      <th>2</th>\n",
       "      <td>158523272017</td>\n",
       "      <td>158522023493</td>\n",
       "      <td>2</td>\n",
       "      <td>0.046512</td>\n",
       "      <td>0</td>\n",
       "    </tr>\n",
       "  </tbody>\n",
       "</table>\n",
       "</div>"
      ],
      "text/plain": [
       "       msisdn_a      msisdn_b  intersections_num  intersections_share  target\n",
       "0  158523272017  158526782893                  1             0.023256       0\n",
       "1  158523272017  158590442241                  1             0.023256       0\n",
       "2  158523272017  158522023493                  2             0.046512       0"
      ]
     },
     "execution_count": 42,
     "metadata": {},
     "output_type": "execute_result"
    }
   ],
   "source": [
    "joint_train = intersections_num_feature_train.merge(markup_train,\n",
    "                                                    how='left',\n",
    "                                                    on=['msisdn_a', 'msisdn_b'])\n",
    "joint_train.head(3)"
   ]
  },
  {
   "cell_type": "markdown",
   "metadata": {},
   "source": [
    "Посмотрим, как кол-во пересечений соотносится с `target`"
   ]
  },
  {
   "cell_type": "code",
   "execution_count": 43,
   "metadata": {},
   "outputs": [
    {
     "data": {
      "image/png": "[encoded data removed]",
      "text/plain": [
       "<Figure size 864x432 with 1 Axes>"
      ]
     },
     "metadata": {
      "needs_background": "light"
     },
     "output_type": "display_data"
    }
   ],
   "source": [
    "plt.figure(figsize=(12,6))\n",
    "sns.violinplot(x=\"target\", y=\"intersections_num\", data=joint_train, palette=['#57068c', '#00985f'], split=True)\n",
    "plt.show()"
   ]
  },
  {
   "cell_type": "markdown",
   "metadata": {},
   "source": [
    "Можно заметить, что для правильных пар среднее колиество пересечений выше, чем для неправильных пар\n",
    "\n",
    "Теперь посмотрим на аналогичный график для \"нормализованного\" количества пересечений:\n",
    "<br/><i>соотношения = [кол-во пересечений пары / общеее кол-во пересечений 1-ой сим-карты]</i>"
   ]
  },
  {
   "cell_type": "code",
   "execution_count": 44,
   "metadata": {},
   "outputs": [
    {
     "data": {
      "image/png": "[encoded data removed]",
      "text/plain": [
       "<Figure size 864x432 with 1 Axes>"
      ]
     },
     "metadata": {
      "needs_background": "light"
     },
     "output_type": "display_data"
    }
   ],
   "source": [
    "plt.figure(figsize=(12,6))\n",
    "sns.violinplot(x=\"target\", y=\"intersections_share\", data=joint_train, palette=['#57068c', '#00985f'], split=True)\n",
    "plt.show()"
   ]
  },
  {
   "cell_type": "markdown",
   "metadata": {},
   "source": [
    "Аналогично можно заметить, что для правильных пар \"нормализованное\" колиество пересечений выше, чем для неправильных пар, а также что от определенного значения \"нормализованного\" количества пересечений неправильные пары перестают встречаться\n",
    "\n",
    "<i>Может показаться, что для \"1\" есть значения долей >1, но это не так</i>"
   ]
  },
  {
   "cell_type": "code",
   "execution_count": 45,
   "metadata": {},
   "outputs": [
    {
     "name": "stdout",
     "output_type": "stream",
     "text": [
      "joint_train.intersections_share.max() = 1.0\n"
     ]
    }
   ],
   "source": [
    "print('joint_train.intersections_share.max() =', joint_train.intersections_share.max())"
   ]
  },
  {
   "cell_type": "markdown",
   "metadata": {},
   "source": [
    "## <font color='57068c'>Идея 2: реализация (3/3)</font>\n",
    "Также (для обучения классификатора) <font color='00985f'><b>построим индивидуальные признаки для каждой из сим-карт</b></font>:\n",
    "* кол-во уникальных сим-карт, с которыми есть пересечения\n",
    "* общее, медианное, (арифм.) среднее кол-во пересечений\n",
    "* минимальное и максимальное число пересечений с какой-либо из сим-карт\n",
    "* кол-во записей в таблице `Data`, относящихся к сим-карте\n",
    "* кол-во уникальных `imei`, `lac`, `cid` и `lac_cid`\n",
    "* среднее время нахождения в зоне действия базовой станции\n",
    "* сумма и доля (от общего числа) каждого из `event_type_0-10` (всего 22=11х2 признака)\n",
    "* аналогично `event_type` для `cell_type` (6 признаков)\n",
    "* время регистрации на базовой станции было разбито на 4 периода и посчитаны статистики аналогично `event_type`"
   ]
  },
  {
   "cell_type": "markdown",
   "metadata": {},
   "source": [
    "Зададим:\n",
    "* ф-цию, которая описывает сим-карту (т.е. создает признаки) статистиками по пересечениям сим-карты, и\n",
    "* её имплементацию для набора сим-карт"
   ]
  },
  {
   "cell_type": "code",
   "execution_count": 46,
   "metadata": {},
   "outputs": [],
   "source": [
    "def generate_intersections_description(msisdn, intersections_count):\n",
    "    \"\"\"Returns DataFrame with msisdn as an index and columns - stats,\n",
    "    related to intersections of the provided msisdn.\n",
    "    \"\"\"\n",
    "    \n",
    "    assert_text = '{} is not in the provided count-dict.'.format(msisdn)\n",
    "    assert msisdn in intersections_count, assert_text\n",
    "    \n",
    "    intersections = intersections_count[msisdn]\n",
    "    values = np.array(list(intersections.values()))\n",
    "    \n",
    "    stats = {'intersections_unique': len(values),\n",
    "             'intersections_sum': np.sum(values)}\n",
    "    if len(values) == 0:\n",
    "        stats['intersections_median'] = 0\n",
    "        stats['intersections_mean'] = 0\n",
    "        stats['intersections_min'] = 0\n",
    "        stats['intersections_max'] = 0\n",
    "    else:\n",
    "        stats['intersections_median'] = np.median(values)\n",
    "        stats['intersections_mean'] = np.mean(values)\n",
    "        stats['intersections_min'] = np.min(values)\n",
    "        stats['intersections_max'] = np.max(values)\n",
    "    \n",
    "    intersections_description = pd.DataFrame(stats, index=[msisdn])\n",
    "    return intersections_description"
   ]
  },
  {
   "cell_type": "code",
   "execution_count": 47,
   "metadata": {},
   "outputs": [],
   "source": [
    "def generate_intersections_description_for_group(msisdns_group, intersections_count, processes=4):\n",
    "    \"\"\"Applies `generate_intersections_description` to the provided group of msisdns.\"\"\"\n",
    "    \n",
    "    msisdns_group = list(msisdns_group)\n",
    "    \n",
    "    pool = mp.Pool(processes)\n",
    "    intersections_descriptions_iter = pool.map(\n",
    "        partial(generate_intersections_description, intersections_count=intersections_count), msisdns_group\n",
    "    )\n",
    "    intersections_descriptions = [msisdn for msisdn in intersections_descriptions_iter]\n",
    "    intersections_descriptions = pd.concat(intersections_descriptions)\n",
    "    \n",
    "    return intersections_descriptions"
   ]
  },
  {
   "cell_type": "markdown",
   "metadata": {},
   "source": [
    "В этот момент стало ясно, что собранный словарь с пересечениями неисчерпывающий, и его надо пересобирать"
   ]
  },
  {
   "cell_type": "code",
   "execution_count": 48,
   "metadata": {},
   "outputs": [],
   "source": [
    "msisdns_group_train = set(joint_train.msisdn_a.tolist() + joint_train.msisdn_b.tolist())\n",
    "msisdns_group_train = list(msisdns_group_train)"
   ]
  },
  {
   "cell_type": "code",
   "execution_count": 49,
   "metadata": {},
   "outputs": [],
   "source": [
    "if GENERATE:\n",
    "    intersections_raw_train = create_intersections_raw_batch(data, msisdns_group_train, batch_size=30, name_prefix='train')\n",
    "    \n",
    "    with open('intersections_raw_train.pkl', 'wb') as file:\n",
    "        pickle.dump(intersections_raw_train, file)\n",
    "\n",
    "else:\n",
    "    with open('intersections_raw_train.pkl', 'rb') as file:\n",
    "        intersections_raw_train = pickle.load(file)"
   ]
  },
  {
   "cell_type": "code",
   "execution_count": 50,
   "metadata": {},
   "outputs": [],
   "source": [
    "intersections_count_train = intersections_raw_processing(intersections_raw_train)\n",
    "assert len(intersections_count_train) == len(msisdns_group_train)"
   ]
  },
  {
   "cell_type": "markdown",
   "metadata": {},
   "source": [
    "Пример признаков-статистик по пересечениям"
   ]
  },
  {
   "cell_type": "code",
   "execution_count": 51,
   "metadata": {},
   "outputs": [
    {
     "data": {
      "text/html": [
       "<div>\n",
       "<style scoped>\n",
       "    .dataframe tbody tr th:only-of-type {\n",
       "        vertical-align: middle;\n",
       "    }\n",
       "\n",
       "    .dataframe tbody tr th {\n",
       "        vertical-align: top;\n",
       "    }\n",
       "\n",
       "    .dataframe thead th {\n",
       "        text-align: right;\n",
       "    }\n",
       "</style>\n",
       "<table border=\"1\" class=\"dataframe\">\n",
       "  <thead>\n",
       "    <tr style=\"text-align: right;\">\n",
       "      <th></th>\n",
       "      <th>intersections_unique</th>\n",
       "      <th>intersections_sum</th>\n",
       "      <th>intersections_median</th>\n",
       "      <th>intersections_mean</th>\n",
       "      <th>intersections_min</th>\n",
       "      <th>intersections_max</th>\n",
       "    </tr>\n",
       "  </thead>\n",
       "  <tbody>\n",
       "    <tr>\n",
       "      <th>158534066181</th>\n",
       "      <td>83</td>\n",
       "      <td>115.0</td>\n",
       "      <td>1.0</td>\n",
       "      <td>1.385542</td>\n",
       "      <td>1</td>\n",
       "      <td>4</td>\n",
       "    </tr>\n",
       "    <tr>\n",
       "      <th>158535065609</th>\n",
       "      <td>78</td>\n",
       "      <td>91.0</td>\n",
       "      <td>1.0</td>\n",
       "      <td>1.166667</td>\n",
       "      <td>1</td>\n",
       "      <td>6</td>\n",
       "    </tr>\n",
       "    <tr>\n",
       "      <th>158530568203</th>\n",
       "      <td>104</td>\n",
       "      <td>137.0</td>\n",
       "      <td>1.0</td>\n",
       "      <td>1.317308</td>\n",
       "      <td>1</td>\n",
       "      <td>5</td>\n",
       "    </tr>\n",
       "  </tbody>\n",
       "</table>\n",
       "</div>"
      ],
      "text/plain": [
       "              intersections_unique  intersections_sum  intersections_median  \\\n",
       "158534066181                    83              115.0                   1.0   \n",
       "158535065609                    78               91.0                   1.0   \n",
       "158530568203                   104              137.0                   1.0   \n",
       "\n",
       "              intersections_mean  intersections_min  intersections_max  \n",
       "158534066181            1.385542                  1                  4  \n",
       "158535065609            1.166667                  1                  6  \n",
       "158530568203            1.317308                  1                  5  "
      ]
     },
     "execution_count": 51,
     "metadata": {},
     "output_type": "execute_result"
    }
   ],
   "source": [
    "intersections_descriptions_train = generate_intersections_description_for_group(msisdns_group_train, intersections_count_train)\n",
    "intersections_descriptions_train.head(3)"
   ]
  },
  {
   "cell_type": "markdown",
   "metadata": {},
   "source": [
    "<i>Ф-ция ниже понадобится чуть позже</i>"
   ]
  },
  {
   "cell_type": "code",
   "execution_count": 52,
   "metadata": {},
   "outputs": [],
   "source": [
    "def get_part_of_day(hour):\n",
    "    \"\"\"Returns part of the day.\"\"\"\n",
    "    \n",
    "    if 5 <= hour <= 10:\n",
    "        part_of_the_day = \"morning\"\n",
    "    elif 11 <= hour <= 16:\n",
    "        part_of_the_day = \"afternoon\"\n",
    "    elif 17 <= hour <= 22:\n",
    "        part_of_the_day = \"evening\"\n",
    "    else:\n",
    "    # elif 23 <= hour <= 4:\n",
    "        part_of_the_day = \"night\"\n",
    "    \n",
    "    return part_of_the_day"
   ]
  },
  {
   "cell_type": "markdown",
   "metadata": {},
   "source": [
    "Зададим ф-цию, которая описывает сим-карту (т.е. создает признаки), собирая информацию из таблицы `data`"
   ]
  },
  {
   "cell_type": "code",
   "execution_count": 53,
   "metadata": {},
   "outputs": [],
   "source": [
    "def generate_data_description(data):\n",
    "    \"\"\"Returns DataFrame with msisdn as an index and columns - stats,\n",
    "    aggregated from `data` DataFrame for each msisdn.\n",
    "    \"\"\"\n",
    "    \n",
    "    cols_description = ['unique_id', 'msisdn', 'lac', 'cid', 'imei', 'event_type', 'tstamp', 'cell_type', 'duration']\n",
    "    \n",
    "    data_description = data[cols_description].copy()\n",
    "    data_description.index = data_description.unique_id\n",
    "    data_description.drop(columns='unique_id', inplace=True)\n",
    "    \n",
    "    \n",
    "    # event_type one-hot encoding (for future stats)\n",
    "    event_type = pd.get_dummies(data_description.event_type)\n",
    "    event_type.columns = ['event_type_'+str(col) for col in event_type.columns]\n",
    "\n",
    "    data_description = data_description.merge(event_type, how='left', left_index=True, right_index=True)\n",
    "    data_description.drop(columns=['event_type'], inplace=True)\n",
    "    \n",
    "    \n",
    "    # cell_type one-hot encoding (for future stats)\n",
    "    cell_type = pd.get_dummies(data_description.cell_type)\n",
    "    cell_type.columns = ['cell_type_'+str(col) for col in cell_type.columns]\n",
    "\n",
    "    data_description = data_description.merge(cell_type, how='left', left_index=True, right_index=True)\n",
    "    data_description.drop(columns=['cell_type'], inplace=True)\n",
    "    \n",
    "    \n",
    "    # part_of_day feature creation and one-hot encoding (for future stats)\n",
    "    data_description['date_time'] = pd.to_datetime(data_description.tstamp / 1000, unit='s')\n",
    "    data_description['part_of_day'] = data_description.date_time.dt.hour.apply(get_part_of_day)\n",
    "\n",
    "    part_of_day = pd.get_dummies(data_description.part_of_day)\n",
    "    part_of_day.columns = ['part_of_day_'+str(col) for col in part_of_day.columns]\n",
    "\n",
    "    data_description = data_description.merge(part_of_day, how='left', left_index=True, right_index=True)\n",
    "    data_description.drop(columns=['part_of_day'], inplace=True)\n",
    "    \n",
    "    \n",
    "    # lac_cid column creation\n",
    "    data_description['lac_cid'] = data_description.lac.astype(str) + '_' + data_description.cid.astype(str)\n",
    "    \n",
    "    \n",
    "    # aggregation dictionary composing\n",
    "    # -- regular stats\n",
    "    agg_dict = {'msisdn': 'count',\n",
    "                'lac': pd.Series.nunique,\n",
    "                'cid': pd.Series.nunique,\n",
    "                'lac_cid': pd.Series.nunique,\n",
    "                'imei': pd.Series.nunique,\n",
    "                'duration': np.mean}\n",
    "    # -- sum and mean for one-hot encoded columns (mean shows share of each col, i.e. normalized sum)\n",
    "    for df in [event_type, cell_type, part_of_day]:\n",
    "        for df_col in df.columns:\n",
    "            agg_dict[df_col] = [np.sum, np.mean]\n",
    "     \n",
    "    \n",
    "    # aggregation of `data`\n",
    "    data_description_agg = data_description.groupby('msisdn').agg(agg_dict)\n",
    "    \n",
    "    \n",
    "    # renaming aggregated one-hot encoded cols\n",
    "    new_col_names = []\n",
    "\n",
    "    for col in data_description_agg.columns:\n",
    "\n",
    "        special_cols_et = event_type.columns.tolist()\n",
    "        special_cols_ct = cell_type.columns.tolist()\n",
    "        special_cols_pd = part_of_day.columns.tolist()\n",
    "        special_cols = special_cols_et + special_cols_ct + special_cols_pd\n",
    "\n",
    "        if col[0] in special_cols and col[1] == 'mean':\n",
    "            col_1 = 'share'\n",
    "        else:\n",
    "            col_1 = col[1]\n",
    "\n",
    "        new_col_name = col[0] + '_' + col_1\n",
    "        new_col_names.append(new_col_name)\n",
    "\n",
    "    data_description_agg.columns = new_col_names\n",
    "    \n",
    "    \n",
    "    # FINISH\n",
    "    return data_description_agg"
   ]
  },
  {
   "cell_type": "code",
   "execution_count": 54,
   "metadata": {},
   "outputs": [
    {
     "data": {
      "text/html": [
       "<div>\n",
       "<style scoped>\n",
       "    .dataframe tbody tr th:only-of-type {\n",
       "        vertical-align: middle;\n",
       "    }\n",
       "\n",
       "    .dataframe tbody tr th {\n",
       "        vertical-align: top;\n",
       "    }\n",
       "\n",
       "    .dataframe thead th {\n",
       "        text-align: right;\n",
       "    }\n",
       "</style>\n",
       "<table border=\"1\" class=\"dataframe\">\n",
       "  <thead>\n",
       "    <tr style=\"text-align: right;\">\n",
       "      <th></th>\n",
       "      <th>msisdn_count</th>\n",
       "      <th>lac_nunique</th>\n",
       "      <th>cid_nunique</th>\n",
       "      <th>lac_cid_nunique</th>\n",
       "      <th>imei_nunique</th>\n",
       "      <th>duration_mean</th>\n",
       "      <th>event_type_0_sum</th>\n",
       "      <th>event_type_0_share</th>\n",
       "      <th>event_type_1_sum</th>\n",
       "      <th>event_type_1_share</th>\n",
       "      <th>...</th>\n",
       "      <th>cell_type_OUTDOOR_sum</th>\n",
       "      <th>cell_type_OUTDOOR_share</th>\n",
       "      <th>part_of_day_afternoon_sum</th>\n",
       "      <th>part_of_day_afternoon_share</th>\n",
       "      <th>part_of_day_evening_sum</th>\n",
       "      <th>part_of_day_evening_share</th>\n",
       "      <th>part_of_day_morning_sum</th>\n",
       "      <th>part_of_day_morning_share</th>\n",
       "      <th>part_of_day_night_sum</th>\n",
       "      <th>part_of_day_night_share</th>\n",
       "    </tr>\n",
       "    <tr>\n",
       "      <th>msisdn</th>\n",
       "      <th></th>\n",
       "      <th></th>\n",
       "      <th></th>\n",
       "      <th></th>\n",
       "      <th></th>\n",
       "      <th></th>\n",
       "      <th></th>\n",
       "      <th></th>\n",
       "      <th></th>\n",
       "      <th></th>\n",
       "      <th></th>\n",
       "      <th></th>\n",
       "      <th></th>\n",
       "      <th></th>\n",
       "      <th></th>\n",
       "      <th></th>\n",
       "      <th></th>\n",
       "      <th></th>\n",
       "      <th></th>\n",
       "      <th></th>\n",
       "      <th></th>\n",
       "    </tr>\n",
       "  </thead>\n",
       "  <tbody>\n",
       "    <tr>\n",
       "      <th>158500002513</th>\n",
       "      <td>8</td>\n",
       "      <td>1</td>\n",
       "      <td>2</td>\n",
       "      <td>2</td>\n",
       "      <td>1.0</td>\n",
       "      <td>2.893806e+07</td>\n",
       "      <td>0.0</td>\n",
       "      <td>0.000000</td>\n",
       "      <td>2.0</td>\n",
       "      <td>0.250000</td>\n",
       "      <td>...</td>\n",
       "      <td>8.0</td>\n",
       "      <td>1.000000</td>\n",
       "      <td>3.0</td>\n",
       "      <td>0.375000</td>\n",
       "      <td>0.0</td>\n",
       "      <td>0.00000</td>\n",
       "      <td>1.0</td>\n",
       "      <td>0.125000</td>\n",
       "      <td>4.0</td>\n",
       "      <td>0.500000</td>\n",
       "    </tr>\n",
       "    <tr>\n",
       "      <th>158500006927</th>\n",
       "      <td>143</td>\n",
       "      <td>11</td>\n",
       "      <td>55</td>\n",
       "      <td>55</td>\n",
       "      <td>2.0</td>\n",
       "      <td>2.074332e+06</td>\n",
       "      <td>15.0</td>\n",
       "      <td>0.104895</td>\n",
       "      <td>19.0</td>\n",
       "      <td>0.132867</td>\n",
       "      <td>...</td>\n",
       "      <td>143.0</td>\n",
       "      <td>1.000000</td>\n",
       "      <td>46.0</td>\n",
       "      <td>0.321678</td>\n",
       "      <td>30.0</td>\n",
       "      <td>0.20979</td>\n",
       "      <td>54.0</td>\n",
       "      <td>0.377622</td>\n",
       "      <td>13.0</td>\n",
       "      <td>0.090909</td>\n",
       "    </tr>\n",
       "    <tr>\n",
       "      <th>158500010757</th>\n",
       "      <td>117</td>\n",
       "      <td>9</td>\n",
       "      <td>47</td>\n",
       "      <td>47</td>\n",
       "      <td>1.0</td>\n",
       "      <td>2.580567e+06</td>\n",
       "      <td>15.0</td>\n",
       "      <td>0.128205</td>\n",
       "      <td>9.0</td>\n",
       "      <td>0.076923</td>\n",
       "      <td>...</td>\n",
       "      <td>105.0</td>\n",
       "      <td>0.897436</td>\n",
       "      <td>50.0</td>\n",
       "      <td>0.427350</td>\n",
       "      <td>40.0</td>\n",
       "      <td>0.34188</td>\n",
       "      <td>18.0</td>\n",
       "      <td>0.153846</td>\n",
       "      <td>9.0</td>\n",
       "      <td>0.076923</td>\n",
       "    </tr>\n",
       "  </tbody>\n",
       "</table>\n",
       "<p>3 rows × 40 columns</p>\n",
       "</div>"
      ],
      "text/plain": [
       "              msisdn_count  lac_nunique  cid_nunique  lac_cid_nunique  \\\n",
       "msisdn                                                                  \n",
       "158500002513             8            1            2                2   \n",
       "158500006927           143           11           55               55   \n",
       "158500010757           117            9           47               47   \n",
       "\n",
       "              imei_nunique  duration_mean  event_type_0_sum  \\\n",
       "msisdn                                                        \n",
       "158500002513           1.0   2.893806e+07               0.0   \n",
       "158500006927           2.0   2.074332e+06              15.0   \n",
       "158500010757           1.0   2.580567e+06              15.0   \n",
       "\n",
       "              event_type_0_share  event_type_1_sum  event_type_1_share  ...  \\\n",
       "msisdn                                                                  ...   \n",
       "158500002513            0.000000               2.0            0.250000  ...   \n",
       "158500006927            0.104895              19.0            0.132867  ...   \n",
       "158500010757            0.128205               9.0            0.076923  ...   \n",
       "\n",
       "              cell_type_OUTDOOR_sum  cell_type_OUTDOOR_share  \\\n",
       "msisdn                                                         \n",
       "158500002513                    8.0                 1.000000   \n",
       "158500006927                  143.0                 1.000000   \n",
       "158500010757                  105.0                 0.897436   \n",
       "\n",
       "              part_of_day_afternoon_sum  part_of_day_afternoon_share  \\\n",
       "msisdn                                                                 \n",
       "158500002513                        3.0                     0.375000   \n",
       "158500006927                       46.0                     0.321678   \n",
       "158500010757                       50.0                     0.427350   \n",
       "\n",
       "              part_of_day_evening_sum  part_of_day_evening_share  \\\n",
       "msisdn                                                             \n",
       "158500002513                      0.0                    0.00000   \n",
       "158500006927                     30.0                    0.20979   \n",
       "158500010757                     40.0                    0.34188   \n",
       "\n",
       "              part_of_day_morning_sum  part_of_day_morning_share  \\\n",
       "msisdn                                                             \n",
       "158500002513                      1.0                   0.125000   \n",
       "158500006927                     54.0                   0.377622   \n",
       "158500010757                     18.0                   0.153846   \n",
       "\n",
       "              part_of_day_night_sum  part_of_day_night_share  \n",
       "msisdn                                                        \n",
       "158500002513                    4.0                 0.500000  \n",
       "158500006927                   13.0                 0.090909  \n",
       "158500010757                    9.0                 0.076923  \n",
       "\n",
       "[3 rows x 40 columns]"
      ]
     },
     "execution_count": 54,
     "metadata": {},
     "output_type": "execute_result"
    }
   ],
   "source": [
    "data_descriptions = generate_data_description(data); data_descriptions.head(3)"
   ]
  },
  {
   "cell_type": "code",
   "execution_count": 55,
   "metadata": {},
   "outputs": [],
   "source": [
    "def cosine_distance(vectors_a_b):\n",
    "    \"\"\"Returns cosine similarity for two vectors. Vectors\n",
    "    should be provided as: vectors_a_b = [vector_a, vector_b].\n",
    "    \"\"\"\n",
    "    \n",
    "    vector_a = vectors_a_b[0]\n",
    "    vector_b = vectors_a_b[1]\n",
    "    \n",
    "    cosine_distance = cosine(vector_a, vector_b)\n",
    "    return cosine_distance"
   ]
  },
  {
   "cell_type": "markdown",
   "metadata": {},
   "source": [
    "<b>И, наконец, создадим X и y</b>"
   ]
  },
  {
   "cell_type": "code",
   "execution_count": 56,
   "metadata": {},
   "outputs": [],
   "source": [
    "def generate_X_y(joint, intersection_descriptions, data_descriptions):\n",
    "    \"\"\"Accumulates descriptions to obseravations data set.\n",
    "    Returns:\n",
    "    -- index (i.e., pairs: [sim-card_1, sim-card_2])\n",
    "    -- features (i.e., X)\n",
    "    -- target (i.e., y)\n",
    "    \"\"\"\n",
    "    \n",
    "    intersection_descriptions = intersection_descriptions.copy()\n",
    "    data_descriptions = data_descriptions.copy()\n",
    "\n",
    "    X = joint.copy()\n",
    "\n",
    "    # 1st sim-card features\n",
    "    intersection_descriptions_a = intersection_descriptions.copy()\n",
    "    intersection_descriptions_a.columns = [col+'_(a)' for col in intersection_descriptions_a.columns]\n",
    "    data_descriptions_a = data_descriptions.copy()\n",
    "    data_descriptions_a.columns = [col+'_(a)' for col in data_descriptions_a.columns]\n",
    "\n",
    "    X = X.merge(intersection_descriptions_a, how='left', left_on='msisdn_a', right_index=True)\n",
    "    X = X.merge(data_descriptions_a, how='left', left_on='msisdn_a', right_index=True)\n",
    "\n",
    "\n",
    "    # 2nd sim-card features\n",
    "    intersection_descriptions_b = intersection_descriptions.copy()\n",
    "    intersection_descriptions_b.columns = [col+'_(b)' for col in intersection_descriptions_b.columns]\n",
    "    data_descriptions_b = data_descriptions.copy()\n",
    "    data_descriptions_b.columns = [col+'_(b)' for col in data_descriptions_b.columns]\n",
    "\n",
    "    X = X.merge(intersection_descriptions_b, how='left', left_on='msisdn_b', right_index=True)\n",
    "    X = X.merge(data_descriptions_b, how='left', left_on='msisdn_b', right_index=True)\n",
    "\n",
    "\n",
    "    # cosine_distance between two sim-cards\n",
    "    # -- it will work better if vectors' values are normalized\n",
    "    # -- skip this step for now, cause Scaler should be learned on train-dataset\n",
    "    # -- and feature for test-dataset should be created via learned Scaler \n",
    "    cols_a = [col for col in X.columns if '_(a)' in col]\n",
    "    cols_b = [col for col in X.columns if '_(b)' in col]\n",
    "\n",
    "    assert_text = 'Wrong vectors\\' values order!'\n",
    "    for col_a, col_b in zip(cols_a, cols_b):\n",
    "        assert col_a[:-4] == col_b[:-4], assert_text\n",
    "\n",
    "    X['vector_a'] = X[cols_a].values.tolist()\n",
    "    X['vector_b'] = X[cols_b].values.tolist()\n",
    "    X['vectors_a_b'] = X[['vector_a', 'vector_b']].values.tolist()\n",
    "\n",
    "    X['cosine_distance'] = X['vectors_a_b'].apply(cosine_distance)\n",
    "    X.drop(columns=['vector_a', 'vector_b', 'vectors_a_b'], inplace=True)\n",
    "\n",
    "\n",
    "    # generating returns\n",
    "    index = X[['msisdn_a', 'msisdn_b']]\n",
    "    y = X['target']\n",
    "    X.drop(columns=['msisdn_a', 'msisdn_b', 'target'], inplace=True)\n",
    "\n",
    "\n",
    "    # sorting columns in X\n",
    "    pair_feats = ['intersections_num', 'intersections_share', 'cosine_distance']\n",
    "    for i, feat in enumerate(pair_feats):\n",
    "        old_name = feat\n",
    "        new_name = feat + '_(pair)'\n",
    "\n",
    "        X[new_name] = X[old_name]\n",
    "        X.drop(columns=[old_name], inplace=True)\n",
    "\n",
    "        pair_feats[i] = new_name\n",
    "\n",
    "    msisdn_a_feats = [col for col in X.columns if '_(a)' in col]\n",
    "    msisdn_b_feats = [col for col in X.columns if '_(b)' in col]\n",
    "\n",
    "    sorted_feats = pair_feats + msisdn_a_feats + msisdn_b_feats\n",
    "    X = X[sorted_feats]\n",
    "\n",
    "\n",
    "    # FINISH\n",
    "    return index, X, y"
   ]
  },
  {
   "cell_type": "code",
   "execution_count": 57,
   "metadata": {},
   "outputs": [
    {
     "data": {
      "text/html": [
       "<div>\n",
       "<style scoped>\n",
       "    .dataframe tbody tr th:only-of-type {\n",
       "        vertical-align: middle;\n",
       "    }\n",
       "\n",
       "    .dataframe tbody tr th {\n",
       "        vertical-align: top;\n",
       "    }\n",
       "\n",
       "    .dataframe thead th {\n",
       "        text-align: right;\n",
       "    }\n",
       "</style>\n",
       "<table border=\"1\" class=\"dataframe\">\n",
       "  <thead>\n",
       "    <tr style=\"text-align: right;\">\n",
       "      <th></th>\n",
       "      <th>msisdn_a</th>\n",
       "      <th>msisdn_b</th>\n",
       "      <th>intersections_num_(pair)</th>\n",
       "      <th>intersections_share_(pair)</th>\n",
       "      <th>cosine_distance_(pair)</th>\n",
       "      <th>intersections_unique_(a)</th>\n",
       "      <th>intersections_sum_(a)</th>\n",
       "      <th>intersections_median_(a)</th>\n",
       "      <th>intersections_mean_(a)</th>\n",
       "      <th>intersections_min_(a)</th>\n",
       "      <th>...</th>\n",
       "      <th>cell_type_OUTDOOR_share_(b)</th>\n",
       "      <th>part_of_day_afternoon_sum_(b)</th>\n",
       "      <th>part_of_day_afternoon_share_(b)</th>\n",
       "      <th>part_of_day_evening_sum_(b)</th>\n",
       "      <th>part_of_day_evening_share_(b)</th>\n",
       "      <th>part_of_day_morning_sum_(b)</th>\n",
       "      <th>part_of_day_morning_share_(b)</th>\n",
       "      <th>part_of_day_night_sum_(b)</th>\n",
       "      <th>part_of_day_night_share_(b)</th>\n",
       "      <th>target</th>\n",
       "    </tr>\n",
       "  </thead>\n",
       "  <tbody>\n",
       "    <tr>\n",
       "      <th>0</th>\n",
       "      <td>158523272017</td>\n",
       "      <td>158526782893</td>\n",
       "      <td>1</td>\n",
       "      <td>0.023256</td>\n",
       "      <td>4.826272e-08</td>\n",
       "      <td>41</td>\n",
       "      <td>43.0</td>\n",
       "      <td>1.0</td>\n",
       "      <td>1.04878</td>\n",
       "      <td>1</td>\n",
       "      <td>...</td>\n",
       "      <td>0.990291</td>\n",
       "      <td>80.0</td>\n",
       "      <td>0.388350</td>\n",
       "      <td>39.0</td>\n",
       "      <td>0.189320</td>\n",
       "      <td>82.0</td>\n",
       "      <td>0.398058</td>\n",
       "      <td>5.0</td>\n",
       "      <td>0.024272</td>\n",
       "      <td>0</td>\n",
       "    </tr>\n",
       "    <tr>\n",
       "      <th>1</th>\n",
       "      <td>158523272017</td>\n",
       "      <td>158590442241</td>\n",
       "      <td>1</td>\n",
       "      <td>0.023256</td>\n",
       "      <td>1.473110e-08</td>\n",
       "      <td>41</td>\n",
       "      <td>43.0</td>\n",
       "      <td>1.0</td>\n",
       "      <td>1.04878</td>\n",
       "      <td>1</td>\n",
       "      <td>...</td>\n",
       "      <td>1.000000</td>\n",
       "      <td>64.0</td>\n",
       "      <td>0.444444</td>\n",
       "      <td>44.0</td>\n",
       "      <td>0.305556</td>\n",
       "      <td>36.0</td>\n",
       "      <td>0.250000</td>\n",
       "      <td>0.0</td>\n",
       "      <td>0.000000</td>\n",
       "      <td>0</td>\n",
       "    </tr>\n",
       "    <tr>\n",
       "      <th>2</th>\n",
       "      <td>158523272017</td>\n",
       "      <td>158522023493</td>\n",
       "      <td>2</td>\n",
       "      <td>0.046512</td>\n",
       "      <td>3.787410e-09</td>\n",
       "      <td>41</td>\n",
       "      <td>43.0</td>\n",
       "      <td>1.0</td>\n",
       "      <td>1.04878</td>\n",
       "      <td>1</td>\n",
       "      <td>...</td>\n",
       "      <td>1.000000</td>\n",
       "      <td>30.0</td>\n",
       "      <td>0.357143</td>\n",
       "      <td>17.0</td>\n",
       "      <td>0.202381</td>\n",
       "      <td>26.0</td>\n",
       "      <td>0.309524</td>\n",
       "      <td>11.0</td>\n",
       "      <td>0.130952</td>\n",
       "      <td>0</td>\n",
       "    </tr>\n",
       "  </tbody>\n",
       "</table>\n",
       "<p>3 rows × 98 columns</p>\n",
       "</div>"
      ],
      "text/plain": [
       "       msisdn_a      msisdn_b  intersections_num_(pair)  \\\n",
       "0  158523272017  158526782893                         1   \n",
       "1  158523272017  158590442241                         1   \n",
       "2  158523272017  158522023493                         2   \n",
       "\n",
       "   intersections_share_(pair)  cosine_distance_(pair)  \\\n",
       "0                    0.023256            4.826272e-08   \n",
       "1                    0.023256            1.473110e-08   \n",
       "2                    0.046512            3.787410e-09   \n",
       "\n",
       "   intersections_unique_(a)  intersections_sum_(a)  intersections_median_(a)  \\\n",
       "0                        41                   43.0                       1.0   \n",
       "1                        41                   43.0                       1.0   \n",
       "2                        41                   43.0                       1.0   \n",
       "\n",
       "   intersections_mean_(a)  intersections_min_(a)  ...  \\\n",
       "0                 1.04878                      1  ...   \n",
       "1                 1.04878                      1  ...   \n",
       "2                 1.04878                      1  ...   \n",
       "\n",
       "   cell_type_OUTDOOR_share_(b)  part_of_day_afternoon_sum_(b)  \\\n",
       "0                     0.990291                           80.0   \n",
       "1                     1.000000                           64.0   \n",
       "2                     1.000000                           30.0   \n",
       "\n",
       "   part_of_day_afternoon_share_(b)  part_of_day_evening_sum_(b)  \\\n",
       "0                         0.388350                         39.0   \n",
       "1                         0.444444                         44.0   \n",
       "2                         0.357143                         17.0   \n",
       "\n",
       "   part_of_day_evening_share_(b)  part_of_day_morning_sum_(b)  \\\n",
       "0                       0.189320                         82.0   \n",
       "1                       0.305556                         36.0   \n",
       "2                       0.202381                         26.0   \n",
       "\n",
       "   part_of_day_morning_share_(b)  part_of_day_night_sum_(b)  \\\n",
       "0                       0.398058                        5.0   \n",
       "1                       0.250000                        0.0   \n",
       "2                       0.309524                       11.0   \n",
       "\n",
       "   part_of_day_night_share_(b)  target  \n",
       "0                     0.024272       0  \n",
       "1                     0.000000       0  \n",
       "2                     0.130952       0  \n",
       "\n",
       "[3 rows x 98 columns]"
      ]
     },
     "execution_count": 57,
     "metadata": {},
     "output_type": "execute_result"
    }
   ],
   "source": [
    "index, X, y = generate_X_y(joint_train, intersections_descriptions_train, data_descriptions)\n",
    "pd.concat([index, X, y], axis=1).head(3)"
   ]
  },
  {
   "cell_type": "markdown",
   "metadata": {},
   "source": [
    "Зададим ф-ии для обучения Gradient Boosting:\n",
    "* с тестовой выборкой (для оценки ошибки)\n",
    "* без теста (для финального обучения)"
   ]
  },
  {
   "cell_type": "code",
   "execution_count": 58,
   "metadata": {},
   "outputs": [],
   "source": [
    "def lgb_model(lgb_params, X_train, y_train, X_test, y_test):\n",
    "    \"\"\"Returns dict with results for LGBoost.\"\"\"\n",
    "\n",
    "    out = {}\n",
    "\n",
    "    lgb_train = lgb.Dataset(X_train, label=y_train, free_raw_data=False)\n",
    "    lgb_test = lgb.Dataset(X_test, label=y_test, free_raw_data=False)\n",
    "\n",
    "    lgb_params['seed'] = 17\n",
    "    lgb_params['bagging_seed'] = 17\n",
    "    lgb_params['drop_seed'] = 17\n",
    "\n",
    "    try:\n",
    "        verbose_eval = lgb_params['verbose_eval']\n",
    "    except:\n",
    "        verbose_eval = 100\n",
    "\n",
    "    out['model'] = lgb.train(lgb_params,\n",
    "                             lgb_train,\n",
    "                             valid_sets=[lgb_train, lgb_test],\n",
    "                             valid_names=['train', 'test'],\n",
    "                             verbose_eval=verbose_eval)\n",
    "    out['pred'] = out['model'].predict(X_test)\n",
    "    out['loss'] = log_loss(y_test, out['pred'])\n",
    "    return out"
   ]
  },
  {
   "cell_type": "code",
   "execution_count": 59,
   "metadata": {},
   "outputs": [],
   "source": [
    "def lgb_model_wo_test(lgb_params, X_train, y_train):\n",
    "    \"\"\"Returns model learnet on X- , y- _train.\"\"\"\n",
    "    \n",
    "    \n",
    "    lgb_train = lgb.Dataset(X_train, label=y_train, free_raw_data=False)\n",
    "    \n",
    "    lgb_params['seed'] = 17\n",
    "    lgb_params['bagging_seed'] = 17\n",
    "    lgb_params['drop_seed'] = 17\n",
    "\n",
    "    try:\n",
    "        verbose_eval = lgb_params['verbose_eval']\n",
    "    except:\n",
    "        verbose_eval = 100\n",
    "\n",
    "    model = lgb.train(lgb_params,\n",
    "                      lgb_train,\n",
    "                      valid_sets=[lgb_train],\n",
    "                      valid_names=['train'],\n",
    "                      verbose_eval=verbose_eval)\n",
    "    \n",
    "    return model"
   ]
  },
  {
   "cell_type": "markdown",
   "metadata": {},
   "source": [
    "А также ф-цию для кросс-валидации Gradient Boosting'а"
   ]
  },
  {
   "cell_type": "code",
   "execution_count": 60,
   "metadata": {},
   "outputs": [],
   "source": [
    "def crossval_lgb(X, y, lgb_params, n_splits=3):\n",
    "    \"\"\"Cross-validation results LGB\"\"\"\n",
    "    \n",
    "    crossval_results = {}\n",
    "    \n",
    "    cv = StratifiedKFold(n_splits=n_splits, shuffle=True, random_state=17)\n",
    "\n",
    "    for n_fold, (train_idx, test_idx) in enumerate(cv.split(X, y)):\n",
    "        if lgb_params['verbose_eval'] > 0:\n",
    "            print('\\n', 'Fold #{}'.format(n_fold + 1))\n",
    "\n",
    "        X_train, y_train = X.iloc[train_idx, :], y.iloc[train_idx]\n",
    "        X_test, y_test = X.iloc[test_idx, :], y.iloc[test_idx]\n",
    "\n",
    "        # BOOSTING:\n",
    "        crossval_results[n_fold] = lgb_model(lgb_params, X_train, y_train, X_test, y_test)\n",
    "\n",
    "    return crossval_results"
   ]
  },
  {
   "cell_type": "markdown",
   "metadata": {},
   "source": [
    "Также зададим ф-цию для кросс-валидации моделей библиотеки sklearn"
   ]
  },
  {
   "cell_type": "code",
   "execution_count": 61,
   "metadata": {},
   "outputs": [],
   "source": [
    "def crossval_sklearn(X, y, model, n_splits=3, std_scaler=True):\n",
    "    \"\"\"Cross-validation results for (any) sklearn model.\"\"\"\n",
    "    \n",
    "    crossval_results = {}\n",
    "    \n",
    "    cv = StratifiedKFold(n_splits=n_splits, shuffle=True, random_state=17)\n",
    "\n",
    "    for n_fold, (train_idx, test_idx) in enumerate(cv.split(X, y)):\n",
    "        \n",
    "        out = {}\n",
    "\n",
    "        X_train, y_train = X.iloc[train_idx, :], y.iloc[train_idx]\n",
    "        X_test, y_test = X.iloc[test_idx, :], y.iloc[test_idx]\n",
    "        \n",
    "        if std_scaler:\n",
    "            \n",
    "            scaler = StandardScaler()\n",
    "            scaler.fit(X_train)\n",
    "            \n",
    "            X_train = scaler.transform(X_train)\n",
    "            X_test = scaler.transform(X_test)\n",
    "\n",
    "        # MODEL & results storing:\n",
    "        # -- inasmuch decision to try the sklearn models came late, \n",
    "        #    a function with raw model (like `lgb_model()`) was skipped\n",
    "        out['model'] = model.fit(X_train, y_train)\n",
    "        out['pred'] = out['model'].predict(X_test)\n",
    "        out['loss'] = log_loss(y_test, out['pred'])\n",
    "        \n",
    "        crossval_results[n_fold] = out\n",
    "\n",
    "    return crossval_results"
   ]
  },
  {
   "cell_type": "markdown",
   "metadata": {},
   "source": [
    "И ф-цию, которая выводит на экран результаты кросс-валидации"
   ]
  },
  {
   "cell_type": "code",
   "execution_count": 62,
   "metadata": {},
   "outputs": [],
   "source": [
    "def print_crossval_losses(crossval_results, alpha=0.05):\n",
    "    \"\"\"Prints crossval summary\"\"\"\n",
    "\n",
    "    folds = len(crossval_results)\n",
    "    \n",
    "    losses = []\n",
    "    for i in range(folds):\n",
    "        fold_loss = crossval_results[i]['loss']\n",
    "        print('Fold #{}:'.format(i+1), fold_loss)\n",
    "        losses.append(fold_loss)\n",
    "    losses = np.array(losses)\n",
    "    \n",
    "    print('-'*70)\n",
    "    loss_mean = losses.mean()\n",
    "    loss_mean_std = losses.std(ddof=1) / math.sqrt(len(losses))\n",
    "    conf_int = _tconfint_generic(mean=loss_mean, std_mean=loss_mean_std, dof=len(losses)-1, alpha=alpha, alternative='two-sided')\n",
    "    print('Mean:', loss_mean, '| Conf. Int.:', conf_int)\n",
    "    \n",
    "    print()\n",
    "    print('\\'Avg. Accuracy\\':', np.exp(-loss_mean))"
   ]
  },
  {
   "cell_type": "markdown",
   "metadata": {},
   "source": [
    "Ниже результаты работы логистической регрессии: подобрать такие гипер-параметры, чтобы модель показывала приемлемые результаты не удалось"
   ]
  },
  {
   "cell_type": "code",
   "execution_count": 63,
   "metadata": {},
   "outputs": [
    {
     "name": "stdout",
     "output_type": "stream",
     "text": [
      "Fold #1: 0.5644469294109927\n",
      "Fold #2: 0.5512222001523318\n",
      "Fold #3: 0.5514368505417991\n",
      "----------------------------------------------------------------------\n",
      "Mean: 0.5557019933683746 | Conf. Int.: (0.5368868928651893, 0.5745170938715598)\n",
      "\n",
      "'Avg. Accuracy': 0.573669407692896\n"
     ]
    }
   ],
   "source": [
    "# logreg = SGDClassifier(loss='log', max_iter=, alpha=0.00000001, n_jobs=-1)\n",
    "logreg =  LogisticRegression(penalty='l1', tol=100000, solver='liblinear', random_state=17, max_iter=10000)\n",
    "\n",
    "crossval_results_logreg = crossval_sklearn(X.fillna(X.mean()), y, logreg)\n",
    "print_crossval_losses(crossval_results_logreg)"
   ]
  },
  {
   "cell_type": "markdown",
   "metadata": {},
   "source": [
    "Ниже результаты работы Gradient Boosting"
   ]
  },
  {
   "cell_type": "code",
   "execution_count": 64,
   "metadata": {},
   "outputs": [
    {
     "name": "stdout",
     "output_type": "stream",
     "text": [
      "Fold #1: 0.0417412563688056\n",
      "Fold #2: 0.04314225211241491\n",
      "Fold #3: 0.04586770227568679\n",
      "----------------------------------------------------------------------\n",
      "Mean: 0.0435837369189691 | Conf. Int.: (0.03837114781868511, 0.04879632601925309)\n",
      "\n",
      "'Avg. Accuracy': 0.95735238499537\n"
     ]
    }
   ],
   "source": [
    "lgb_params ={\n",
    "    'task': 'train',\n",
    "    'objective': 'binary',\n",
    "    'metric': 'binary_logloss',\n",
    "    \n",
    "    'feature_fraction': 0.7, #1\n",
    "    'subsample': 1, # 1\n",
    "\n",
    "    'learning_rate': 0.001, # 0.1\n",
    "    'max_depth': 3, # -1\n",
    "    'num_leaves': 32, # 31\n",
    "\n",
    "    'reg_alpha': 2, # 0\n",
    "    'reg_lambda': 2, # 0\n",
    "\n",
    "    # 'min_split_gain': 10, #0\n",
    "    'min_data_in_leaf': 3, #20\n",
    "\n",
    "    'verbose_eval': -1,\n",
    "    'verbose': -1,\n",
    "\n",
    "    'num_iterations': 8634,\n",
    "    # 'early_stopping_round': 1000\n",
    "    }\n",
    "\n",
    "crossval_results = crossval_lgb(X, y, lgb_params, n_splits=3)\n",
    "print_crossval_losses(crossval_results)"
   ]
  },
  {
   "cell_type": "markdown",
   "metadata": {},
   "source": [
    "Несмотря на то, что accuracy ниже, чем доля преобладающего класса, модель, все равно, может на устроить, т.к., напомним, что основываясь на ее результатах, мы будем выбирать наиболее подходящую пару"
   ]
  },
  {
   "cell_type": "markdown",
   "metadata": {},
   "source": [
    "Попробуем отобрать признаки по `feature_importance`"
   ]
  },
  {
   "cell_type": "code",
   "execution_count": 65,
   "metadata": {},
   "outputs": [],
   "source": [
    "def extract_feature_importance(crossval_results, top_n=None):\n",
    "    \"\"\"Returns:\n",
    "        -- feats_idx: features idx sorted by feature_importance\n",
    "           (1st - the most important, last - the least important)\n",
    "        -- fi_mean: average (between folds) feature_importance\n",
    "    \"\"\"\n",
    "\n",
    "\n",
    "    fi = []\n",
    "    for n_split in crossval_results:\n",
    "        fi_fold = crossval_results[n_split]['model'].feature_importance()\n",
    "        fi.append(fi_fold)\n",
    "\n",
    "    fi = np.array(fi)\n",
    "    fi_mean = fi.mean(axis=0)\n",
    "    feats_idx = np.flip(fi_mean.argsort())\n",
    "    fi_mean = fi_mean[feats_idx]\n",
    "\n",
    "    if top_n:\n",
    "        feats_idx = feats_idx[0:top_n]\n",
    "        fi_mean = fi_mean[0:top_n]\n",
    "\n",
    "    feature_importance = {'idx': feats_idx,\n",
    "                          'mean': fi_mean}\n",
    "\n",
    "    return feature_importance"
   ]
  },
  {
   "cell_type": "code",
   "execution_count": 66,
   "metadata": {},
   "outputs": [],
   "source": [
    "def feature_importance_summary(feature_importance, X):\n",
    "    \"\"\"Generates summary table with features and its importance.\"\"\"\n",
    "\n",
    "    \n",
    "    feats = X.columns\n",
    "\n",
    "    fi_summary = []\n",
    "    for idx, fi_mean in zip(feature_importance['idx'], feature_importance['mean']):\n",
    "        row = [feats[idx], fi_mean]\n",
    "        fi_summary.append(row)\n",
    "        \n",
    "    columns = ['feature', 'importance']\n",
    "    fi_summary = pd.DataFrame(data=fi_summary,\n",
    "                              columns=columns)\n",
    "    return fi_summary"
   ]
  },
  {
   "cell_type": "code",
   "execution_count": 67,
   "metadata": {},
   "outputs": [
    {
     "data": {
      "text/html": [
       "<div>\n",
       "<style scoped>\n",
       "    .dataframe tbody tr th:only-of-type {\n",
       "        vertical-align: middle;\n",
       "    }\n",
       "\n",
       "    .dataframe tbody tr th {\n",
       "        vertical-align: top;\n",
       "    }\n",
       "\n",
       "    .dataframe thead th {\n",
       "        text-align: right;\n",
       "    }\n",
       "</style>\n",
       "<table border=\"1\" class=\"dataframe\">\n",
       "  <thead>\n",
       "    <tr style=\"text-align: right;\">\n",
       "      <th></th>\n",
       "      <th>feature</th>\n",
       "      <th>importance</th>\n",
       "    </tr>\n",
       "  </thead>\n",
       "  <tbody>\n",
       "    <tr>\n",
       "      <th>0</th>\n",
       "      <td>intersections_share_(pair)</td>\n",
       "      <td>5576.666667</td>\n",
       "    </tr>\n",
       "    <tr>\n",
       "      <th>1</th>\n",
       "      <td>intersections_num_(pair)</td>\n",
       "      <td>4999.000000</td>\n",
       "    </tr>\n",
       "    <tr>\n",
       "      <th>2</th>\n",
       "      <td>intersections_mean_(a)</td>\n",
       "      <td>2048.666667</td>\n",
       "    </tr>\n",
       "    <tr>\n",
       "      <th>3</th>\n",
       "      <td>cosine_distance_(pair)</td>\n",
       "      <td>1740.333333</td>\n",
       "    </tr>\n",
       "    <tr>\n",
       "      <th>4</th>\n",
       "      <td>part_of_day_evening_share_(b)</td>\n",
       "      <td>1719.666667</td>\n",
       "    </tr>\n",
       "    <tr>\n",
       "      <th>5</th>\n",
       "      <td>part_of_day_morning_share_(b)</td>\n",
       "      <td>1683.000000</td>\n",
       "    </tr>\n",
       "    <tr>\n",
       "      <th>6</th>\n",
       "      <td>part_of_day_night_share_(b)</td>\n",
       "      <td>1536.000000</td>\n",
       "    </tr>\n",
       "    <tr>\n",
       "      <th>7</th>\n",
       "      <td>cid_nunique_(b)</td>\n",
       "      <td>1502.000000</td>\n",
       "    </tr>\n",
       "    <tr>\n",
       "      <th>8</th>\n",
       "      <td>event_type_2_share_(b)</td>\n",
       "      <td>1492.666667</td>\n",
       "    </tr>\n",
       "    <tr>\n",
       "      <th>9</th>\n",
       "      <td>intersections_mean_(b)</td>\n",
       "      <td>1340.666667</td>\n",
       "    </tr>\n",
       "  </tbody>\n",
       "</table>\n",
       "</div>"
      ],
      "text/plain": [
       "                         feature   importance\n",
       "0     intersections_share_(pair)  5576.666667\n",
       "1       intersections_num_(pair)  4999.000000\n",
       "2         intersections_mean_(a)  2048.666667\n",
       "3         cosine_distance_(pair)  1740.333333\n",
       "4  part_of_day_evening_share_(b)  1719.666667\n",
       "5  part_of_day_morning_share_(b)  1683.000000\n",
       "6    part_of_day_night_share_(b)  1536.000000\n",
       "7                cid_nunique_(b)  1502.000000\n",
       "8         event_type_2_share_(b)  1492.666667\n",
       "9         intersections_mean_(b)  1340.666667"
      ]
     },
     "execution_count": 67,
     "metadata": {},
     "output_type": "execute_result"
    }
   ],
   "source": [
    "feature_importance = extract_feature_importance(crossval_results)\n",
    "top30_feats = feature_importance['idx'][0:30]\n",
    "X_top30_feats = X.iloc[:, top30_feats]\n",
    "\n",
    "feature_importance_summary(feature_importance, X).head(10)"
   ]
  },
  {
   "cell_type": "markdown",
   "metadata": {},
   "source": [
    "* Количество и \"нормализованное\" количество пересечений пар оказалось наиболее значимыми признаками (что, в целом, можно было предположить).\n",
    "* Интересно, что на следующем месте идёт косинусное расстояние, что также <b>сигнализирует о том, что, возможно, кластеризация могла бы хорошо помочь в решении задачи</b>"
   ]
  },
  {
   "cell_type": "markdown",
   "metadata": {},
   "source": [
    "Попробуем обучить модель на ТОП30 признаках"
   ]
  },
  {
   "cell_type": "code",
   "execution_count": 68,
   "metadata": {},
   "outputs": [
    {
     "name": "stdout",
     "output_type": "stream",
     "text": [
      "Fold #1: 0.040178314689277975\n",
      "Fold #2: 0.04175041500543897\n",
      "Fold #3: 0.045273459170099284\n",
      "----------------------------------------------------------------------\n",
      "Mean: 0.042400729621605404 | Conf. Int.: (0.03591941193536973, 0.04888204730784108)\n",
      "\n",
      "'Avg. Accuracy': 0.9584856100275464\n"
     ]
    }
   ],
   "source": [
    "lgb_params_top30_feats ={\n",
    "    \n",
    "    'task': 'train',\n",
    "    'objective': 'binary',\n",
    "    'metric': 'binary_logloss',\n",
    "    \n",
    "    'feature_fraction': 0.7, #1\n",
    "    'subsample': 1, # 1\n",
    "\n",
    "    'learning_rate': 0.001, # 0.1\n",
    "    'max_depth': 3, # -1\n",
    "    'num_leaves': 32, # 31\n",
    "\n",
    "    'reg_alpha': 2, # 0\n",
    "    'reg_lambda': 2, # 0\n",
    "\n",
    "    # 'min_split_gain': 10, #0\n",
    "    'min_data_in_leaf': 3, #20\n",
    "\n",
    "    'verbose_eval': -1,\n",
    "    'verbose': -1,\n",
    "\n",
    "    'num_iterations': 10813,\n",
    "    # 'early_stopping_round': 1500\n",
    "    }\n",
    "\n",
    "crossval_results = crossval_lgb(X_top30_feats, y, lgb_params_top30_feats, n_splits=3)\n",
    "print_crossval_losses(crossval_results)"
   ]
  },
  {
   "cell_type": "markdown",
   "metadata": {},
   "source": [
    "Различия в результатах получились незначительными, поэтому остановимся на модели, работающей на всём множестве созданных признаков"
   ]
  },
  {
   "cell_type": "markdown",
   "metadata": {},
   "source": [
    "Теперь посмотрим на <b>тестовую выборку</b>\n",
    "\n",
    "Результаты работы наивного алгоритма:"
   ]
  },
  {
   "cell_type": "code",
   "execution_count": 69,
   "metadata": {},
   "outputs": [
    {
     "name": "stdout",
     "output_type": "stream",
     "text": [
      "accuracy: 0.25\n",
      "Conf. Int.:\n",
      "- Normal: (0.15511365160887547, 0.34488634839112453)\n",
      "- Wilson: (0.16806231857542375, 0.3548467461923397)\n",
      "\n",
      "accuracy in intersections: 0.7125\n",
      "Conf. Int.:\n",
      "- Normal: (0.6133222031966351, 0.8116777968033649)\n",
      "- Wilson: (0.6053965378701002, 0.8001307570773007)\n"
     ]
    }
   ],
   "source": [
    "msisdns = np.array(pairs_unseen)[:, 0]\n",
    "\n",
    "true = np.array(pairs_unseen)[:, 1]\n",
    "preds_top_pair = predict_top_pair(msisdns, intersections_count_facts)\n",
    "\n",
    "_ = accuracy_for_preds(true, preds_top_pair); print()\n",
    "_ = accuracy_for_intersections(true, msisdns, intersections_count_facts)"
   ]
  },
  {
   "cell_type": "markdown",
   "metadata": {},
   "source": [
    "Создадим `X` и `y` для `unseen` данных"
   ]
  },
  {
   "cell_type": "code",
   "execution_count": 70,
   "metadata": {},
   "outputs": [
    {
     "name": "stdout",
     "output_type": "stream",
     "text": [
      "Total observations #: 3439\n",
      "Positive observations #: 57\n",
      "\n"
     ]
    },
    {
     "data": {
      "text/html": [
       "<div>\n",
       "<style scoped>\n",
       "    .dataframe tbody tr th:only-of-type {\n",
       "        vertical-align: middle;\n",
       "    }\n",
       "\n",
       "    .dataframe tbody tr th {\n",
       "        vertical-align: top;\n",
       "    }\n",
       "\n",
       "    .dataframe thead th {\n",
       "        text-align: right;\n",
       "    }\n",
       "</style>\n",
       "<table border=\"1\" class=\"dataframe\">\n",
       "  <thead>\n",
       "    <tr style=\"text-align: right;\">\n",
       "      <th></th>\n",
       "      <th>msisdn_a</th>\n",
       "      <th>msisdn_b</th>\n",
       "      <th>target</th>\n",
       "    </tr>\n",
       "  </thead>\n",
       "  <tbody>\n",
       "    <tr>\n",
       "      <th>0</th>\n",
       "      <td>158530880373</td>\n",
       "      <td>158524216845</td>\n",
       "      <td>0</td>\n",
       "    </tr>\n",
       "    <tr>\n",
       "      <th>1</th>\n",
       "      <td>158530880373</td>\n",
       "      <td>158527193343</td>\n",
       "      <td>0</td>\n",
       "    </tr>\n",
       "    <tr>\n",
       "      <th>2</th>\n",
       "      <td>158530880373</td>\n",
       "      <td>158523400283</td>\n",
       "      <td>0</td>\n",
       "    </tr>\n",
       "  </tbody>\n",
       "</table>\n",
       "</div>"
      ],
      "text/plain": [
       "       msisdn_a      msisdn_b  target\n",
       "0  158530880373  158524216845       0\n",
       "1  158530880373  158527193343       0\n",
       "2  158530880373  158523400283       0"
      ]
     },
     "execution_count": 70,
     "metadata": {},
     "output_type": "execute_result"
    }
   ],
   "source": [
    "markup_unseen = generate_markup(pairs_unseen, intersections_count_facts); print()\n",
    "markup_unseen.head(3)"
   ]
  },
  {
   "cell_type": "code",
   "execution_count": 71,
   "metadata": {},
   "outputs": [
    {
     "name": "stdout",
     "output_type": "stream",
     "text": [
      "Total observations #: 3439\n",
      "Min value: 1 | Max value: 29\n",
      "\n"
     ]
    },
    {
     "data": {
      "text/html": [
       "<div>\n",
       "<style scoped>\n",
       "    .dataframe tbody tr th:only-of-type {\n",
       "        vertical-align: middle;\n",
       "    }\n",
       "\n",
       "    .dataframe tbody tr th {\n",
       "        vertical-align: top;\n",
       "    }\n",
       "\n",
       "    .dataframe thead th {\n",
       "        text-align: right;\n",
       "    }\n",
       "</style>\n",
       "<table border=\"1\" class=\"dataframe\">\n",
       "  <thead>\n",
       "    <tr style=\"text-align: right;\">\n",
       "      <th></th>\n",
       "      <th>msisdn_a</th>\n",
       "      <th>msisdn_b</th>\n",
       "      <th>intersections_num</th>\n",
       "      <th>intersections_share</th>\n",
       "    </tr>\n",
       "  </thead>\n",
       "  <tbody>\n",
       "    <tr>\n",
       "      <th>0</th>\n",
       "      <td>158530880373</td>\n",
       "      <td>158524216845</td>\n",
       "      <td>1</td>\n",
       "      <td>0.008065</td>\n",
       "    </tr>\n",
       "    <tr>\n",
       "      <th>1</th>\n",
       "      <td>158530880373</td>\n",
       "      <td>158527193343</td>\n",
       "      <td>10</td>\n",
       "      <td>0.080645</td>\n",
       "    </tr>\n",
       "    <tr>\n",
       "      <th>2</th>\n",
       "      <td>158530880373</td>\n",
       "      <td>158523400283</td>\n",
       "      <td>2</td>\n",
       "      <td>0.016129</td>\n",
       "    </tr>\n",
       "  </tbody>\n",
       "</table>\n",
       "</div>"
      ],
      "text/plain": [
       "       msisdn_a      msisdn_b  intersections_num  intersections_share\n",
       "0  158530880373  158524216845                  1             0.008065\n",
       "1  158530880373  158527193343                 10             0.080645\n",
       "2  158530880373  158523400283                  2             0.016129"
      ]
     },
     "execution_count": 71,
     "metadata": {},
     "output_type": "execute_result"
    }
   ],
   "source": [
    "intersections_num_feature_unseen = generate_intersections_num_feature(pairs_unseen, intersections_count_facts); print()\n",
    "intersections_num_feature_unseen.head(3)"
   ]
  },
  {
   "cell_type": "code",
   "execution_count": 72,
   "metadata": {},
   "outputs": [
    {
     "data": {
      "text/html": [
       "<div>\n",
       "<style scoped>\n",
       "    .dataframe tbody tr th:only-of-type {\n",
       "        vertical-align: middle;\n",
       "    }\n",
       "\n",
       "    .dataframe tbody tr th {\n",
       "        vertical-align: top;\n",
       "    }\n",
       "\n",
       "    .dataframe thead th {\n",
       "        text-align: right;\n",
       "    }\n",
       "</style>\n",
       "<table border=\"1\" class=\"dataframe\">\n",
       "  <thead>\n",
       "    <tr style=\"text-align: right;\">\n",
       "      <th></th>\n",
       "      <th>msisdn_a</th>\n",
       "      <th>msisdn_b</th>\n",
       "      <th>intersections_num</th>\n",
       "      <th>intersections_share</th>\n",
       "      <th>target</th>\n",
       "    </tr>\n",
       "  </thead>\n",
       "  <tbody>\n",
       "    <tr>\n",
       "      <th>0</th>\n",
       "      <td>158530880373</td>\n",
       "      <td>158524216845</td>\n",
       "      <td>1</td>\n",
       "      <td>0.008065</td>\n",
       "      <td>0</td>\n",
       "    </tr>\n",
       "    <tr>\n",
       "      <th>1</th>\n",
       "      <td>158530880373</td>\n",
       "      <td>158527193343</td>\n",
       "      <td>10</td>\n",
       "      <td>0.080645</td>\n",
       "      <td>0</td>\n",
       "    </tr>\n",
       "    <tr>\n",
       "      <th>2</th>\n",
       "      <td>158530880373</td>\n",
       "      <td>158523400283</td>\n",
       "      <td>2</td>\n",
       "      <td>0.016129</td>\n",
       "      <td>0</td>\n",
       "    </tr>\n",
       "  </tbody>\n",
       "</table>\n",
       "</div>"
      ],
      "text/plain": [
       "       msisdn_a      msisdn_b  intersections_num  intersections_share  target\n",
       "0  158530880373  158524216845                  1             0.008065       0\n",
       "1  158530880373  158527193343                 10             0.080645       0\n",
       "2  158530880373  158523400283                  2             0.016129       0"
      ]
     },
     "execution_count": 72,
     "metadata": {},
     "output_type": "execute_result"
    }
   ],
   "source": [
    "joint_unseen = intersections_num_feature_unseen.merge(markup_unseen,\n",
    "                                                      how='left',\n",
    "                                                      on=['msisdn_a', 'msisdn_b'])\n",
    "joint_unseen.head(3)"
   ]
  },
  {
   "cell_type": "markdown",
   "metadata": {},
   "source": [
    "Дособираем словарь пересечений..."
   ]
  },
  {
   "cell_type": "code",
   "execution_count": 73,
   "metadata": {},
   "outputs": [],
   "source": [
    "msisdns_group_unseen = set(joint_unseen.msisdn_a.tolist() + joint_unseen.msisdn_b.tolist())\n",
    "msisdns_group_unseen = list(msisdns_group_unseen)\n",
    "\n",
    "msisdns_absent = [msisdn for msisdn in msisdns_group_unseen if msisdn not in intersections_count_train]\n",
    "# 'missing' is more appropriate than 'absent' here, but 'missing' looks very similar to 'msisdn'."
   ]
  },
  {
   "cell_type": "code",
   "execution_count": 74,
   "metadata": {},
   "outputs": [],
   "source": [
    "if GENERATE:\n",
    "    intersections_raw_absent = create_intersections_raw_batch(data, msisdns_absent, batch_size=30, name_prefix='absent')\n",
    "    \n",
    "    with open('intersections_raw_absent.pkl', 'wb') as file:\n",
    "        pickle.dump(intersections_raw_absent, file)\n",
    "\n",
    "else:\n",
    "    with open('intersections_raw_absent.pkl', 'rb') as file:\n",
    "        intersections_raw_absent = pickle.load(file)"
   ]
  },
  {
   "cell_type": "markdown",
   "metadata": {},
   "source": [
    "...и обновим существующий"
   ]
  },
  {
   "cell_type": "code",
   "execution_count": 75,
   "metadata": {},
   "outputs": [],
   "source": [
    "intersections_count_absent = intersections_raw_processing(intersections_raw_absent)\n",
    "\n",
    "intersections_count_train_tmp = intersections_count_train.copy()\n",
    "intersections_count_train_tmp.update(intersections_count_absent)\n",
    "\n",
    "intersections_count_unseen = intersections_count_train_tmp.copy()\n",
    "del intersections_count_train_tmp"
   ]
  },
  {
   "cell_type": "code",
   "execution_count": 76,
   "metadata": {},
   "outputs": [
    {
     "data": {
      "text/html": [
       "<div>\n",
       "<style scoped>\n",
       "    .dataframe tbody tr th:only-of-type {\n",
       "        vertical-align: middle;\n",
       "    }\n",
       "\n",
       "    .dataframe tbody tr th {\n",
       "        vertical-align: top;\n",
       "    }\n",
       "\n",
       "    .dataframe thead th {\n",
       "        text-align: right;\n",
       "    }\n",
       "</style>\n",
       "<table border=\"1\" class=\"dataframe\">\n",
       "  <thead>\n",
       "    <tr style=\"text-align: right;\">\n",
       "      <th></th>\n",
       "      <th>intersections_unique</th>\n",
       "      <th>intersections_sum</th>\n",
       "      <th>intersections_median</th>\n",
       "      <th>intersections_mean</th>\n",
       "      <th>intersections_min</th>\n",
       "      <th>intersections_max</th>\n",
       "    </tr>\n",
       "  </thead>\n",
       "  <tbody>\n",
       "    <tr>\n",
       "      <th>158534066181</th>\n",
       "      <td>83</td>\n",
       "      <td>115.0</td>\n",
       "      <td>1.0</td>\n",
       "      <td>1.385542</td>\n",
       "      <td>1</td>\n",
       "      <td>4</td>\n",
       "    </tr>\n",
       "    <tr>\n",
       "      <th>158535065609</th>\n",
       "      <td>78</td>\n",
       "      <td>91.0</td>\n",
       "      <td>1.0</td>\n",
       "      <td>1.166667</td>\n",
       "      <td>1</td>\n",
       "      <td>6</td>\n",
       "    </tr>\n",
       "    <tr>\n",
       "      <th>158530568203</th>\n",
       "      <td>104</td>\n",
       "      <td>137.0</td>\n",
       "      <td>1.0</td>\n",
       "      <td>1.317308</td>\n",
       "      <td>1</td>\n",
       "      <td>5</td>\n",
       "    </tr>\n",
       "  </tbody>\n",
       "</table>\n",
       "</div>"
      ],
      "text/plain": [
       "              intersections_unique  intersections_sum  intersections_median  \\\n",
       "158534066181                    83              115.0                   1.0   \n",
       "158535065609                    78               91.0                   1.0   \n",
       "158530568203                   104              137.0                   1.0   \n",
       "\n",
       "              intersections_mean  intersections_min  intersections_max  \n",
       "158534066181            1.385542                  1                  4  \n",
       "158535065609            1.166667                  1                  6  \n",
       "158530568203            1.317308                  1                  5  "
      ]
     },
     "execution_count": 76,
     "metadata": {},
     "output_type": "execute_result"
    }
   ],
   "source": [
    "intersections_descriptions_unseen = generate_intersections_description_for_group(msisdns_group_unseen, intersections_count_unseen)\n",
    "intersections_descriptions_unseen.head(3)"
   ]
  },
  {
   "cell_type": "code",
   "execution_count": 77,
   "metadata": {},
   "outputs": [
    {
     "data": {
      "text/html": [
       "<div>\n",
       "<style scoped>\n",
       "    .dataframe tbody tr th:only-of-type {\n",
       "        vertical-align: middle;\n",
       "    }\n",
       "\n",
       "    .dataframe tbody tr th {\n",
       "        vertical-align: top;\n",
       "    }\n",
       "\n",
       "    .dataframe thead th {\n",
       "        text-align: right;\n",
       "    }\n",
       "</style>\n",
       "<table border=\"1\" class=\"dataframe\">\n",
       "  <thead>\n",
       "    <tr style=\"text-align: right;\">\n",
       "      <th></th>\n",
       "      <th>msisdn_a</th>\n",
       "      <th>msisdn_b</th>\n",
       "      <th>intersections_num_(pair)</th>\n",
       "      <th>intersections_share_(pair)</th>\n",
       "      <th>cosine_distance_(pair)</th>\n",
       "      <th>intersections_unique_(a)</th>\n",
       "      <th>intersections_sum_(a)</th>\n",
       "      <th>intersections_median_(a)</th>\n",
       "      <th>intersections_mean_(a)</th>\n",
       "      <th>intersections_min_(a)</th>\n",
       "      <th>...</th>\n",
       "      <th>cell_type_OUTDOOR_share_(b)</th>\n",
       "      <th>part_of_day_afternoon_sum_(b)</th>\n",
       "      <th>part_of_day_afternoon_share_(b)</th>\n",
       "      <th>part_of_day_evening_sum_(b)</th>\n",
       "      <th>part_of_day_evening_share_(b)</th>\n",
       "      <th>part_of_day_morning_sum_(b)</th>\n",
       "      <th>part_of_day_morning_share_(b)</th>\n",
       "      <th>part_of_day_night_sum_(b)</th>\n",
       "      <th>part_of_day_night_share_(b)</th>\n",
       "      <th>target</th>\n",
       "    </tr>\n",
       "  </thead>\n",
       "  <tbody>\n",
       "    <tr>\n",
       "      <th>0</th>\n",
       "      <td>158530880373</td>\n",
       "      <td>158524216845</td>\n",
       "      <td>1</td>\n",
       "      <td>0.008065</td>\n",
       "      <td>2.495436e-10</td>\n",
       "      <td>51</td>\n",
       "      <td>124.0</td>\n",
       "      <td>2.0</td>\n",
       "      <td>2.431373</td>\n",
       "      <td>1</td>\n",
       "      <td>...</td>\n",
       "      <td>1.000000</td>\n",
       "      <td>36.0</td>\n",
       "      <td>0.507042</td>\n",
       "      <td>0.0</td>\n",
       "      <td>0.000000</td>\n",
       "      <td>34.0</td>\n",
       "      <td>0.478873</td>\n",
       "      <td>1.0</td>\n",
       "      <td>0.014085</td>\n",
       "      <td>0</td>\n",
       "    </tr>\n",
       "    <tr>\n",
       "      <th>1</th>\n",
       "      <td>158530880373</td>\n",
       "      <td>158527193343</td>\n",
       "      <td>10</td>\n",
       "      <td>0.080645</td>\n",
       "      <td>2.850235e-09</td>\n",
       "      <td>51</td>\n",
       "      <td>124.0</td>\n",
       "      <td>2.0</td>\n",
       "      <td>2.431373</td>\n",
       "      <td>1</td>\n",
       "      <td>...</td>\n",
       "      <td>1.000000</td>\n",
       "      <td>48.0</td>\n",
       "      <td>0.410256</td>\n",
       "      <td>21.0</td>\n",
       "      <td>0.179487</td>\n",
       "      <td>33.0</td>\n",
       "      <td>0.282051</td>\n",
       "      <td>15.0</td>\n",
       "      <td>0.128205</td>\n",
       "      <td>0</td>\n",
       "    </tr>\n",
       "    <tr>\n",
       "      <th>2</th>\n",
       "      <td>158530880373</td>\n",
       "      <td>158523400283</td>\n",
       "      <td>2</td>\n",
       "      <td>0.016129</td>\n",
       "      <td>3.087672e-10</td>\n",
       "      <td>51</td>\n",
       "      <td>124.0</td>\n",
       "      <td>2.0</td>\n",
       "      <td>2.431373</td>\n",
       "      <td>1</td>\n",
       "      <td>...</td>\n",
       "      <td>0.942857</td>\n",
       "      <td>32.0</td>\n",
       "      <td>0.457143</td>\n",
       "      <td>18.0</td>\n",
       "      <td>0.257143</td>\n",
       "      <td>20.0</td>\n",
       "      <td>0.285714</td>\n",
       "      <td>0.0</td>\n",
       "      <td>0.000000</td>\n",
       "      <td>0</td>\n",
       "    </tr>\n",
       "  </tbody>\n",
       "</table>\n",
       "<p>3 rows × 98 columns</p>\n",
       "</div>"
      ],
      "text/plain": [
       "       msisdn_a      msisdn_b  intersections_num_(pair)  \\\n",
       "0  158530880373  158524216845                         1   \n",
       "1  158530880373  158527193343                        10   \n",
       "2  158530880373  158523400283                         2   \n",
       "\n",
       "   intersections_share_(pair)  cosine_distance_(pair)  \\\n",
       "0                    0.008065            2.495436e-10   \n",
       "1                    0.080645            2.850235e-09   \n",
       "2                    0.016129            3.087672e-10   \n",
       "\n",
       "   intersections_unique_(a)  intersections_sum_(a)  intersections_median_(a)  \\\n",
       "0                        51                  124.0                       2.0   \n",
       "1                        51                  124.0                       2.0   \n",
       "2                        51                  124.0                       2.0   \n",
       "\n",
       "   intersections_mean_(a)  intersections_min_(a)  ...  \\\n",
       "0                2.431373                      1  ...   \n",
       "1                2.431373                      1  ...   \n",
       "2                2.431373                      1  ...   \n",
       "\n",
       "   cell_type_OUTDOOR_share_(b)  part_of_day_afternoon_sum_(b)  \\\n",
       "0                     1.000000                           36.0   \n",
       "1                     1.000000                           48.0   \n",
       "2                     0.942857                           32.0   \n",
       "\n",
       "   part_of_day_afternoon_share_(b)  part_of_day_evening_sum_(b)  \\\n",
       "0                         0.507042                          0.0   \n",
       "1                         0.410256                         21.0   \n",
       "2                         0.457143                         18.0   \n",
       "\n",
       "   part_of_day_evening_share_(b)  part_of_day_morning_sum_(b)  \\\n",
       "0                       0.000000                         34.0   \n",
       "1                       0.179487                         33.0   \n",
       "2                       0.257143                         20.0   \n",
       "\n",
       "   part_of_day_morning_share_(b)  part_of_day_night_sum_(b)  \\\n",
       "0                       0.478873                        1.0   \n",
       "1                       0.282051                       15.0   \n",
       "2                       0.285714                        0.0   \n",
       "\n",
       "   part_of_day_night_share_(b)  target  \n",
       "0                     0.014085       0  \n",
       "1                     0.128205       0  \n",
       "2                     0.000000       0  \n",
       "\n",
       "[3 rows x 98 columns]"
      ]
     },
     "execution_count": 77,
     "metadata": {},
     "output_type": "execute_result"
    }
   ],
   "source": [
    "index_unseen, X_unseen, y_unseen = generate_X_y(joint_unseen, intersections_descriptions_unseen, data_descriptions)\n",
    "pd.concat([index_unseen, X_unseen, y_unseen], axis=1).head(3)"
   ]
  },
  {
   "cell_type": "markdown",
   "metadata": {},
   "source": [
    "Обучим модель на полном наборе (`train`) данных\n",
    "\n",
    "<i>P.S.\n",
    "<br/>Обращаем ваше внимание, что в настоящем ноутбуке `X` и `y` для обучающих выборок обозначаются без префиксов (например, `_train`)</i>"
   ]
  },
  {
   "cell_type": "code",
   "execution_count": 78,
   "metadata": {
    "scrolled": true
   },
   "outputs": [],
   "source": [
    "lgb_params ={\n",
    "    'task': 'train',\n",
    "    'objective': 'binary',\n",
    "    'metric': 'binary_logloss',\n",
    "    \n",
    "    'feature_fraction': 0.7, #1\n",
    "    'subsample': 1, # 1\n",
    "\n",
    "    'learning_rate': 0.001, # 0.1\n",
    "    'max_depth': 3, # -1\n",
    "    'num_leaves': 32, # 31\n",
    "\n",
    "    'reg_alpha': 2, # 0\n",
    "    'reg_lambda': 2, # 0\n",
    "\n",
    "    # 'min_split_gain': 10, #0\n",
    "    'min_data_in_leaf': 3, #20\n",
    "\n",
    "    'verbose_eval': -1,\n",
    "    'verbose': 1,\n",
    "\n",
    "    'num_iterations': 8634,\n",
    "    # 'early_stopping_round': 1000\n",
    "    }\n",
    "\n",
    "model = lgb_model_wo_test(lgb_params, X, y)"
   ]
  },
  {
   "cell_type": "markdown",
   "metadata": {},
   "source": [
    "Предскажем пары обученной моделью"
   ]
  },
  {
   "cell_type": "code",
   "execution_count": 79,
   "metadata": {},
   "outputs": [],
   "source": [
    "def generate_preds_via_model(msisdns, model, index, X):\n",
    "\n",
    "    probs = model.predict(X)\n",
    "\n",
    "    ranking = index.copy()\n",
    "    ranking['probs'] = probs\n",
    "\n",
    "    preds_via_model = []\n",
    "\n",
    "    for msisdn in msisdns:\n",
    "        if msisdn not in ranking.msisdn_a.tolist():\n",
    "            pred = np.nan\n",
    "\n",
    "        else:\n",
    "            ranking_msisdn = ranking[ranking.msisdn_a == msisdn]\n",
    "\n",
    "            max_prob = ranking_msisdn.probs.max()\n",
    "            ranking_pred = ranking_msisdn[ranking_msisdn.probs == max_prob]\n",
    "\n",
    "            pred = ranking_pred.msisdn_b.values[0]\n",
    "\n",
    "        preds_via_model.append(pred)\n",
    "    \n",
    "    return preds_via_model"
   ]
  },
  {
   "cell_type": "code",
   "execution_count": 80,
   "metadata": {},
   "outputs": [],
   "source": [
    "preds_via_model = generate_preds_via_model(msisdns, model, index_unseen, X_unseen)"
   ]
  },
  {
   "cell_type": "code",
   "execution_count": 81,
   "metadata": {},
   "outputs": [
    {
     "name": "stdout",
     "output_type": "stream",
     "text": [
      "accuracy: 0.25\n",
      "Conf. Int.:\n",
      "- Normal: (0.15511365160887547, 0.34488634839112453)\n",
      "- Wilson: (0.16806231857542375, 0.3548467461923397)\n",
      "\n",
      "accuracy: 0.3625\n",
      "Conf. Int.:\n",
      "- Normal: (0.2571590580338784, 0.4678409419661216)\n",
      "- Wilson: (0.2657079306444915, 0.4718920549777783)\n"
     ]
    }
   ],
   "source": [
    "_ = accuracy_for_preds(true, preds_top_pair); print()\n",
    "_ = accuracy_for_preds(true, preds_via_model)"
   ]
  },
  {
   "cell_type": "markdown",
   "metadata": {},
   "source": [
    "## <font color='57068c'>Идея 2: результаты</font>\n",
    "Неожиданно <font color='00985f'><b>результаты работы наивного алгоритма на unseen данных оказались хуже</b></font>, чем на train данных:\n",
    "* <font color='00985f'><b>точность</b></font> составила <font color='00985f'><b>25.0%</b></font> (5%-ый дов. инт.: от 15.5% до 34.5%) <font color='00985f'><b>против 35%</b></font> (5%-ый дов. инт.: от 27.6% до 42.4%) ранее;\n",
    "* правда, назвать различия статистически значимыми (на уровне 5%) нельзя, т.к. доверительные интервалы (для долей) пересекаются\n",
    "\n",
    "Стоит отметить, что <font color='00985f'><b>переобучиться наивный алгоритм не мог</b></font>, т.к. он основан просто на статистике пересечений. Так что <font color='00985f'><b>снижение качества — это</b></font>, скорее, <font color='00985f'><b>случайность</b></font> <i>(вина которой выбранный random_state в train_test_split :-))</i>\n",
    "\n",
    "При этом <font color='57068c'><b>обученный классификатор позволил увеличить точность предсказаний до 36.3%</b></font> (5%-ый дов. инт.: от 25.7% до 46.8%) против 25.0% (5%-ый дов. инт.: от 15.5% до 34.5%) ранее <font color='00985f'><b>на unseen данных</b></font>! Правда, <font color='57068c'><b>пока улучшение статистически не значимо</b></font> (на уровне 5%), т.к. доверительные интервалы пересекаются\n",
    "\n",
    "Следует отметить, что:\n",
    "* тюнинг параметров модели практически не осуществлялся, а также\n",
    "* была произведена лишь поверхностная попытка отбора признаков\n",
    "\n",
    "Т.е., <font color='00985f'><b>модель была обучена с параметрами практически «из коробки», что означает, что потенциал для улучшения должен быть</b></font>\n"
   ]
  }
 ],
 "metadata": {
  "kernelspec": {
   "display_name": "Python 3",
   "language": "python",
   "name": "python3"
  },
  "language_info": {
   "codemirror_mode": {
    "name": "ipython",
    "version": 3
   },
   "file_extension": ".py",
   "mimetype": "text/x-python",
   "name": "python",
   "nbconvert_exporter": "python",
   "pygments_lexer": "ipython3",
   "version": "3.7.4"
  }
 },
 "nbformat": 4,
 "nbformat_minor": 4
}
